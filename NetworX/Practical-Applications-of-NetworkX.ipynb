{
 "cells": [
  {
   "cell_type": "markdown",
   "id": "19548985",
   "metadata": {},
   "source": [
    "### 1. Social Network Analysis\n",
    "Social network analysis (SNA) has gained immense popularity across various domains, including sociology, marketing, and data-driven decision-making. NetworkX provides a comprehensive set of tools to analyze social networks and uncover hidden patterns. Let’s consider an example where we want to identify key influencers in a social network."
   ]
  },
  {
   "cell_type": "code",
   "execution_count": 1,
   "id": "4a5b7e93",
   "metadata": {},
   "outputs": [
    {
     "name": "stdout",
     "output_type": "stream",
     "text": [
      "Most influential users: ['David', 'Alice']\n"
     ]
    }
   ],
   "source": [
    "import networkx as nx\n",
    "\n",
    "# Create a social network graph\n",
    "social_graph = nx.Graph()\n",
    "\n",
    "# Add nodes (users)\n",
    "social_graph.add_nodes_from(['Alice', 'Bob', 'Charlie', 'David', 'Eve'])\n",
    "\n",
    "# Add edges (friendships)\n",
    "social_graph.add_edges_from([('Alice', 'Bob'), ('Alice', 'Charlie'), ('Bob', 'David'), ('Charlie', 'David'), ('Eve', 'David')])\n",
    "\n",
    "# Calculate degree centrality\n",
    "degree_centrality = nx.degree_centrality(social_graph)\n",
    "\n",
    "# Print the most influential users\n",
    "most_influential_users = sorted(degree_centrality, key=degree_centrality.get, reverse=True)[:2]\n",
    "print(\"Most influential users:\", most_influential_users)"
   ]
  },
  {
   "cell_type": "markdown",
   "id": "4291c91a",
   "metadata": {},
   "source": [
    "### 2. Transportation Network Analysis\n",
    "NetworkX provides powerful tools for analyzing transportation networks, such as road networks, flight routes, or public transportation systems. We can leverage NetworkX to calculate optimal routes, identify critical nodes, and assess network robustness. Let’s consider a scenario where we analyze a road network to find the shortest path between two locations."
   ]
  },
  {
   "cell_type": "code",
   "execution_count": 2,
   "id": "52bb8f87",
   "metadata": {},
   "outputs": [
    {
     "name": "stdout",
     "output_type": "stream",
     "text": [
      "Shortest path: ['A', 'C', 'D', 'E']\n"
     ]
    }
   ],
   "source": [
    "import networkx as nx\n",
    "\n",
    "# Create a road network graph\n",
    "road_network = nx.Graph()\n",
    "\n",
    "# Add nodes (locations)\n",
    "road_network.add_nodes_from(['A', 'B', 'C', 'D', 'E'])\n",
    "\n",
    "# Add edges (roads) with their respective weights (distances)\n",
    "road_network.add_edge('A', 'B', weight=5)\n",
    "road_network.add_edge('A', 'C', weight=3)\n",
    "road_network.add_edge('B', 'D', weight=2)\n",
    "road_network.add_edge('C', 'D', weight=4)\n",
    "road_network.add_edge('D', 'E', weight=6)\n",
    "\n",
    "# Calculate the shortest path between two locations\n",
    "shortest_path = nx.shortest_path(road_network, 'A', 'E', weight='weight')\n",
    "print(\"Shortest path:\", shortest_path)"
   ]
  },
  {
   "cell_type": "markdown",
   "id": "39813fc0",
   "metadata": {},
   "source": [
    "### 3. Biological Network Analysis\n",
    "NetworkX offers a wide range of algorithms and functions for analyzing biological networks, such as protein-protein interaction networks or gene regulatory networks. These analyses can provide insights into complex biological processes and help identify key components. Let’s explore an example where we analyze a gene regulatory network."
   ]
  },
  {
   "cell_type": "code",
   "execution_count": 3,
   "id": "5d9b1fb7",
   "metadata": {},
   "outputs": [
    {
     "name": "stdout",
     "output_type": "stream",
     "text": [
      "GeneA regulates GeneD: False\n"
     ]
    }
   ],
   "source": [
    "import networkx as nx\n",
    "\n",
    "# Create a gene regulatory network graph\n",
    "gene_network = nx.DiGraph()\n",
    "\n",
    "# Add nodes (genes)\n",
    "gene_network.add_nodes_from(['GeneA', 'GeneB', 'GeneC', 'GeneD'])\n",
    "\n",
    "# Add edges (regulations)\n",
    "gene_network.add_edges_from([('GeneA', 'GeneB'), ('GeneA', 'GeneC'), ('GeneB', 'GeneD'), ('GeneC', 'GeneD')])\n",
    "\n",
    "# Check if GeneA regulates GeneD\n",
    "is_regulating = gene_network.has_edge('GeneA', 'GeneD')\n",
    "print(\"GeneA regulates GeneD:\", is_regulating)"
   ]
  },
  {
   "cell_type": "markdown",
   "id": "c3fff56f",
   "metadata": {},
   "source": [
    "### 4. Recommendation Systems\n",
    "NetworkX can also be used to build recommendation systems based on collaborative filtering or similarity measures. By modeling user-item interactions as a network, we can leverage NetworkX algorithms to make personalized recommendations. Let’s consider a scenario where we build a basic user-item recommendation system using the Jaccard similarity coefficient."
   ]
  },
  {
   "cell_type": "code",
   "execution_count": 4,
   "id": "bdde8380",
   "metadata": {},
   "outputs": [
    {
     "name": "stdout",
     "output_type": "stream",
     "text": [
      "UserA and UserB similarity: 0.5\n"
     ]
    }
   ],
   "source": [
    "import networkx as nx\n",
    "\n",
    "# Create a user-item network graph\n",
    "user_item_network = nx.Graph()\n",
    "\n",
    "# Add nodes (users and items)\n",
    "user_item_network.add_nodes_from(['UserA', 'UserB', 'UserC', 'Item1', 'Item2', 'Item3'])\n",
    "\n",
    "# Add edges (user-item interactions)\n",
    "user_item_network.add_edges_from([('UserA', 'Item1'), ('UserA', 'Item2'), ('UserB', 'Item2'), ('UserC', 'Item3')])\n",
    "\n",
    "# Calculate Jaccard similarity between users\n",
    "def jaccard_similarity(u, v):\n",
    "    u_neighbors = set(user_item_network.neighbors(u))\n",
    "    v_neighbors = set(user_item_network.neighbors(v))\n",
    "    intersection = len(u_neighbors.intersection(v_neighbors))\n",
    "    union = len(u_neighbors.union(v_neighbors))\n",
    "    return intersection / union\n",
    "\n",
    "# Calculate user-user similarity\n",
    "user_sim = jaccard_similarity('UserA', 'UserB')\n",
    "print(\"UserA and UserB similarity:\", user_sim)"
   ]
  }
 ],
 "metadata": {
  "kernelspec": {
   "display_name": "Python 3",
   "language": "python",
   "name": "python3"
  },
  "language_info": {
   "codemirror_mode": {
    "name": "ipython",
    "version": 3
   },
   "file_extension": ".py",
   "mimetype": "text/x-python",
   "name": "python",
   "nbconvert_exporter": "python",
   "pygments_lexer": "ipython3",
   "version": "3.12.4"
  }
 },
 "nbformat": 4,
 "nbformat_minor": 5
}
