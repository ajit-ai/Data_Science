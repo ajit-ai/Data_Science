{
  "cells": [
    {
      "cell_type": "markdown",
      "metadata": {
        "colab_type": "text",
        "id": "view-in-github"
      },
      "source": [
        "<a href=\"https://colab.research.google.com/github/ajit-ai/DataScience/blob/main/Zomato_Data_Analysis_Using_Python.ipynb\" target=\"_parent\"><img src=\"https://colab.research.google.com/assets/colab-badge.svg\" alt=\"Open In Colab\"/></a>"
      ]
    },
    {
      "cell_type": "code",
      "execution_count": null,
      "metadata": {},
      "outputs": [],
      "source": [
        "%pip install --upgrade numpy\n",
        "%pip install --upgrade pandas \n",
        "%pip install --upgrade pyxel-damerau-levenshtein"
      ]
    },
    {
      "cell_type": "code",
      "execution_count": null,
      "metadata": {
        "colab": {
          "base_uri": "https://localhost:8080/"
        },
        "id": "sr7mf7QXyKK5",
        "outputId": "89563385-c2a9-4371-c7b1-7144acd18981"
      },
      "outputs": [
        {
          "name": "stdout",
          "output_type": "stream",
          "text": [
            "                    name online_order book_table   rate  votes  \\\n",
            "0                  Jalsa          Yes        Yes  4.1/5    775   \n",
            "1         Spice Elephant          Yes         No  4.1/5    787   \n",
            "2        San Churro Cafe          Yes         No  3.8/5    918   \n",
            "3  Addhuri Udupi Bhojana           No         No  3.7/5     88   \n",
            "4          Grand Village           No         No  3.8/5    166   \n",
            "\n",
            "   approx_cost(for two people) listed_in(type)  \n",
            "0                          800          Buffet  \n",
            "1                          800          Buffet  \n",
            "2                          800          Buffet  \n",
            "3                          300          Buffet  \n",
            "4                          600          Buffet  \n"
          ]
        }
      ],
      "source": [
        "import pandas as pd\n",
        "import numpy as np\n",
        "import matplotlib.pyplot as plt\n",
        "import seaborn as sns\n",
        "\n",
        "dataframe = pd.read_csv(\"content/Zomato-data-.csv\")\n",
        "print(dataframe.head())"
      ]
    },
    {
      "cell_type": "code",
      "execution_count": null,
      "metadata": {
        "colab": {
          "base_uri": "https://localhost:8080/"
        },
        "id": "iLdOe_vmyXN6",
        "outputId": "405ab868-b0fd-4fb2-fa50-cc807093fe29"
      },
      "outputs": [],
      "source": [
        "def handleRate(value):\n",
        "    value=str(value).split('/')\n",
        "    value=value[0];\n",
        "    return float(value)\n",
        "\n",
        "dataframe['rate']=dataframe['rate'].apply(handleRate)\n",
        "print(dataframe.head())"
      ]
    },
    {
      "cell_type": "code",
      "execution_count": null,
      "metadata": {
        "colab": {
          "base_uri": "https://localhost:8080/"
        },
        "id": "P9mNKWmuzcky",
        "outputId": "87f820da-c77f-4e2a-c3b0-3f93149f0448"
      },
      "outputs": [],
      "source": [
        "dataframe.info()"
      ]
    },
    {
      "cell_type": "code",
      "execution_count": null,
      "metadata": {
        "colab": {
          "base_uri": "https://localhost:8080/",
          "height": 466
        },
        "id": "Xlo009UMzerr",
        "outputId": "54225e54-5dd4-45ed-e74d-7d2e83326a30"
      },
      "outputs": [],
      "source": [
        "sns.countplot(x=dataframe['listed_in(type)'])\n",
        "plt.xlabel(\"Type of restaurant\")"
      ]
    },
    {
      "cell_type": "code",
      "execution_count": null,
      "metadata": {
        "colab": {
          "base_uri": "https://localhost:8080/",
          "height": 480
        },
        "id": "OqSeDc-Gzgny",
        "outputId": "7313f9ef-7112-423f-955b-224722cd4614"
      },
      "outputs": [],
      "source": [
        "grouped_data = dataframe.groupby('listed_in(type)')['votes'].sum()\n",
        "result = pd.DataFrame({'votes': grouped_data})\n",
        "plt.plot(result, c='green', marker='o')\n",
        "plt.xlabel('Type of restaurant', c='red', size=20)\n",
        "plt.ylabel('Votes', c='red', size=20)"
      ]
    },
    {
      "cell_type": "code",
      "execution_count": null,
      "metadata": {
        "colab": {
          "base_uri": "https://localhost:8080/"
        },
        "id": "Myj9a981znG_",
        "outputId": "900fe726-034b-4506-a162-c93f97ef7c15"
      },
      "outputs": [],
      "source": [
        "max_votes = dataframe['votes'].max()\n",
        "restaurant_with_max_votes = dataframe.loc[dataframe['votes'] == max_votes, 'name']\n",
        "\n",
        "print('Restaurant(s) with the maximum votes:')\n",
        "print(restaurant_with_max_votes)"
      ]
    },
    {
      "cell_type": "code",
      "execution_count": null,
      "metadata": {
        "colab": {
          "base_uri": "https://localhost:8080/",
          "height": 467
        },
        "id": "rE5Y2FQSzqFZ",
        "outputId": "3e241b6d-2358-43b2-a224-b99a1bb7c018"
      },
      "outputs": [],
      "source": [
        "sns.countplot(x=dataframe['online_order'])"
      ]
    },
    {
      "cell_type": "code",
      "execution_count": null,
      "metadata": {
        "colab": {
          "base_uri": "https://localhost:8080/",
          "height": 452
        },
        "id": "nO_WGfPYzsQh",
        "outputId": "1c4bb681-2d20-4d20-8d6b-00971156bd6a"
      },
      "outputs": [],
      "source": [
        "plt.hist(dataframe['rate'],bins=5)\n",
        "plt.title('Ratings Distribution')\n",
        "plt.show()"
      ]
    },
    {
      "cell_type": "code",
      "execution_count": null,
      "metadata": {
        "colab": {
          "base_uri": "https://localhost:8080/",
          "height": 467
        },
        "id": "Me5cB5eUzuBB",
        "outputId": "f66760f9-0e2a-473c-9b87-1b5a2e6043cf"
      },
      "outputs": [],
      "source": [
        "couple_data=dataframe['approx_cost(for two people)']\n",
        "sns.countplot(x=couple_data)"
      ]
    },
    {
      "cell_type": "code",
      "execution_count": null,
      "metadata": {
        "colab": {
          "base_uri": "https://localhost:8080/",
          "height": 559
        },
        "id": "iF7F2T4QzvtT",
        "outputId": "d74ca52e-af2c-48cd-929c-9b997a89fbd2"
      },
      "outputs": [],
      "source": [
        "plt.figure(figsize = (6,6))\n",
        "sns.boxplot(x = 'online_order', y = 'rate', data = dataframe)"
      ]
    },
    {
      "cell_type": "code",
      "execution_count": null,
      "metadata": {
        "colab": {
          "base_uri": "https://localhost:8080/",
          "height": 472
        },
        "id": "0_mChevvzyM_",
        "outputId": "fa29953d-10a9-4771-f5b6-8951d49fb442"
      },
      "outputs": [],
      "source": [
        "pivot_table = dataframe.pivot_table(index='listed_in(type)', columns='online_order', aggfunc='size', fill_value=0)\n",
        "sns.heatmap(pivot_table, annot=True, cmap='YlGnBu', fmt='d')\n",
        "plt.title('Heatmap')\n",
        "plt.xlabel('Online Order')\n",
        "plt.ylabel('Listed In (Type)')\n",
        "plt.show()"
      ]
    },
    {
      "cell_type": "code",
      "execution_count": null,
      "metadata": {
        "id": "8joiwmKezz3Z"
      },
      "outputs": [],
      "source": []
    }
  ],
  "metadata": {
    "colab": {
      "include_colab_link": true,
      "provenance": []
    },
    "kernelspec": {
      "display_name": "Python 3",
      "name": "python3"
    },
    "language_info": {
      "codemirror_mode": {
        "name": "ipython",
        "version": 3
      },
      "file_extension": ".py",
      "mimetype": "text/x-python",
      "name": "python",
      "nbconvert_exporter": "python",
      "pygments_lexer": "ipython3",
      "version": "3.12.4"
    }
  },
  "nbformat": 4,
  "nbformat_minor": 0
}
