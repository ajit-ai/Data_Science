{
  "nbformat": 4,
  "nbformat_minor": 0,
  "metadata": {
    "colab": {
      "provenance": [],
      "authorship_tag": "ABX9TyPnSCvdo9N/QHIZ+g7fRabf",
      "include_colab_link": true
    },
    "kernelspec": {
      "name": "python3",
      "display_name": "Python 3"
    },
    "language_info": {
      "name": "python"
    }
  },
  "cells": [
    {
      "cell_type": "markdown",
      "metadata": {
        "id": "view-in-github",
        "colab_type": "text"
      },
      "source": [
        "<a href=\"https://colab.research.google.com/github/ajit-ai/DataScience/blob/main/PySparkMysql.ipynb\" target=\"_parent\"><img src=\"https://colab.research.google.com/assets/colab-badge.svg\" alt=\"Open In Colab\"/></a>"
      ]
    },
    {
      "cell_type": "code",
      "metadata": {
        "colab": {
          "base_uri": "https://localhost:8080/"
        },
        "id": "f892667f",
        "outputId": "6c59289b-483c-4c6f-e594-360253136304"
      },
      "source": [
        "%pip install mysql-connector-python"
      ],
      "execution_count": null,
      "outputs": [
        {
          "output_type": "stream",
          "name": "stdout",
          "text": [
            "Collecting mysql-connector-python\n",
            "  Downloading mysql_connector_python-9.3.0-cp311-cp311-manylinux_2_28_x86_64.whl.metadata (7.2 kB)\n",
            "Downloading mysql_connector_python-9.3.0-cp311-cp311-manylinux_2_28_x86_64.whl (33.9 MB)\n",
            "\u001b[2K   \u001b[90m━━━━━━━━━━━━━━━━━━━━━━━━━━━━━━━━━━━━━━━━\u001b[0m \u001b[32m33.9/33.9 MB\u001b[0m \u001b[31m53.3 MB/s\u001b[0m eta \u001b[36m0:00:00\u001b[0m\n",
            "\u001b[?25hInstalling collected packages: mysql-connector-python\n",
            "Successfully installed mysql-connector-python-9.3.0\n"
          ]
        }
      ]
    },
    {
      "cell_type": "code",
      "source": [
        "# First, install the mysql-connector-python package if not already installed\n",
        "# !pip install mysql-connector-python\n",
        "\n",
        "import mysql.connector\n",
        "\n",
        "try:\n",
        "    # Connecting to MySQL 8 database\n",
        "    mydb = mysql.connector.connect(\n",
        "        host='localhost',\n",
        "        database='emp',  # Replace with your actual database name\n",
        "        user='root',                    # Replace with your MySQL username\n",
        "        password='mysql',       # Replace with your MySQL password\n",
        "        #auth_plugin='mysql'  # Specific for MySQL 8\n",
        "        auth_plugin='mysql_native_password'\n",
        "    )\n",
        "\n",
        "    # Create a cursor object\n",
        "    cursor = mydb.cursor()\n",
        "\n",
        "    # Execute a simple SELECT query\n",
        "    query = \"SELECT * FROM employee\"  # Replace with your actual table name\n",
        "    cursor.execute(query)\n",
        "\n",
        "    # Fetch and print all records\n",
        "    records = cursor.fetchall()\n",
        "\n",
        "    # Print column names\n",
        "    column_names = [i[0] for i in cursor.description]\n",
        "    print(\"Column names:\", column_names)\n",
        "\n",
        "    # Print each record\n",
        "    print(\"\\nRecords:\")\n",
        "    for record in records:\n",
        "        print(record)\n",
        "\n",
        "except mysql.connector.Error as error:\n",
        "    print(f\"Error connecting to MySQL: {error}\")\n",
        "\n",
        "finally:\n",
        "    # Close the connection\n",
        "    if 'mydb' in locals() and mydb.is_connected():\n",
        "        cursor.close()\n",
        "        mydb.close()\n",
        "        print(\"\\nMySQL connection is closed\")"
      ],
      "metadata": {
        "colab": {
          "base_uri": "https://localhost:8080/"
        },
        "id": "wBPWHsk-D3TD",
        "outputId": "0b707292-235a-467b-c824-5104ea8dd435"
      },
      "execution_count": null,
      "outputs": [
        {
          "output_type": "stream",
          "name": "stdout",
          "text": [
            "Error connecting to MySQL: 2003: Can't connect to MySQL server on 'localhost:3306' (Errno 111: Connection refused)\n"
          ]
        }
      ]
    }
  ]
}