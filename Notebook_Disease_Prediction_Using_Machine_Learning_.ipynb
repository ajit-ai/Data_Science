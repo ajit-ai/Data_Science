{
  "cells": [
    {
      "cell_type": "markdown",
      "metadata": {
        "colab_type": "text",
        "id": "view-in-github"
      },
      "source": [
        "<a href=\"https://colab.research.google.com/github/ajit-ai/DataScience/blob/main/Notebook_Disease_Prediction_Using_Machine_Learning_.ipynb\" target=\"_parent\"><img src=\"https://colab.research.google.com/assets/colab-badge.svg\" alt=\"Open In Colab\"/></a>"
      ]
    },
    {
      "cell_type": "code",
      "execution_count": null,
      "metadata": {
        "id": "l2rXR-0-uT21"
      },
      "outputs": [],
      "source": [
        "import numpy as np\n",
        "import pandas as pd\n",
        "import matplotlib.pyplot as plt\n",
        "import seaborn as sns\n",
        "from statistics import mode\n",
        "\n",
        "from sklearn.preprocessing import LabelEncoder\n",
        "from sklearn.model_selection import StratifiedKFold, cross_val_score\n",
        "from sklearn.svm import SVC\n",
        "from sklearn.naive_bayes import GaussianNB\n",
        "from sklearn.ensemble import RandomForestClassifier\n",
        "from sklearn.metrics import accuracy_score, confusion_matrix\n",
        "from imblearn.over_sampling import RandomOverSampler\n"
      ]
    },
    {
      "cell_type": "code",
      "execution_count": null,
      "metadata": {
        "colab": {
          "base_uri": "https://localhost:8080/",
          "height": 1000
        },
        "id": "1k5fps007b5_",
        "outputId": "9b16f9b5-dbc6-435f-aeb0-3afff385db36"
      },
      "outputs": [],
      "source": [
        "data = pd.read_csv('/content/improved_disease_dataset.csv')\n",
        "\n",
        "# Encode prognosis (target variable)\n",
        "encoder = LabelEncoder()\n",
        "data[\"disease\"] = encoder.fit_transform(data[\"disease\"])\n",
        "\n",
        "# Features and target\n",
        "X = data.iloc[:, :-1]\n",
        "y = data.iloc[:, -1]\n",
        "\n",
        "# Visualize class distribution before balancing\n",
        "plt.figure(figsize=(18, 8))\n",
        "sns.countplot(x=y)\n",
        "plt.title(\"Disease Class Distribution Before Resampling\")\n",
        "plt.xticks(rotation=90)\n",
        "plt.show()\n",
        "\n",
        "# Balance data using oversampling\n",
        "ros = RandomOverSampler(random_state=42)\n",
        "X_resampled, y_resampled = ros.fit_resample(X, y)\n",
        "\n",
        "# Show new class distribution\n",
        "print(\"Resampled Class Distribution:\\n\", pd.Series(y_resampled).value_counts())\n",
        "\n"
      ]
    },
    {
      "cell_type": "code",
      "execution_count": null,
      "metadata": {
        "colab": {
          "base_uri": "https://localhost:8080/"
        },
        "id": "vTKfh2m34jTC",
        "outputId": "eb07565a-5376-4abb-dcd2-a61a67adb3c3"
      },
      "outputs": [],
      "source": [
        "from sklearn.model_selection import cross_val_score, StratifiedKFold\n",
        "from sklearn.preprocessing import LabelEncoder\n",
        "from sklearn.ensemble import RandomForestClassifier\n",
        "from sklearn.svm import SVC\n",
        "\n",
        "from sklearn.tree import DecisionTreeClassifier\n",
        "import numpy as np\n",
        "import pandas as pd\n",
        "\n",
        "# -------------------------------\n",
        "# Step 1: Prepare the dataset\n",
        "# -------------------------------\n",
        "# Ensure 'gender' is encoded if present\n",
        "if 'gender' in X_resampled.columns:\n",
        "    le = LabelEncoder()\n",
        "    X_resampled['gender'] = le.fit_transform(X_resampled['gender'])\n",
        "\n",
        "# Fill missing values (optional)\n",
        "X_resampled = X_resampled.fillna(0)\n",
        "\n",
        "# Ensure y is 1D\n",
        "if len(y_resampled.shape) > 1:\n",
        "    y_resampled = y_resampled.values.ravel()\n",
        "\n",
        "# -------------------------------\n",
        "# Step 2: Define models\n",
        "# -------------------------------\n",
        "models = {\n",
        "\n",
        "\n",
        "    \"SVM\": SVC(),\n",
        "    \"Decision Tree\": DecisionTreeClassifier(),\n",
        "    \"Random Forest\": RandomForestClassifier()\n",
        "}\n",
        "\n",
        "# -------------------------------\n",
        "# Step 3: Cross-validation setup\n",
        "# -------------------------------\n",
        "cv_scoring = 'accuracy'  # you can also use 'f1_weighted', 'roc_auc_ovr' for multi-class\n",
        "stratified_kfold = StratifiedKFold(n_splits=5, shuffle=True, random_state=42)\n",
        "\n",
        "# -------------------------------\n",
        "# Step 4: Run cross-validation\n",
        "# -------------------------------\n",
        "for model_name, model in models.items():\n",
        "    try:\n",
        "        scores = cross_val_score(\n",
        "            model,\n",
        "            X_resampled,\n",
        "            y_resampled,\n",
        "            cv=stratified_kfold,\n",
        "            scoring=cv_scoring,\n",
        "            n_jobs=-1,\n",
        "            error_score='raise'  # Forces traceback for easier debugging\n",
        "        )\n",
        "        print(\"=\" * 50)\n",
        "        print(f\"Model: {model_name}\")\n",
        "        print(f\"Scores: {scores}\")\n",
        "        print(f\"Mean Accuracy: {scores.mean():.4f}\")\n",
        "    except Exception as e:\n",
        "        print(\"=\" * 50)\n",
        "        print(f\"Model: {model_name} failed with error:\")\n",
        "        print(e)\n"
      ]
    },
    {
      "cell_type": "code",
      "execution_count": null,
      "metadata": {
        "colab": {
          "base_uri": "https://localhost:8080/",
          "height": 716
        },
        "id": "9uhu6TWD7qHG",
        "outputId": "7fffa86e-aefc-4608-d691-3e2d9f7d3ef4"
      },
      "outputs": [],
      "source": [
        "# Train and evaluate SVM Classifier\n",
        "svm_model = SVC()\n",
        "svm_model.fit(X_resampled, y_resampled)\n",
        "svm_preds = svm_model.predict(X_resampled)\n",
        "\n",
        "# Confusion Matrix for SVM\n",
        "cf_matrix_svm = confusion_matrix(y_resampled, svm_preds)\n",
        "plt.figure(figsize=(12, 8))\n",
        "sns.heatmap(cf_matrix_svm, annot=True, fmt=\"d\")\n",
        "plt.title(\"Confusion Matrix for SVM Classifier\")\n",
        "plt.show()\n",
        "\n",
        "print(f\"SVM Accuracy: {accuracy_score(y_resampled, svm_preds) * 100:.2f}%\")"
      ]
    },
    {
      "cell_type": "code",
      "execution_count": null,
      "metadata": {
        "colab": {
          "base_uri": "https://localhost:8080/",
          "height": 716
        },
        "id": "gO9WxMcE8t81",
        "outputId": "4ac3b22c-274f-48f4-f30f-bd0ea0103a63"
      },
      "outputs": [],
      "source": [
        "# Train and evaluate Naive Bayes Classifier\n",
        "nb_model = GaussianNB()\n",
        "nb_model.fit(X_resampled, y_resampled)\n",
        "nb_preds = nb_model.predict(X_resampled)\n",
        "\n",
        "# Confusion Matrix for Naive Bayes\n",
        "cf_matrix_nb = confusion_matrix(y_resampled, nb_preds)\n",
        "plt.figure(figsize=(12, 8))\n",
        "sns.heatmap(cf_matrix_nb, annot=True, fmt=\"d\")\n",
        "plt.title(\"Confusion Matrix for Naive Bayes Classifier\")\n",
        "plt.show()\n",
        "\n",
        "print(f\"Naive Bayes Accuracy: {accuracy_score(y_resampled, nb_preds) * 100:.2f}%\")"
      ]
    },
    {
      "cell_type": "code",
      "execution_count": null,
      "metadata": {
        "colab": {
          "base_uri": "https://localhost:8080/",
          "height": 716
        },
        "id": "TOK9Wt8f85Fu",
        "outputId": "a0db8aa4-396c-4e9a-e508-23149a1de4d2"
      },
      "outputs": [],
      "source": [
        "# Train and evaluate Random Forest Classifier\n",
        "rf_model = RandomForestClassifier(random_state=42)\n",
        "rf_model.fit(X_resampled, y_resampled)\n",
        "rf_preds = rf_model.predict(X_resampled)\n",
        "\n",
        "# Confusion Matrix for Random Forest\n",
        "cf_matrix_rf = confusion_matrix(y_resampled, rf_preds)\n",
        "plt.figure(figsize=(12, 8))\n",
        "sns.heatmap(cf_matrix_rf, annot=True, fmt=\"d\")\n",
        "plt.title(\"Confusion Matrix for Random Forest Classifier\")\n",
        "plt.show()\n",
        "\n",
        "print(f\"Random Forest Accuracy: {accuracy_score(y_resampled, rf_preds) * 100:.2f}%\")"
      ]
    },
    {
      "cell_type": "code",
      "execution_count": null,
      "metadata": {
        "colab": {
          "base_uri": "https://localhost:8080/",
          "height": 716
        },
        "id": "ST6qYlbN9A4c",
        "outputId": "06135e22-7a3b-46ce-ff88-0b579b0f6e66"
      },
      "outputs": [],
      "source": [
        "from statistics import mode\n",
        "\n",
        "# Combine predictions\n",
        "final_preds = [mode([i, j, k]) for i, j, k in zip(svm_preds, nb_preds, rf_preds)]\n",
        "\n",
        "# Confusion Matrix for Combined Model\n",
        "cf_matrix_combined = confusion_matrix(y_resampled, final_preds)\n",
        "plt.figure(figsize=(12, 8))\n",
        "sns.heatmap(cf_matrix_combined, annot=True, fmt=\"d\")\n",
        "plt.title(\"Confusion Matrix for Combined Model\")\n",
        "plt.show()\n",
        "\n",
        "print(f\"Combined Model Accuracy: {accuracy_score(y_resampled, final_preds) * 100:.2f}%\")"
      ]
    },
    {
      "cell_type": "code",
      "execution_count": null,
      "metadata": {
        "colab": {
          "base_uri": "https://localhost:8080/"
        },
        "id": "2nxd7Ptc9Kiw",
        "outputId": "f51f18f0-dc5e-4dde-f34c-ada98aa6245d"
      },
      "outputs": [],
      "source": [
        "symptoms = X.columns.values\n",
        "symptom_index = {symptom: idx for idx, symptom in enumerate(symptoms)}\n",
        "\n",
        "def predict_disease(input_symptoms):\n",
        "    input_symptoms = input_symptoms.split(\",\")\n",
        "    input_data = [0] * len(symptom_index)\n",
        "\n",
        "    for symptom in input_symptoms:\n",
        "        if symptom in symptom_index:\n",
        "            input_data[symptom_index[symptom]] = 1\n",
        "\n",
        "    input_data = np.array(input_data).reshape(1, -1)\n",
        "\n",
        "    # Generate predictions\n",
        "    rf_pred = encoder.classes_[rf_model.predict(input_data)[0]]\n",
        "    nb_pred = encoder.classes_[nb_model.predict(input_data)[0]]\n",
        "    svm_pred = encoder.classes_[svm_model.predict(input_data)[0]]\n",
        "\n",
        "    # Final prediction\n",
        "    final_pred = mode([rf_pred, nb_pred, svm_pred])\n",
        "\n",
        "    return {\n",
        "        \"Random Forest Prediction\": rf_pred,\n",
        "        \"Naive Bayes Prediction\": nb_pred,\n",
        "        \"SVM Prediction\": svm_pred,\n",
        "        \"Final Prediction\": final_pred\n",
        "    }\n",
        "\n",
        "# Test the function\n",
        "print(predict_disease(\"Itching,Skin Rash,Nodal Skin Eruptions\"))"
      ]
    }
  ],
  "metadata": {
    "accelerator": "GPU",
    "colab": {
      "gpuType": "T4",
      "include_colab_link": true,
      "provenance": []
    },
    "kernelspec": {
      "display_name": "Python 3",
      "name": "python3"
    },
    "language_info": {
      "name": "python",
      "version": "3.12.4"
    }
  },
  "nbformat": 4,
  "nbformat_minor": 0
}
