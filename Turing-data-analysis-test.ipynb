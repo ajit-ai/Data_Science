{
 "cells": [
  {
   "cell_type": "code",
   "execution_count": 1,
   "id": "59507882",
   "metadata": {
    "_cell_guid": "b1076dfc-b9ad-4769-8c92-a6c4dae69d19",
    "_uuid": "8f2839f25d086af736a60e9eeb907d3b93b6e0e5",
    "execution": {
     "iopub.execute_input": "2024-04-27T11:35:24.307497Z",
     "iopub.status.busy": "2024-04-27T11:35:24.306598Z",
     "iopub.status.idle": "2024-04-27T11:35:26.977344Z",
     "shell.execute_reply": "2024-04-27T11:35:26.975926Z"
    },
    "papermill": {
     "duration": 2.694975,
     "end_time": "2024-04-27T11:35:26.980518",
     "exception": false,
     "start_time": "2024-04-27T11:35:24.285543",
     "status": "completed"
    },
    "tags": []
   },
   "outputs": [],
   "source": [
    "import numpy as np # linear algebra\n",
    "import pandas as pd # data processing, CSV file I/O (e.g. pd.read_csv)\n",
    "import matplotlib.pylab as plt #\n",
    "import seaborn as sns"
   ]
  },
  {
   "cell_type": "code",
   "execution_count": 2,
   "id": "5ae8722b",
   "metadata": {
    "execution": {
     "iopub.execute_input": "2024-04-27T11:35:27.019702Z",
     "iopub.status.busy": "2024-04-27T11:35:27.018941Z",
     "iopub.status.idle": "2024-04-27T11:35:27.220188Z",
     "shell.execute_reply": "2024-04-27T11:35:27.218880Z"
    },
    "papermill": {
     "duration": 0.224027,
     "end_time": "2024-04-27T11:35:27.223163",
     "exception": false,
     "start_time": "2024-04-27T11:35:26.999136",
     "status": "completed"
    },
    "tags": []
   },
   "outputs": [],
   "source": [
    "c_base = pd.read_csv(\"content/cardio_base.csv\")\n",
    "c_alco = pd.read_csv(\"content/cardio_alco.csv\",sep=\";\")\n",
    "covid_t = pd.read_csv(\"content/covid_data.csv\")"
   ]
  },
  {
   "cell_type": "code",
   "execution_count": 3,
   "id": "516eb4e5",
   "metadata": {
    "execution": {
     "iopub.execute_input": "2024-04-27T11:35:27.264974Z",
     "iopub.status.busy": "2024-04-27T11:35:27.264298Z",
     "iopub.status.idle": "2024-04-27T11:35:27.287877Z",
     "shell.execute_reply": "2024-04-27T11:35:27.286556Z"
    },
    "papermill": {
     "duration": 0.048042,
     "end_time": "2024-04-27T11:35:27.291112",
     "exception": false,
     "start_time": "2024-04-27T11:35:27.243070",
     "status": "completed"
    },
    "tags": []
   },
   "outputs": [
    {
     "data": {
      "text/html": [
       "<div>\n",
       "<style scoped>\n",
       "    .dataframe tbody tr th:only-of-type {\n",
       "        vertical-align: middle;\n",
       "    }\n",
       "\n",
       "    .dataframe tbody tr th {\n",
       "        vertical-align: top;\n",
       "    }\n",
       "\n",
       "    .dataframe thead th {\n",
       "        text-align: right;\n",
       "    }\n",
       "</style>\n",
       "<table border=\"1\" class=\"dataframe\">\n",
       "  <thead>\n",
       "    <tr style=\"text-align: right;\">\n",
       "      <th></th>\n",
       "      <th>id</th>\n",
       "      <th>age</th>\n",
       "      <th>gender</th>\n",
       "      <th>height</th>\n",
       "      <th>weight</th>\n",
       "      <th>ap_hi</th>\n",
       "      <th>ap_lo</th>\n",
       "      <th>cholesterol</th>\n",
       "      <th>smoke</th>\n",
       "    </tr>\n",
       "  </thead>\n",
       "  <tbody>\n",
       "    <tr>\n",
       "      <th>0</th>\n",
       "      <td>0</td>\n",
       "      <td>18393</td>\n",
       "      <td>2</td>\n",
       "      <td>168</td>\n",
       "      <td>62.0</td>\n",
       "      <td>110</td>\n",
       "      <td>80</td>\n",
       "      <td>1</td>\n",
       "      <td>0</td>\n",
       "    </tr>\n",
       "    <tr>\n",
       "      <th>1</th>\n",
       "      <td>1</td>\n",
       "      <td>20228</td>\n",
       "      <td>1</td>\n",
       "      <td>156</td>\n",
       "      <td>85.0</td>\n",
       "      <td>140</td>\n",
       "      <td>90</td>\n",
       "      <td>3</td>\n",
       "      <td>0</td>\n",
       "    </tr>\n",
       "    <tr>\n",
       "      <th>2</th>\n",
       "      <td>2</td>\n",
       "      <td>18857</td>\n",
       "      <td>1</td>\n",
       "      <td>165</td>\n",
       "      <td>64.0</td>\n",
       "      <td>130</td>\n",
       "      <td>70</td>\n",
       "      <td>3</td>\n",
       "      <td>0</td>\n",
       "    </tr>\n",
       "    <tr>\n",
       "      <th>3</th>\n",
       "      <td>3</td>\n",
       "      <td>17623</td>\n",
       "      <td>2</td>\n",
       "      <td>169</td>\n",
       "      <td>82.0</td>\n",
       "      <td>150</td>\n",
       "      <td>100</td>\n",
       "      <td>1</td>\n",
       "      <td>0</td>\n",
       "    </tr>\n",
       "    <tr>\n",
       "      <th>4</th>\n",
       "      <td>4</td>\n",
       "      <td>17474</td>\n",
       "      <td>1</td>\n",
       "      <td>156</td>\n",
       "      <td>56.0</td>\n",
       "      <td>100</td>\n",
       "      <td>60</td>\n",
       "      <td>1</td>\n",
       "      <td>0</td>\n",
       "    </tr>\n",
       "  </tbody>\n",
       "</table>\n",
       "</div>"
      ],
      "text/plain": [
       "   id    age  gender  height  weight  ap_hi  ap_lo  cholesterol  smoke\n",
       "0   0  18393       2     168    62.0    110     80            1      0\n",
       "1   1  20228       1     156    85.0    140     90            3      0\n",
       "2   2  18857       1     165    64.0    130     70            3      0\n",
       "3   3  17623       2     169    82.0    150    100            1      0\n",
       "4   4  17474       1     156    56.0    100     60            1      0"
      ]
     },
     "execution_count": 3,
     "metadata": {},
     "output_type": "execute_result"
    }
   ],
   "source": [
    "c_base.head()"
   ]
  },
  {
   "cell_type": "code",
   "execution_count": 4,
   "id": "ae221c7b",
   "metadata": {
    "execution": {
     "iopub.execute_input": "2024-04-27T11:35:27.331426Z",
     "iopub.status.busy": "2024-04-27T11:35:27.331008Z",
     "iopub.status.idle": "2024-04-27T11:35:27.339982Z",
     "shell.execute_reply": "2024-04-27T11:35:27.338926Z"
    },
    "papermill": {
     "duration": 0.03179,
     "end_time": "2024-04-27T11:35:27.342554",
     "exception": false,
     "start_time": "2024-04-27T11:35:27.310764",
     "status": "completed"
    },
    "tags": []
   },
   "outputs": [],
   "source": [
    "c_base[\"age\"] = (c_base[\"age\"]/365).astype(int)"
   ]
  },
  {
   "cell_type": "code",
   "execution_count": 5,
   "id": "466ed9ad",
   "metadata": {
    "execution": {
     "iopub.execute_input": "2024-04-27T11:35:27.382183Z",
     "iopub.status.busy": "2024-04-27T11:35:27.381198Z",
     "iopub.status.idle": "2024-04-27T11:35:27.387819Z",
     "shell.execute_reply": "2024-04-27T11:35:27.386555Z"
    },
    "papermill": {
     "duration": 0.02919,
     "end_time": "2024-04-27T11:35:27.390624",
     "exception": false,
     "start_time": "2024-04-27T11:35:27.361434",
     "status": "completed"
    },
    "tags": []
   },
   "outputs": [
    {
     "data": {
      "text/plain": [
       "(70000, 9)"
      ]
     },
     "execution_count": 5,
     "metadata": {},
     "output_type": "execute_result"
    }
   ],
   "source": [
    "c_base.shape"
   ]
  },
  {
   "cell_type": "code",
   "execution_count": 6,
   "id": "647bdc7e",
   "metadata": {
    "execution": {
     "iopub.execute_input": "2024-04-27T11:35:27.430802Z",
     "iopub.status.busy": "2024-04-27T11:35:27.430284Z",
     "iopub.status.idle": "2024-04-27T11:35:27.442178Z",
     "shell.execute_reply": "2024-04-27T11:35:27.440615Z"
    },
    "papermill": {
     "duration": 0.035808,
     "end_time": "2024-04-27T11:35:27.445211",
     "exception": false,
     "start_time": "2024-04-27T11:35:27.409403",
     "status": "completed"
    },
    "tags": []
   },
   "outputs": [
    {
     "data": {
      "text/plain": [
       "id               int64\n",
       "age              int64\n",
       "gender           int64\n",
       "height           int64\n",
       "weight         float64\n",
       "ap_hi            int64\n",
       "ap_lo            int64\n",
       "cholesterol      int64\n",
       "smoke            int64\n",
       "dtype: object"
      ]
     },
     "execution_count": 6,
     "metadata": {},
     "output_type": "execute_result"
    }
   ],
   "source": [
    "c_base.dtypes"
   ]
  },
  {
   "cell_type": "code",
   "execution_count": 7,
   "id": "a516aad0",
   "metadata": {
    "execution": {
     "iopub.execute_input": "2024-04-27T11:35:27.488722Z",
     "iopub.status.busy": "2024-04-27T11:35:27.488305Z",
     "iopub.status.idle": "2024-04-27T11:35:27.498548Z",
     "shell.execute_reply": "2024-04-27T11:35:27.497230Z"
    },
    "papermill": {
     "duration": 0.033781,
     "end_time": "2024-04-27T11:35:27.501099",
     "exception": false,
     "start_time": "2024-04-27T11:35:27.467318",
     "status": "completed"
    },
    "tags": []
   },
   "outputs": [
    {
     "data": {
      "text/html": [
       "<div>\n",
       "<style scoped>\n",
       "    .dataframe tbody tr th:only-of-type {\n",
       "        vertical-align: middle;\n",
       "    }\n",
       "\n",
       "    .dataframe tbody tr th {\n",
       "        vertical-align: top;\n",
       "    }\n",
       "\n",
       "    .dataframe thead th {\n",
       "        text-align: right;\n",
       "    }\n",
       "</style>\n",
       "<table border=\"1\" class=\"dataframe\">\n",
       "  <thead>\n",
       "    <tr style=\"text-align: right;\">\n",
       "      <th></th>\n",
       "      <th>id</th>\n",
       "      <th>alco</th>\n",
       "    </tr>\n",
       "  </thead>\n",
       "  <tbody>\n",
       "    <tr>\n",
       "      <th>0</th>\n",
       "      <td>44</td>\n",
       "      <td>0</td>\n",
       "    </tr>\n",
       "    <tr>\n",
       "      <th>1</th>\n",
       "      <td>45</td>\n",
       "      <td>0</td>\n",
       "    </tr>\n",
       "    <tr>\n",
       "      <th>2</th>\n",
       "      <td>46</td>\n",
       "      <td>0</td>\n",
       "    </tr>\n",
       "    <tr>\n",
       "      <th>3</th>\n",
       "      <td>47</td>\n",
       "      <td>0</td>\n",
       "    </tr>\n",
       "    <tr>\n",
       "      <th>4</th>\n",
       "      <td>49</td>\n",
       "      <td>0</td>\n",
       "    </tr>\n",
       "  </tbody>\n",
       "</table>\n",
       "</div>"
      ],
      "text/plain": [
       "   id  alco\n",
       "0  44     0\n",
       "1  45     0\n",
       "2  46     0\n",
       "3  47     0\n",
       "4  49     0"
      ]
     },
     "execution_count": 7,
     "metadata": {},
     "output_type": "execute_result"
    }
   ],
   "source": [
    "c_alco.head(5)\n",
    "#So it's primary is on c_base"
   ]
  },
  {
   "cell_type": "code",
   "execution_count": 8,
   "id": "a276277f",
   "metadata": {
    "execution": {
     "iopub.execute_input": "2024-04-27T11:35:27.542134Z",
     "iopub.status.busy": "2024-04-27T11:35:27.541706Z",
     "iopub.status.idle": "2024-04-27T11:35:27.549646Z",
     "shell.execute_reply": "2024-04-27T11:35:27.548424Z"
    },
    "papermill": {
     "duration": 0.031438,
     "end_time": "2024-04-27T11:35:27.552027",
     "exception": false,
     "start_time": "2024-04-27T11:35:27.520589",
     "status": "completed"
    },
    "tags": []
   },
   "outputs": [
    {
     "data": {
      "text/plain": [
       "id      int64\n",
       "alco    int64\n",
       "dtype: object"
      ]
     },
     "execution_count": 8,
     "metadata": {},
     "output_type": "execute_result"
    }
   ],
   "source": [
    "c_alco.dtypes"
   ]
  },
  {
   "cell_type": "code",
   "execution_count": 9,
   "id": "7d4c2f94",
   "metadata": {
    "execution": {
     "iopub.execute_input": "2024-04-27T11:35:27.592417Z",
     "iopub.status.busy": "2024-04-27T11:35:27.592046Z",
     "iopub.status.idle": "2024-04-27T11:35:27.598345Z",
     "shell.execute_reply": "2024-04-27T11:35:27.597234Z"
    },
    "papermill": {
     "duration": 0.029177,
     "end_time": "2024-04-27T11:35:27.600578",
     "exception": false,
     "start_time": "2024-04-27T11:35:27.571401",
     "status": "completed"
    },
    "tags": []
   },
   "outputs": [
    {
     "data": {
      "text/plain": [
       "(56903, 2)"
      ]
     },
     "execution_count": 9,
     "metadata": {},
     "output_type": "execute_result"
    }
   ],
   "source": [
    "c_alco.shape"
   ]
  },
  {
   "cell_type": "code",
   "execution_count": 10,
   "id": "036308d6",
   "metadata": {
    "execution": {
     "iopub.execute_input": "2024-04-27T11:35:27.641058Z",
     "iopub.status.busy": "2024-04-27T11:35:27.640680Z",
     "iopub.status.idle": "2024-04-27T11:35:27.671805Z",
     "shell.execute_reply": "2024-04-27T11:35:27.670317Z"
    },
    "papermill": {
     "duration": 0.055485,
     "end_time": "2024-04-27T11:35:27.675490",
     "exception": false,
     "start_time": "2024-04-27T11:35:27.620005",
     "status": "completed"
    },
    "tags": []
   },
   "outputs": [],
   "source": [
    "# pd.merge(c_alco,c_base,on=\"id\",how=\"left\").isna().sum()\n",
    "c_alco = pd.merge(c_alco,c_base,on=\"id\",how=\"left\")"
   ]
  },
  {
   "cell_type": "code",
   "execution_count": 11,
   "id": "700a3618",
   "metadata": {
    "execution": {
     "iopub.execute_input": "2024-04-27T11:35:27.721483Z",
     "iopub.status.busy": "2024-04-27T11:35:27.721055Z",
     "iopub.status.idle": "2024-04-27T11:35:27.726727Z",
     "shell.execute_reply": "2024-04-27T11:35:27.725165Z"
    },
    "papermill": {
     "duration": 0.0305,
     "end_time": "2024-04-27T11:35:27.730270",
     "exception": false,
     "start_time": "2024-04-27T11:35:27.699770",
     "status": "completed"
    },
    "tags": []
   },
   "outputs": [],
   "source": [
    "# pd.concat()"
   ]
  },
  {
   "cell_type": "code",
   "execution_count": 12,
   "id": "70a52a7e",
   "metadata": {
    "execution": {
     "iopub.execute_input": "2024-04-27T11:35:27.771663Z",
     "iopub.status.busy": "2024-04-27T11:35:27.771288Z",
     "iopub.status.idle": "2024-04-27T11:35:27.788688Z",
     "shell.execute_reply": "2024-04-27T11:35:27.787650Z"
    },
    "papermill": {
     "duration": 0.04032,
     "end_time": "2024-04-27T11:35:27.791120",
     "exception": false,
     "start_time": "2024-04-27T11:35:27.750800",
     "status": "completed"
    },
    "tags": []
   },
   "outputs": [
    {
     "data": {
      "text/html": [
       "<div>\n",
       "<style scoped>\n",
       "    .dataframe tbody tr th:only-of-type {\n",
       "        vertical-align: middle;\n",
       "    }\n",
       "\n",
       "    .dataframe tbody tr th {\n",
       "        vertical-align: top;\n",
       "    }\n",
       "\n",
       "    .dataframe thead th {\n",
       "        text-align: right;\n",
       "    }\n",
       "</style>\n",
       "<table border=\"1\" class=\"dataframe\">\n",
       "  <thead>\n",
       "    <tr style=\"text-align: right;\">\n",
       "      <th></th>\n",
       "      <th>location</th>\n",
       "      <th>date</th>\n",
       "      <th>new_cases</th>\n",
       "      <th>new_deaths</th>\n",
       "      <th>population</th>\n",
       "      <th>aged_65_older_percent</th>\n",
       "      <th>gdp_per_capita</th>\n",
       "      <th>hospital_beds_per_thousand</th>\n",
       "    </tr>\n",
       "  </thead>\n",
       "  <tbody>\n",
       "    <tr>\n",
       "      <th>0</th>\n",
       "      <td>Afghanistan</td>\n",
       "      <td>2019-12-31</td>\n",
       "      <td>0</td>\n",
       "      <td>0</td>\n",
       "      <td>38928341.0</td>\n",
       "      <td>2.581</td>\n",
       "      <td>1803.987</td>\n",
       "      <td>0.5</td>\n",
       "    </tr>\n",
       "    <tr>\n",
       "      <th>1</th>\n",
       "      <td>Afghanistan</td>\n",
       "      <td>2020-01-01</td>\n",
       "      <td>0</td>\n",
       "      <td>0</td>\n",
       "      <td>38928341.0</td>\n",
       "      <td>2.581</td>\n",
       "      <td>1803.987</td>\n",
       "      <td>0.5</td>\n",
       "    </tr>\n",
       "    <tr>\n",
       "      <th>2</th>\n",
       "      <td>Afghanistan</td>\n",
       "      <td>2020-01-02</td>\n",
       "      <td>0</td>\n",
       "      <td>0</td>\n",
       "      <td>38928341.0</td>\n",
       "      <td>2.581</td>\n",
       "      <td>1803.987</td>\n",
       "      <td>0.5</td>\n",
       "    </tr>\n",
       "    <tr>\n",
       "      <th>3</th>\n",
       "      <td>Afghanistan</td>\n",
       "      <td>2020-01-03</td>\n",
       "      <td>0</td>\n",
       "      <td>0</td>\n",
       "      <td>38928341.0</td>\n",
       "      <td>2.581</td>\n",
       "      <td>1803.987</td>\n",
       "      <td>0.5</td>\n",
       "    </tr>\n",
       "    <tr>\n",
       "      <th>4</th>\n",
       "      <td>Afghanistan</td>\n",
       "      <td>2020-01-04</td>\n",
       "      <td>0</td>\n",
       "      <td>0</td>\n",
       "      <td>38928341.0</td>\n",
       "      <td>2.581</td>\n",
       "      <td>1803.987</td>\n",
       "      <td>0.5</td>\n",
       "    </tr>\n",
       "  </tbody>\n",
       "</table>\n",
       "</div>"
      ],
      "text/plain": [
       "      location        date  new_cases  new_deaths  population  \\\n",
       "0  Afghanistan  2019-12-31          0           0  38928341.0   \n",
       "1  Afghanistan  2020-01-01          0           0  38928341.0   \n",
       "2  Afghanistan  2020-01-02          0           0  38928341.0   \n",
       "3  Afghanistan  2020-01-03          0           0  38928341.0   \n",
       "4  Afghanistan  2020-01-04          0           0  38928341.0   \n",
       "\n",
       "   aged_65_older_percent  gdp_per_capita  hospital_beds_per_thousand  \n",
       "0                  2.581        1803.987                         0.5  \n",
       "1                  2.581        1803.987                         0.5  \n",
       "2                  2.581        1803.987                         0.5  \n",
       "3                  2.581        1803.987                         0.5  \n",
       "4                  2.581        1803.987                         0.5  "
      ]
     },
     "execution_count": 12,
     "metadata": {},
     "output_type": "execute_result"
    }
   ],
   "source": [
    "covid_t.head()"
   ]
  },
  {
   "cell_type": "code",
   "execution_count": 13,
   "id": "e6875b26",
   "metadata": {
    "execution": {
     "iopub.execute_input": "2024-04-27T11:35:27.838042Z",
     "iopub.status.busy": "2024-04-27T11:35:27.837631Z",
     "iopub.status.idle": "2024-04-27T11:35:27.845911Z",
     "shell.execute_reply": "2024-04-27T11:35:27.844258Z"
    },
    "papermill": {
     "duration": 0.036139,
     "end_time": "2024-04-27T11:35:27.849125",
     "exception": false,
     "start_time": "2024-04-27T11:35:27.812986",
     "status": "completed"
    },
    "tags": []
   },
   "outputs": [
    {
     "data": {
      "text/plain": [
       "location                       object\n",
       "date                           object\n",
       "new_cases                       int64\n",
       "new_deaths                      int64\n",
       "population                    float64\n",
       "aged_65_older_percent         float64\n",
       "gdp_per_capita                float64\n",
       "hospital_beds_per_thousand    float64\n",
       "dtype: object"
      ]
     },
     "execution_count": 13,
     "metadata": {},
     "output_type": "execute_result"
    }
   ],
   "source": [
    "covid_t.dtypes"
   ]
  },
  {
   "cell_type": "code",
   "execution_count": 15,
   "id": "eef9ea04",
   "metadata": {
    "execution": {
     "iopub.execute_input": "2024-04-27T11:35:27.893038Z",
     "iopub.status.busy": "2024-04-27T11:35:27.892551Z",
     "iopub.status.idle": "2024-04-27T11:35:27.916060Z",
     "shell.execute_reply": "2024-04-27T11:35:27.914394Z"
    },
    "papermill": {
     "duration": 0.05157,
     "end_time": "2024-04-27T11:35:27.920929",
     "exception": false,
     "start_time": "2024-04-27T11:35:27.869359",
     "status": "completed"
    },
    "tags": []
   },
   "outputs": [],
   "source": [
    "covid_t[\"date\"] = pd.to_datetime(covid_t[\"date\"])"
   ]
  },
  {
   "cell_type": "markdown",
   "id": "7a06d4e8",
   "metadata": {
    "papermill": {
     "duration": 0.020312,
     "end_time": "2024-04-27T11:35:27.963547",
     "exception": false,
     "start_time": "2024-04-27T11:35:27.943235",
     "status": "completed"
    },
    "tags": []
   },
   "source": [
    "## 1. How much heavier the age group with the highest average weight than the age group with the lowest weight?"
   ]
  },
  {
   "cell_type": "code",
   "execution_count": 16,
   "id": "db1ce752",
   "metadata": {
    "execution": {
     "iopub.execute_input": "2024-04-27T11:35:28.007167Z",
     "iopub.status.busy": "2024-04-27T11:35:28.006692Z",
     "iopub.status.idle": "2024-04-27T11:35:28.064261Z",
     "shell.execute_reply": "2024-04-27T11:35:28.063064Z"
    },
    "papermill": {
     "duration": 0.081392,
     "end_time": "2024-04-27T11:35:28.066845",
     "exception": false,
     "start_time": "2024-04-27T11:35:27.985453",
     "status": "completed"
    },
    "tags": []
   },
   "outputs": [
    {
     "name": "stdout",
     "output_type": "stream",
     "text": [
      "28.5995  %\n"
     ]
    }
   ],
   "source": [
    "agg1 = c_base.groupby(\"age\") \\\n",
    "        .agg([\"mean\",\"count\",\"sum\"])[\"weight\"] \\\n",
    "        .sort_values(\"mean\").reset_index()\n",
    "\n",
    "# agg1\n",
    "diff = agg1[\"mean\"][len(agg1)-1] - agg1[\"mean\"][0]\n",
    "print(round((diff/agg1[\"mean\"][0])*100,4),\" %\")"
   ]
  },
  {
   "cell_type": "code",
   "execution_count": 17,
   "id": "7aca4892",
   "metadata": {
    "execution": {
     "iopub.execute_input": "2024-04-27T11:35:28.110143Z",
     "iopub.status.busy": "2024-04-27T11:35:28.109778Z",
     "iopub.status.idle": "2024-04-27T11:35:28.848682Z",
     "shell.execute_reply": "2024-04-27T11:35:28.847378Z"
    },
    "papermill": {
     "duration": 0.762979,
     "end_time": "2024-04-27T11:35:28.851480",
     "exception": false,
     "start_time": "2024-04-27T11:35:28.088501",
     "status": "completed"
    },
    "tags": []
   },
   "outputs": [
    {
     "data": {
      "text/plain": [
       "Text(0, 0.5, 'Avg.Weight')"
      ]
     },
     "execution_count": 17,
     "metadata": {},
     "output_type": "execute_result"
    },
    {
     "data": {
      "image/png": "[encoded data removed]",
      "text/plain": [
       "<Figure size 1000x500 with 1 Axes>"
      ]
     },
     "metadata": {},
     "output_type": "display_data"
    }
   ],
   "source": [
    "ax = c_base.groupby(\"age\") \\\n",
    "        .agg([\"mean\",\"count\",\"sum\"])[\"weight\"] \\\n",
    "        .sort_values(\"mean\") \\\n",
    "        .reset_index() \\\n",
    "        .plot(x = \"age\",y = \"mean\",figsize=(10,5),kind=\"bar\",title=\"Average Weight with respect to Age\",legend = False)\n",
    "ax.set_xlabel(\"age\")\n",
    "ax.set_ylabel(\"Avg.Weight\")"
   ]
  },
  {
   "cell_type": "markdown",
   "id": "987c77c8",
   "metadata": {
    "papermill": {
     "duration": 0.020432,
     "end_time": "2024-04-27T11:35:28.892574",
     "exception": false,
     "start_time": "2024-04-27T11:35:28.872142",
     "status": "completed"
    },
    "tags": []
   },
   "source": [
    "## 2. Do people over 50 have higher cholesterol levels than the rest?"
   ]
  },
  {
   "cell_type": "code",
   "execution_count": 18,
   "id": "7d890b4a",
   "metadata": {
    "execution": {
     "iopub.execute_input": "2024-04-27T11:35:28.939708Z",
     "iopub.status.busy": "2024-04-27T11:35:28.939300Z",
     "iopub.status.idle": "2024-04-27T11:35:28.971117Z",
     "shell.execute_reply": "2024-04-27T11:35:28.969979Z"
    },
    "papermill": {
     "duration": 0.05765,
     "end_time": "2024-04-27T11:35:28.974168",
     "exception": false,
     "start_time": "2024-04-27T11:35:28.916518",
     "status": "completed"
    },
    "tags": []
   },
   "outputs": [],
   "source": [
    "less_than_50 = c_base.groupby(\"age\") \\\n",
    "                    .agg(\"mean\")[\"cholesterol\"]  \\\n",
    "                    .reset_index() \\\n",
    "                    .query(\"age<50\")[\"cholesterol\"] \\\n",
    "                    .mean()\n",
    "\n",
    "greater_than_50 = c_base.groupby(\"age\") \\\n",
    "                    .agg(\"mean\")[\"cholesterol\"]  \\\n",
    "                    .reset_index() \\\n",
    "                    .query(\"age>=50\")[\"cholesterol\"] \\\n",
    "                    .mean()"
   ]
  },
  {
   "cell_type": "code",
   "execution_count": 19,
   "id": "038841e6",
   "metadata": {
    "execution": {
     "iopub.execute_input": "2024-04-27T11:35:29.016963Z",
     "iopub.status.busy": "2024-04-27T11:35:29.016339Z",
     "iopub.status.idle": "2024-04-27T11:35:29.292020Z",
     "shell.execute_reply": "2024-04-27T11:35:29.290361Z"
    },
    "papermill": {
     "duration": 0.302095,
     "end_time": "2024-04-27T11:35:29.296895",
     "exception": false,
     "start_time": "2024-04-27T11:35:28.994800",
     "status": "completed"
    },
    "tags": []
   },
   "outputs": [
    {
     "data": {
      "image/png": "[encoded data removed]",
      "text/plain": [
       "<Figure size 640x480 with 1 Axes>"
      ]
     },
     "metadata": {},
     "output_type": "display_data"
    }
   ],
   "source": [
    "ax = plt.bar([\"less_than_50\",\"greater_than_50\"],[less_than_50,greater_than_50])\n",
    "plt.xlabel(\"Age\")\n",
    "plt.ylabel(\"Cholestrol\")\n",
    "plt.title(\"Age vs.Cholestrol\")\n",
    "plt.show()"
   ]
  },
  {
   "cell_type": "code",
   "execution_count": 20,
   "id": "348a2854",
   "metadata": {
    "execution": {
     "iopub.execute_input": "2024-04-27T11:35:29.353985Z",
     "iopub.status.busy": "2024-04-27T11:35:29.353467Z",
     "iopub.status.idle": "2024-04-27T11:35:29.362045Z",
     "shell.execute_reply": "2024-04-27T11:35:29.360790Z"
    },
    "papermill": {
     "duration": 0.043755,
     "end_time": "2024-04-27T11:35:29.365209",
     "exception": false,
     "start_time": "2024-04-27T11:35:29.321454",
     "status": "completed"
    },
    "tags": []
   },
   "outputs": [
    {
     "data": {
      "text/plain": [
       "np.True_"
      ]
     },
     "execution_count": 20,
     "metadata": {},
     "output_type": "execute_result"
    }
   ],
   "source": [
    "less_than_50 < greater_than_50"
   ]
  },
  {
   "cell_type": "markdown",
   "id": "02b16bd8",
   "metadata": {
    "papermill": {
     "duration": 0.022395,
     "end_time": "2024-04-27T11:35:29.485095",
     "exception": false,
     "start_time": "2024-04-27T11:35:29.462700",
     "status": "completed"
    },
    "tags": []
   },
   "source": [
    "## 3. Are men more likely to be a smoker than women?"
   ]
  },
  {
   "cell_type": "code",
   "execution_count": 21,
   "id": "0f4d82e8",
   "metadata": {
    "execution": {
     "iopub.execute_input": "2024-04-27T11:35:29.533579Z",
     "iopub.status.busy": "2024-04-27T11:35:29.533198Z",
     "iopub.status.idle": "2024-04-27T11:35:29.542272Z",
     "shell.execute_reply": "2024-04-27T11:35:29.540581Z"
    },
    "papermill": {
     "duration": 0.035914,
     "end_time": "2024-04-27T11:35:29.546047",
     "exception": false,
     "start_time": "2024-04-27T11:35:29.510133",
     "status": "completed"
    },
    "tags": []
   },
   "outputs": [
    {
     "data": {
      "text/plain": [
       "Index(['id', 'age', 'gender', 'height', 'weight', 'ap_hi', 'ap_lo',\n",
       "       'cholesterol', 'smoke'],\n",
       "      dtype='object')"
      ]
     },
     "execution_count": 21,
     "metadata": {},
     "output_type": "execute_result"
    }
   ],
   "source": [
    "c_base.columns"
   ]
  },
  {
   "cell_type": "code",
   "execution_count": 22,
   "id": "2dde099f",
   "metadata": {
    "execution": {
     "iopub.execute_input": "2024-04-27T11:35:29.594627Z",
     "iopub.status.busy": "2024-04-27T11:35:29.593892Z",
     "iopub.status.idle": "2024-04-27T11:35:29.857855Z",
     "shell.execute_reply": "2024-04-27T11:35:29.856526Z"
    },
    "papermill": {
     "duration": 0.291891,
     "end_time": "2024-04-27T11:35:29.860564",
     "exception": false,
     "start_time": "2024-04-27T11:35:29.568673",
     "status": "completed"
    },
    "tags": []
   },
   "outputs": [
    {
     "data": {
      "image/png": "[encoded data removed]",
      "text/plain": [
       "<Figure size 640x480 with 1 Axes>"
      ]
     },
     "metadata": {},
     "output_type": "display_data"
    }
   ],
   "source": [
    "ax = c_base.groupby(\"gender\") \\\n",
    "    .agg([\"count\"])[\"smoke\"] \\\n",
    "    .plot(kind=\"barh\",title=\"Gender X Smoking\",legend=False)\n",
    "\n",
    "plt.show() #men are more likely to be smoking than women"
   ]
  },
  {
   "cell_type": "markdown",
   "id": "79f5b0db",
   "metadata": {
    "papermill": {
     "duration": 0.024397,
     "end_time": "2024-04-27T11:35:29.909364",
     "exception": false,
     "start_time": "2024-04-27T11:35:29.884967",
     "status": "completed"
    },
    "tags": []
   },
   "source": [
    "## 4. How tall are the tallest 1% of people?"
   ]
  },
  {
   "cell_type": "code",
   "execution_count": 23,
   "id": "9c904a9b",
   "metadata": {
    "execution": {
     "iopub.execute_input": "2024-04-27T11:35:29.960333Z",
     "iopub.status.busy": "2024-04-27T11:35:29.959900Z",
     "iopub.status.idle": "2024-04-27T11:35:31.812215Z",
     "shell.execute_reply": "2024-04-27T11:35:31.810800Z"
    },
    "papermill": {
     "duration": 1.881311,
     "end_time": "2024-04-27T11:35:31.815498",
     "exception": false,
     "start_time": "2024-04-27T11:35:29.934187",
     "status": "completed"
    },
    "tags": []
   },
   "outputs": [
    {
     "data": {
      "image/png": "[encoded data removed]",
      "text/plain": [
       "<Figure size 640x480 with 1 Axes>"
      ]
     },
     "metadata": {},
     "output_type": "display_data"
    }
   ],
   "source": [
    "##Understanding the distribution\n",
    "ax = c_base[\"height\"].plot(kind=\"kde\",title=\"Distribution of Height\")\n",
    "plt.xlabel(\"Height(cm)\")\n",
    "plt.show()"
   ]
  },
  {
   "cell_type": "code",
   "execution_count": 24,
   "id": "a2e9e41d",
   "metadata": {
    "execution": {
     "iopub.execute_input": "2024-04-27T11:35:31.864649Z",
     "iopub.status.busy": "2024-04-27T11:35:31.864206Z",
     "iopub.status.idle": "2024-04-27T11:35:31.878401Z",
     "shell.execute_reply": "2024-04-27T11:35:31.877296Z"
    },
    "papermill": {
     "duration": 0.042228,
     "end_time": "2024-04-27T11:35:31.881027",
     "exception": false,
     "start_time": "2024-04-27T11:35:31.838799",
     "status": "completed"
    },
    "tags": []
   },
   "outputs": [
    {
     "data": {
      "text/plain": [
       "np.float64(164.35922857142856)"
      ]
     },
     "execution_count": 24,
     "metadata": {},
     "output_type": "execute_result"
    }
   ],
   "source": [
    "c_base[\"height\"].sort_values(ascending=False).mean() ## Wrong Approach"
   ]
  },
  {
   "cell_type": "code",
   "execution_count": 25,
   "id": "839a6e10",
   "metadata": {
    "execution": {
     "iopub.execute_input": "2024-04-27T11:35:31.928366Z",
     "iopub.status.busy": "2024-04-27T11:35:31.927983Z",
     "iopub.status.idle": "2024-04-27T11:35:31.932960Z",
     "shell.execute_reply": "2024-04-27T11:35:31.931762Z"
    },
    "papermill": {
     "duration": 0.031502,
     "end_time": "2024-04-27T11:35:31.935714",
     "exception": false,
     "start_time": "2024-04-27T11:35:31.904212",
     "status": "completed"
    },
    "tags": []
   },
   "outputs": [],
   "source": [
    "# a = pd.Series([1,2,3,4,5])\n",
    "\n",
    "# # a.median()\n",
    "# a.quantile(1)"
   ]
  },
  {
   "cell_type": "code",
   "execution_count": 26,
   "id": "9e683aed",
   "metadata": {
    "execution": {
     "iopub.execute_input": "2024-04-27T11:35:31.982957Z",
     "iopub.status.busy": "2024-04-27T11:35:31.982570Z",
     "iopub.status.idle": "2024-04-27T11:35:31.992261Z",
     "shell.execute_reply": "2024-04-27T11:35:31.991335Z"
    },
    "papermill": {
     "duration": 0.035994,
     "end_time": "2024-04-27T11:35:31.994926",
     "exception": false,
     "start_time": "2024-04-27T11:35:31.958932",
     "status": "completed"
    },
    "tags": []
   },
   "outputs": [
    {
     "data": {
      "text/plain": [
       "np.float64(184.0)"
      ]
     },
     "execution_count": 26,
     "metadata": {},
     "output_type": "execute_result"
    }
   ],
   "source": [
    "## Quantile would be more easier to calculate percentages problems\n",
    "c_base[\"height\"].quantile(0.99)"
   ]
  },
  {
   "cell_type": "markdown",
   "id": "a8c75432",
   "metadata": {
    "papermill": {
     "duration": 0.025168,
     "end_time": "2024-04-27T11:35:32.043118",
     "exception": false,
     "start_time": "2024-04-27T11:35:32.017950",
     "status": "completed"
    },
    "tags": []
   },
   "source": [
    "## 5. Which two features have the highest spearman rank correlation?"
   ]
  },
  {
   "attachments": {
    "8582eb0a-5809-4c02-b8ab-eb699c763f96.png": {
     "image/png": "[encoded data removed]"
    }
   },
   "cell_type": "markdown",
   "id": "adce6096",
   "metadata": {
    "papermill": {
     "duration": 0.02213,
     "end_time": "2024-04-27T11:35:32.090502",
     "exception": false,
     "start_time": "2024-04-27T11:35:32.068372",
     "status": "completed"
    },
    "tags": []
   },
   "source": [
    "It rank the values on the data and finds the relation\n",
    "\n",
    "6.Sum(difference(rank(x-y))^2) / (n*(n^2 - 1))\n",
    "\n",
    "![image.png](attachment:8582eb0a-5809-4c02-b8ab-eb699c763f96.png)"
   ]
  },
  {
   "cell_type": "code",
   "execution_count": 28,
   "id": "d8733c5d",
   "metadata": {
    "execution": {
     "iopub.execute_input": "2024-04-27T11:35:32.139997Z",
     "iopub.status.busy": "2024-04-27T11:35:32.139610Z",
     "iopub.status.idle": "2024-04-27T11:35:32.789134Z",
     "shell.execute_reply": "2024-04-27T11:35:32.787779Z"
    },
    "papermill": {
     "duration": 0.678529,
     "end_time": "2024-04-27T11:35:32.791719",
     "exception": false,
     "start_time": "2024-04-27T11:35:32.113190",
     "status": "completed"
    },
    "tags": []
   },
   "outputs": [
    {
     "data": {
      "image/png": "[encoded data removed]",
      "text/plain": [
       "<Figure size 640x480 with 2 Axes>"
      ]
     },
     "metadata": {},
     "output_type": "display_data"
    }
   ],
   "source": [
    "sns.heatmap(c_base.corr(method='spearman'),annot=True,fmt=\".2f\")\n",
    "plt.show()"
   ]
  },
  {
   "cell_type": "markdown",
   "id": "f47877c5",
   "metadata": {
    "papermill": {
     "duration": 0.026254,
     "end_time": "2024-04-27T11:35:32.842328",
     "exception": false,
     "start_time": "2024-04-27T11:35:32.816074",
     "status": "completed"
    },
    "tags": []
   },
   "source": [
    "## 6. What percentage of people are more than 2 standard deviations far from the average height?"
   ]
  },
  {
   "cell_type": "code",
   "execution_count": 29,
   "id": "29aa34fd",
   "metadata": {
    "execution": {
     "iopub.execute_input": "2024-04-27T11:35:32.894571Z",
     "iopub.status.busy": "2024-04-27T11:35:32.894160Z",
     "iopub.status.idle": "2024-04-27T11:35:32.900411Z",
     "shell.execute_reply": "2024-04-27T11:35:32.899531Z"
    },
    "papermill": {
     "duration": 0.034924,
     "end_time": "2024-04-27T11:35:32.902542",
     "exception": false,
     "start_time": "2024-04-27T11:35:32.867618",
     "status": "completed"
    },
    "tags": []
   },
   "outputs": [],
   "source": [
    "mean_height = c_base[\"height\"].mean()\n",
    "std_height = c_base[\"height\"].std()"
   ]
  },
  {
   "cell_type": "code",
   "execution_count": 30,
   "id": "968ba2f6",
   "metadata": {
    "execution": {
     "iopub.execute_input": "2024-04-27T11:35:32.952554Z",
     "iopub.status.busy": "2024-04-27T11:35:32.952141Z",
     "iopub.status.idle": "2024-04-27T11:35:32.962316Z",
     "shell.execute_reply": "2024-04-27T11:35:32.961159Z"
    },
    "papermill": {
     "duration": 0.038179,
     "end_time": "2024-04-27T11:35:32.964756",
     "exception": false,
     "start_time": "2024-04-27T11:35:32.926577",
     "status": "completed"
    },
    "tags": []
   },
   "outputs": [
    {
     "data": {
      "text/plain": [
       "3.3357142857142854"
      ]
     },
     "execution_count": 30,
     "metadata": {},
     "output_type": "execute_result"
    }
   ],
   "source": [
    "people_with_deviation = len(c_base[abs(c_base[\"height\"] - mean_height) > 2*std_height])\n",
    "total_people = len(c_base)\n",
    "\n",
    "people_with_deviation / total_people *100"
   ]
  },
  {
   "cell_type": "markdown",
   "id": "6903ce0b",
   "metadata": {
    "papermill": {
     "duration": 0.025897,
     "end_time": "2024-04-27T11:35:33.017103",
     "exception": false,
     "start_time": "2024-04-27T11:35:32.991206",
     "status": "completed"
    },
    "tags": []
   },
   "source": [
    "## 7. What percentage of the population over 50 years old consume alcohol? Ignore those persons, where we have no alcohol sonsumption information!"
   ]
  },
  {
   "cell_type": "code",
   "execution_count": 35,
   "id": "81de0951",
   "metadata": {
    "execution": {
     "iopub.execute_input": "2024-04-27T11:35:33.067431Z",
     "iopub.status.busy": "2024-04-27T11:35:33.067044Z",
     "iopub.status.idle": "2024-04-27T11:35:33.295008Z",
     "shell.execute_reply": "2024-04-27T11:35:33.293662Z"
    },
    "papermill": {
     "duration": 0.257544,
     "end_time": "2024-04-27T11:35:33.298760",
     "exception": false,
     "start_time": "2024-04-27T11:35:33.041216",
     "status": "completed"
    },
    "tags": []
   },
   "outputs": [
    {
     "name": "stdout",
     "output_type": "stream",
     "text": [
      "CPU times: total: 46.9 ms\n",
      "Wall time: 55 ms\n"
     ]
    },
    {
     "data": {
      "image/png": "[encoded data removed]",
      "text/plain": [
       "<Figure size 640x480 with 1 Axes>"
      ]
     },
     "metadata": {},
     "output_type": "display_data"
    }
   ],
   "source": [
    "%%time\n",
    "ax = c_alco.query(\"age > 50\") \\\n",
    "    .groupby(\"alco\") \\\n",
    "    .agg([\"count\"])[\"id\"] \\\n",
    "    .plot(kind=\"pie\",labels=[\"No\",\"Yes\"],subplots= True,autopct=\"%.2f\",title=\"Age Above 50 Alcoholic rate\")"
   ]
  },
  {
   "cell_type": "markdown",
   "id": "9db18a32",
   "metadata": {
    "papermill": {
     "duration": 0.02574,
     "end_time": "2024-04-27T11:35:33.351931",
     "exception": false,
     "start_time": "2024-04-27T11:35:33.326191",
     "status": "completed"
    },
    "tags": []
   },
   "source": [
    "## 8. Which of the following statements is true with 95% confidence?\n",
    "\n",
    "### ⚪Smokers have higher blood presure than non-smokers\n",
    "### ⚪Smokers have higher cholesterol level than non-smokers\n",
    "### ⚪Smokers weight less than non smokers\n",
    "### ⚪Men have higher blood pressure than women"
   ]
  },
  {
   "cell_type": "code",
   "execution_count": 36,
   "id": "24877220",
   "metadata": {
    "execution": {
     "iopub.execute_input": "2024-04-27T11:35:33.409309Z",
     "iopub.status.busy": "2024-04-27T11:35:33.408278Z",
     "iopub.status.idle": "2024-04-27T11:35:33.459575Z",
     "shell.execute_reply": "2024-04-27T11:35:33.458133Z"
    },
    "papermill": {
     "duration": 0.085473,
     "end_time": "2024-04-27T11:35:33.462820",
     "exception": false,
     "start_time": "2024-04-27T11:35:33.377347",
     "status": "completed"
    },
    "tags": []
   },
   "outputs": [
    {
     "data": {
      "text/html": [
       "<div>\n",
       "<style scoped>\n",
       "    .dataframe tbody tr th:only-of-type {\n",
       "        vertical-align: middle;\n",
       "    }\n",
       "\n",
       "    .dataframe tbody tr th {\n",
       "        vertical-align: top;\n",
       "    }\n",
       "\n",
       "    .dataframe thead th {\n",
       "        text-align: right;\n",
       "    }\n",
       "</style>\n",
       "<table border=\"1\" class=\"dataframe\">\n",
       "  <thead>\n",
       "    <tr style=\"text-align: right;\">\n",
       "      <th></th>\n",
       "      <th>mean</th>\n",
       "      <th>sem</th>\n",
       "      <th>hi_bound</th>\n",
       "      <th>low_bound</th>\n",
       "    </tr>\n",
       "    <tr>\n",
       "      <th>smoke</th>\n",
       "      <th></th>\n",
       "      <th></th>\n",
       "      <th></th>\n",
       "      <th></th>\n",
       "    </tr>\n",
       "  </thead>\n",
       "  <tbody>\n",
       "    <tr>\n",
       "      <th>0</th>\n",
       "      <td>112.851959</td>\n",
       "      <td>0.562122</td>\n",
       "      <td>113.953718</td>\n",
       "      <td>111.750200</td>\n",
       "    </tr>\n",
       "    <tr>\n",
       "      <th>1</th>\n",
       "      <td>113.139016</td>\n",
       "      <td>1.241633</td>\n",
       "      <td>115.572617</td>\n",
       "      <td>110.705415</td>\n",
       "    </tr>\n",
       "  </tbody>\n",
       "</table>\n",
       "</div>"
      ],
      "text/plain": [
       "             mean       sem    hi_bound   low_bound\n",
       "smoke                                              \n",
       "0      112.851959  0.562122  113.953718  111.750200\n",
       "1      113.139016  1.241633  115.572617  110.705415"
      ]
     },
     "execution_count": 36,
     "metadata": {},
     "output_type": "execute_result"
    }
   ],
   "source": [
    "# Smokers have higher blood presure than non-smokers\n",
    "\n",
    "c_alco[\"avg_bp\"] = (c_alco[\"ap_hi\"]+c_alco[\"ap_lo\"]) / 2\n",
    "grped = c_alco.groupby(\"smoke\").agg([\"mean\",\"sem\"])[\"avg_bp\"]\n",
    "grped[\"hi_bound\"] = grped[\"mean\"] + 1.96 * grped[\"sem\"]\n",
    "grped[\"low_bound\"] = grped[\"mean\"] - 1.96 * grped[\"sem\"]\n",
    "grped"
   ]
  },
  {
   "cell_type": "code",
   "execution_count": 37,
   "id": "81af864c",
   "metadata": {
    "execution": {
     "iopub.execute_input": "2024-04-27T11:35:33.520634Z",
     "iopub.status.busy": "2024-04-27T11:35:33.520207Z",
     "iopub.status.idle": "2024-04-27T11:35:33.561087Z",
     "shell.execute_reply": "2024-04-27T11:35:33.559995Z"
    },
    "papermill": {
     "duration": 0.073699,
     "end_time": "2024-04-27T11:35:33.563387",
     "exception": false,
     "start_time": "2024-04-27T11:35:33.489688",
     "status": "completed"
    },
    "tags": []
   },
   "outputs": [
    {
     "data": {
      "text/html": [
       "<div>\n",
       "<style scoped>\n",
       "    .dataframe tbody tr th:only-of-type {\n",
       "        vertical-align: middle;\n",
       "    }\n",
       "\n",
       "    .dataframe tbody tr th {\n",
       "        vertical-align: top;\n",
       "    }\n",
       "\n",
       "    .dataframe thead th {\n",
       "        text-align: right;\n",
       "    }\n",
       "</style>\n",
       "<table border=\"1\" class=\"dataframe\">\n",
       "  <thead>\n",
       "    <tr style=\"text-align: right;\">\n",
       "      <th></th>\n",
       "      <th>mean</th>\n",
       "      <th>sem</th>\n",
       "      <th>hi_bound</th>\n",
       "      <th>low_bound</th>\n",
       "    </tr>\n",
       "    <tr>\n",
       "      <th>smoke</th>\n",
       "      <th></th>\n",
       "      <th></th>\n",
       "      <th></th>\n",
       "      <th></th>\n",
       "    </tr>\n",
       "  </thead>\n",
       "  <tbody>\n",
       "    <tr>\n",
       "      <th>0</th>\n",
       "      <td>1.365668</td>\n",
       "      <td>0.002989</td>\n",
       "      <td>1.371526</td>\n",
       "      <td>1.359810</td>\n",
       "    </tr>\n",
       "    <tr>\n",
       "      <th>1</th>\n",
       "      <td>1.390554</td>\n",
       "      <td>0.009616</td>\n",
       "      <td>1.409401</td>\n",
       "      <td>1.371706</td>\n",
       "    </tr>\n",
       "  </tbody>\n",
       "</table>\n",
       "</div>"
      ],
      "text/plain": [
       "           mean       sem  hi_bound  low_bound\n",
       "smoke                                         \n",
       "0      1.365668  0.002989  1.371526   1.359810\n",
       "1      1.390554  0.009616  1.409401   1.371706"
      ]
     },
     "execution_count": 37,
     "metadata": {},
     "output_type": "execute_result"
    }
   ],
   "source": [
    "# Smokers have higher cholesterol level than non-smokers\n",
    "\n",
    "grped = c_alco.groupby(\"smoke\").agg([\"mean\",\"sem\"])[\"cholesterol\"]\n",
    "grped[\"hi_bound\"] = grped[\"mean\"] + 1.96 * grped[\"sem\"]\n",
    "grped[\"low_bound\"] = grped[\"mean\"] - 1.96 * grped[\"sem\"]\n",
    "grped"
   ]
  },
  {
   "cell_type": "code",
   "execution_count": 38,
   "id": "ea3bf0a2",
   "metadata": {
    "execution": {
     "iopub.execute_input": "2024-04-27T11:35:33.618667Z",
     "iopub.status.busy": "2024-04-27T11:35:33.618257Z",
     "iopub.status.idle": "2024-04-27T11:35:33.660392Z",
     "shell.execute_reply": "2024-04-27T11:35:33.659258Z"
    },
    "papermill": {
     "duration": 0.074097,
     "end_time": "2024-04-27T11:35:33.663008",
     "exception": false,
     "start_time": "2024-04-27T11:35:33.588911",
     "status": "completed"
    },
    "tags": []
   },
   "outputs": [
    {
     "data": {
      "text/html": [
       "<div>\n",
       "<style scoped>\n",
       "    .dataframe tbody tr th:only-of-type {\n",
       "        vertical-align: middle;\n",
       "    }\n",
       "\n",
       "    .dataframe tbody tr th {\n",
       "        vertical-align: top;\n",
       "    }\n",
       "\n",
       "    .dataframe thead th {\n",
       "        text-align: right;\n",
       "    }\n",
       "</style>\n",
       "<table border=\"1\" class=\"dataframe\">\n",
       "  <thead>\n",
       "    <tr style=\"text-align: right;\">\n",
       "      <th></th>\n",
       "      <th>mean</th>\n",
       "      <th>sem</th>\n",
       "      <th>hi_bound</th>\n",
       "      <th>low_bound</th>\n",
       "    </tr>\n",
       "    <tr>\n",
       "      <th>smoke</th>\n",
       "      <th></th>\n",
       "      <th></th>\n",
       "      <th></th>\n",
       "      <th></th>\n",
       "    </tr>\n",
       "  </thead>\n",
       "  <tbody>\n",
       "    <tr>\n",
       "      <th>0</th>\n",
       "      <td>73.853289</td>\n",
       "      <td>0.062684</td>\n",
       "      <td>73.976150</td>\n",
       "      <td>73.730429</td>\n",
       "    </tr>\n",
       "    <tr>\n",
       "      <th>1</th>\n",
       "      <td>77.356142</td>\n",
       "      <td>0.212276</td>\n",
       "      <td>77.772203</td>\n",
       "      <td>76.940081</td>\n",
       "    </tr>\n",
       "  </tbody>\n",
       "</table>\n",
       "</div>"
      ],
      "text/plain": [
       "            mean       sem   hi_bound  low_bound\n",
       "smoke                                           \n",
       "0      73.853289  0.062684  73.976150  73.730429\n",
       "1      77.356142  0.212276  77.772203  76.940081"
      ]
     },
     "execution_count": 38,
     "metadata": {},
     "output_type": "execute_result"
    }
   ],
   "source": [
    "# Smokers weight less than non smokers\n",
    "\n",
    "grped = c_alco.groupby(\"smoke\").agg([\"mean\",\"sem\"])[\"weight\"]\n",
    "grped[\"hi_bound\"] = grped[\"mean\"] + 1.96 * grped[\"sem\"]\n",
    "grped[\"low_bound\"] = grped[\"mean\"] - 1.96 * grped[\"sem\"]\n",
    "grped"
   ]
  },
  {
   "cell_type": "code",
   "execution_count": 39,
   "id": "01af50cf",
   "metadata": {
    "execution": {
     "iopub.execute_input": "2024-04-27T11:35:33.724795Z",
     "iopub.status.busy": "2024-04-27T11:35:33.724311Z",
     "iopub.status.idle": "2024-04-27T11:35:33.766183Z",
     "shell.execute_reply": "2024-04-27T11:35:33.764693Z"
    },
    "papermill": {
     "duration": 0.079222,
     "end_time": "2024-04-27T11:35:33.768774",
     "exception": false,
     "start_time": "2024-04-27T11:35:33.689552",
     "status": "completed"
    },
    "tags": []
   },
   "outputs": [
    {
     "data": {
      "text/html": [
       "<div>\n",
       "<style scoped>\n",
       "    .dataframe tbody tr th:only-of-type {\n",
       "        vertical-align: middle;\n",
       "    }\n",
       "\n",
       "    .dataframe tbody tr th {\n",
       "        vertical-align: top;\n",
       "    }\n",
       "\n",
       "    .dataframe thead th {\n",
       "        text-align: right;\n",
       "    }\n",
       "</style>\n",
       "<table border=\"1\" class=\"dataframe\">\n",
       "  <thead>\n",
       "    <tr style=\"text-align: right;\">\n",
       "      <th></th>\n",
       "      <th>mean</th>\n",
       "      <th>sem</th>\n",
       "      <th>hi_bound</th>\n",
       "      <th>low_bound</th>\n",
       "    </tr>\n",
       "    <tr>\n",
       "      <th>gender</th>\n",
       "      <th></th>\n",
       "      <th></th>\n",
       "      <th></th>\n",
       "      <th></th>\n",
       "    </tr>\n",
       "  </thead>\n",
       "  <tbody>\n",
       "    <tr>\n",
       "      <th>1</th>\n",
       "      <td>111.749641</td>\n",
       "      <td>0.636337</td>\n",
       "      <td>112.996862</td>\n",
       "      <td>110.502421</td>\n",
       "    </tr>\n",
       "    <tr>\n",
       "      <th>2</th>\n",
       "      <td>114.965621</td>\n",
       "      <td>0.918838</td>\n",
       "      <td>116.766543</td>\n",
       "      <td>113.164699</td>\n",
       "    </tr>\n",
       "  </tbody>\n",
       "</table>\n",
       "</div>"
      ],
      "text/plain": [
       "              mean       sem    hi_bound   low_bound\n",
       "gender                                              \n",
       "1       111.749641  0.636337  112.996862  110.502421\n",
       "2       114.965621  0.918838  116.766543  113.164699"
      ]
     },
     "execution_count": 39,
     "metadata": {},
     "output_type": "execute_result"
    }
   ],
   "source": [
    "# Men have higher blood pressure than women\n",
    "\n",
    "grped = c_alco.groupby(\"gender\").agg([\"mean\",\"sem\"])[\"avg_bp\"]\n",
    "grped[\"hi_bound\"] = grped[\"mean\"] + 1.96 * grped[\"sem\"]\n",
    "grped[\"low_bound\"] = grped[\"mean\"] - 1.96 * grped[\"sem\"]\n",
    "grped"
   ]
  },
  {
   "cell_type": "markdown",
   "id": "09db5d83",
   "metadata": {
    "papermill": {
     "duration": 0.03085,
     "end_time": "2024-04-27T11:35:33.827144",
     "exception": false,
     "start_time": "2024-04-27T11:35:33.796294",
     "status": "completed"
    },
    "tags": []
   },
   "source": [
    "### Usually 95% confidence works between two variables works in the way that, 95% is be **True** that the **high bound(hi_bound) and the low bound(low_bound) ranges** should not be overlap between the target(i.e here gender,smoke)"
   ]
  },
  {
   "cell_type": "markdown",
   "id": "17b86804",
   "metadata": {
    "papermill": {
     "duration": 0.030913,
     "end_time": "2024-04-27T11:35:33.884424",
     "exception": false,
     "start_time": "2024-04-27T11:35:33.853511",
     "status": "completed"
    },
    "tags": []
   },
   "source": [
    "## 9. When did the difference in total number of confirmed cases between Italy and Germany become more than 10000?"
   ]
  },
  {
   "cell_type": "code",
   "execution_count": 40,
   "id": "118c362b",
   "metadata": {
    "execution": {
     "iopub.execute_input": "2024-04-27T11:35:33.943774Z",
     "iopub.status.busy": "2024-04-27T11:35:33.943371Z",
     "iopub.status.idle": "2024-04-27T11:35:33.959829Z",
     "shell.execute_reply": "2024-04-27T11:35:33.958755Z"
    },
    "papermill": {
     "duration": 0.050094,
     "end_time": "2024-04-27T11:35:33.962291",
     "exception": false,
     "start_time": "2024-04-27T11:35:33.912197",
     "status": "completed"
    },
    "tags": []
   },
   "outputs": [
    {
     "data": {
      "text/html": [
       "<div>\n",
       "<style scoped>\n",
       "    .dataframe tbody tr th:only-of-type {\n",
       "        vertical-align: middle;\n",
       "    }\n",
       "\n",
       "    .dataframe tbody tr th {\n",
       "        vertical-align: top;\n",
       "    }\n",
       "\n",
       "    .dataframe thead th {\n",
       "        text-align: right;\n",
       "    }\n",
       "</style>\n",
       "<table border=\"1\" class=\"dataframe\">\n",
       "  <thead>\n",
       "    <tr style=\"text-align: right;\">\n",
       "      <th></th>\n",
       "      <th>location</th>\n",
       "      <th>date</th>\n",
       "      <th>new_cases</th>\n",
       "      <th>new_deaths</th>\n",
       "      <th>population</th>\n",
       "      <th>aged_65_older_percent</th>\n",
       "      <th>gdp_per_capita</th>\n",
       "      <th>hospital_beds_per_thousand</th>\n",
       "    </tr>\n",
       "  </thead>\n",
       "  <tbody>\n",
       "    <tr>\n",
       "      <th>0</th>\n",
       "      <td>Afghanistan</td>\n",
       "      <td>2019-12-31</td>\n",
       "      <td>0</td>\n",
       "      <td>0</td>\n",
       "      <td>38928341.0</td>\n",
       "      <td>2.581</td>\n",
       "      <td>1803.987</td>\n",
       "      <td>0.5</td>\n",
       "    </tr>\n",
       "    <tr>\n",
       "      <th>1</th>\n",
       "      <td>Afghanistan</td>\n",
       "      <td>2020-01-01</td>\n",
       "      <td>0</td>\n",
       "      <td>0</td>\n",
       "      <td>38928341.0</td>\n",
       "      <td>2.581</td>\n",
       "      <td>1803.987</td>\n",
       "      <td>0.5</td>\n",
       "    </tr>\n",
       "    <tr>\n",
       "      <th>2</th>\n",
       "      <td>Afghanistan</td>\n",
       "      <td>2020-01-02</td>\n",
       "      <td>0</td>\n",
       "      <td>0</td>\n",
       "      <td>38928341.0</td>\n",
       "      <td>2.581</td>\n",
       "      <td>1803.987</td>\n",
       "      <td>0.5</td>\n",
       "    </tr>\n",
       "    <tr>\n",
       "      <th>3</th>\n",
       "      <td>Afghanistan</td>\n",
       "      <td>2020-01-03</td>\n",
       "      <td>0</td>\n",
       "      <td>0</td>\n",
       "      <td>38928341.0</td>\n",
       "      <td>2.581</td>\n",
       "      <td>1803.987</td>\n",
       "      <td>0.5</td>\n",
       "    </tr>\n",
       "  </tbody>\n",
       "</table>\n",
       "</div>"
      ],
      "text/plain": [
       "      location       date  new_cases  new_deaths  population  \\\n",
       "0  Afghanistan 2019-12-31          0           0  38928341.0   \n",
       "1  Afghanistan 2020-01-01          0           0  38928341.0   \n",
       "2  Afghanistan 2020-01-02          0           0  38928341.0   \n",
       "3  Afghanistan 2020-01-03          0           0  38928341.0   \n",
       "\n",
       "   aged_65_older_percent  gdp_per_capita  hospital_beds_per_thousand  \n",
       "0                  2.581        1803.987                         0.5  \n",
       "1                  2.581        1803.987                         0.5  \n",
       "2                  2.581        1803.987                         0.5  \n",
       "3                  2.581        1803.987                         0.5  "
      ]
     },
     "execution_count": 40,
     "metadata": {},
     "output_type": "execute_result"
    }
   ],
   "source": [
    "covid_t.head(4)"
   ]
  },
  {
   "cell_type": "code",
   "execution_count": 41,
   "id": "dd3f98ca",
   "metadata": {
    "execution": {
     "iopub.execute_input": "2024-04-27T11:35:34.020388Z",
     "iopub.status.busy": "2024-04-27T11:35:34.019960Z",
     "iopub.status.idle": "2024-04-27T11:35:34.042677Z",
     "shell.execute_reply": "2024-04-27T11:35:34.041483Z"
    },
    "papermill": {
     "duration": 0.056424,
     "end_time": "2024-04-27T11:35:34.045451",
     "exception": false,
     "start_time": "2024-04-27T11:35:33.989027",
     "status": "completed"
    },
    "tags": []
   },
   "outputs": [
    {
     "name": "stderr",
     "output_type": "stream",
     "text": [
      "C:\\Users\\ajitj\\AppData\\Local\\Temp\\ipykernel_3888\\3275853270.py:4: SettingWithCopyWarning: \n",
      "A value is trying to be set on a copy of a slice from a DataFrame.\n",
      "Try using .loc[row_indexer,col_indexer] = value instead\n",
      "\n",
      "See the caveats in the documentation: https://pandas.pydata.org/pandas-docs/stable/user_guide/indexing.html#returning-a-view-versus-a-copy\n",
      "  german[\"cumsum-ger\"] = german[\"new_cases\"].cumsum()\n",
      "C:\\Users\\ajitj\\AppData\\Local\\Temp\\ipykernel_3888\\3275853270.py:6: SettingWithCopyWarning: \n",
      "A value is trying to be set on a copy of a slice from a DataFrame.\n",
      "Try using .loc[row_indexer,col_indexer] = value instead\n",
      "\n",
      "See the caveats in the documentation: https://pandas.pydata.org/pandas-docs/stable/user_guide/indexing.html#returning-a-view-versus-a-copy\n",
      "  italy[\"cumsum-ita\"] = italy[\"new_cases\"].cumsum()\n"
     ]
    }
   ],
   "source": [
    "# covid_t.query('location in [\"Italy\",\"Germany\"]').groupby([\"date\",\"location\"]).agg([\"sum\"])\n",
    "\n",
    "german = covid_t.loc[covid_t[\"location\"] == \"Germany\"]\n",
    "german[\"cumsum-ger\"] = german[\"new_cases\"].cumsum()\n",
    "italy = covid_t.loc[covid_t[\"location\"] == \"Italy\"]\n",
    "italy[\"cumsum-ita\"] = italy[\"new_cases\"].cumsum()"
   ]
  },
  {
   "cell_type": "code",
   "execution_count": 42,
   "id": "811af9a1",
   "metadata": {
    "execution": {
     "iopub.execute_input": "2024-04-27T11:35:34.100377Z",
     "iopub.status.busy": "2024-04-27T11:35:34.099959Z",
     "iopub.status.idle": "2024-04-27T11:35:34.112879Z",
     "shell.execute_reply": "2024-04-27T11:35:34.111473Z"
    },
    "papermill": {
     "duration": 0.04456,
     "end_time": "2024-04-27T11:35:34.115641",
     "exception": false,
     "start_time": "2024-04-27T11:35:34.071081",
     "status": "completed"
    },
    "tags": []
   },
   "outputs": [],
   "source": [
    "joined = pd.merge(german,italy,on=\"date\")"
   ]
  },
  {
   "cell_type": "code",
   "execution_count": 43,
   "id": "48d67f80",
   "metadata": {
    "execution": {
     "iopub.execute_input": "2024-04-27T11:35:34.174305Z",
     "iopub.status.busy": "2024-04-27T11:35:34.173877Z",
     "iopub.status.idle": "2024-04-27T11:35:34.184424Z",
     "shell.execute_reply": "2024-04-27T11:35:34.182850Z"
    },
    "papermill": {
     "duration": 0.043041,
     "end_time": "2024-04-27T11:35:34.187289",
     "exception": false,
     "start_time": "2024-04-27T11:35:34.144248",
     "status": "completed"
    },
    "tags": []
   },
   "outputs": [
    {
     "data": {
      "text/plain": [
       "Timestamp('2020-03-12 00:00:00')"
      ]
     },
     "execution_count": 43,
     "metadata": {},
     "output_type": "execute_result"
    }
   ],
   "source": [
    "joined[abs(joined[\"cumsum-ger\"]-joined[\"cumsum-ita\"])>10000][\"date\"].min()"
   ]
  },
  {
   "cell_type": "markdown",
   "id": "e4358ae3",
   "metadata": {
    "papermill": {
     "duration": 0.030033,
     "end_time": "2024-04-27T11:35:34.246143",
     "exception": false,
     "start_time": "2024-04-27T11:35:34.216110",
     "status": "completed"
    },
    "tags": []
   },
   "source": [
    "## 10. Look at the cumulative number of confirmed cases in Italy between 2020-02-28 and 2020-03-20. Fit an exponential function (y = Ae^(Bx)) to this set to express cumulative cases as a function of days passed, by minimizing squared loss. What is the difference between the exponential curve and the total number of real cases on 2020-03-20?"
   ]
  },
  {
   "cell_type": "code",
   "execution_count": 44,
   "id": "d8d71a8c",
   "metadata": {
    "execution": {
     "iopub.execute_input": "2024-04-27T11:35:34.304043Z",
     "iopub.status.busy": "2024-04-27T11:35:34.303624Z",
     "iopub.status.idle": "2024-04-27T11:35:34.317182Z",
     "shell.execute_reply": "2024-04-27T11:35:34.315418Z"
    },
    "papermill": {
     "duration": 0.0478,
     "end_time": "2024-04-27T11:35:34.321286",
     "exception": false,
     "start_time": "2024-04-27T11:35:34.273486",
     "status": "completed"
    },
    "tags": []
   },
   "outputs": [],
   "source": [
    "between_dates = italy.query('date <= \"2020-03-20\" and date> \"2020-02-29\"')"
   ]
  },
  {
   "cell_type": "code",
   "execution_count": 45,
   "id": "db69323b",
   "metadata": {
    "execution": {
     "iopub.execute_input": "2024-04-27T11:35:34.383968Z",
     "iopub.status.busy": "2024-04-27T11:35:34.383562Z",
     "iopub.status.idle": "2024-04-27T11:35:34.758093Z",
     "shell.execute_reply": "2024-04-27T11:35:34.756919Z"
    },
    "papermill": {
     "duration": 0.410605,
     "end_time": "2024-04-27T11:35:34.760998",
     "exception": false,
     "start_time": "2024-04-27T11:35:34.350393",
     "status": "completed"
    },
    "tags": []
   },
   "outputs": [
    {
     "data": {
      "image/png": "[encoded data removed]",
      "text/plain": [
       "<Figure size 1200x600 with 1 Axes>"
      ]
     },
     "metadata": {},
     "output_type": "display_data"
    }
   ],
   "source": [
    "plt.figure(figsize=(12,6))\n",
    "ax = sns.lineplot(between_dates,x=\"date\",y=\"cumsum-ita\")\n",
    "plt.show()"
   ]
  },
  {
   "cell_type": "markdown",
   "id": "294a5d61",
   "metadata": {
    "papermill": {
     "duration": 0.027308,
     "end_time": "2024-04-27T11:35:34.815214",
     "exception": false,
     "start_time": "2024-04-27T11:35:34.787906",
     "status": "completed"
    },
    "tags": []
   },
   "source": [
    "## 11. Which country has the 3rd highest death rate? Death rate: total number of death per million inhabitants."
   ]
  },
  {
   "cell_type": "code",
   "execution_count": 46,
   "id": "4373317c",
   "metadata": {
    "execution": {
     "iopub.execute_input": "2024-04-27T11:35:34.879336Z",
     "iopub.status.busy": "2024-04-27T11:35:34.878605Z",
     "iopub.status.idle": "2024-04-27T11:35:34.891485Z",
     "shell.execute_reply": "2024-04-27T11:35:34.890413Z"
    },
    "papermill": {
     "duration": 0.048687,
     "end_time": "2024-04-27T11:35:34.893977",
     "exception": false,
     "start_time": "2024-04-27T11:35:34.845290",
     "status": "completed"
    },
    "tags": []
   },
   "outputs": [],
   "source": [
    "country_rate = covid_t.groupby(\"location\").agg({\"new_deaths\":\"sum\",\"aged_65_older_percent\":\"mean\",\"population\":\"mean\"})\n",
    "country_rate[\"death_rate\"] = country_rate[\"new_deaths\"] / country_rate[\"population\"] * 10_00_000"
   ]
  },
  {
   "cell_type": "code",
   "execution_count": 47,
   "id": "abbcbd40",
   "metadata": {
    "execution": {
     "iopub.execute_input": "2024-04-27T11:35:34.953346Z",
     "iopub.status.busy": "2024-04-27T11:35:34.952947Z",
     "iopub.status.idle": "2024-04-27T11:35:34.970321Z",
     "shell.execute_reply": "2024-04-27T11:35:34.969470Z"
    },
    "papermill": {
     "duration": 0.050435,
     "end_time": "2024-04-27T11:35:34.972589",
     "exception": false,
     "start_time": "2024-04-27T11:35:34.922154",
     "status": "completed"
    },
    "tags": []
   },
   "outputs": [
    {
     "data": {
      "text/html": [
       "<div>\n",
       "<style scoped>\n",
       "    .dataframe tbody tr th:only-of-type {\n",
       "        vertical-align: middle;\n",
       "    }\n",
       "\n",
       "    .dataframe tbody tr th {\n",
       "        vertical-align: top;\n",
       "    }\n",
       "\n",
       "    .dataframe thead th {\n",
       "        text-align: right;\n",
       "    }\n",
       "</style>\n",
       "<table border=\"1\" class=\"dataframe\">\n",
       "  <thead>\n",
       "    <tr style=\"text-align: right;\">\n",
       "      <th></th>\n",
       "      <th>new_deaths</th>\n",
       "      <th>aged_65_older_percent</th>\n",
       "      <th>population</th>\n",
       "      <th>death_rate</th>\n",
       "    </tr>\n",
       "    <tr>\n",
       "      <th>location</th>\n",
       "      <th></th>\n",
       "      <th></th>\n",
       "      <th></th>\n",
       "      <th></th>\n",
       "    </tr>\n",
       "  </thead>\n",
       "  <tbody>\n",
       "    <tr>\n",
       "      <th>Belgium</th>\n",
       "      <td>9619</td>\n",
       "      <td>18.571</td>\n",
       "      <td>11589616.0</td>\n",
       "      <td>829.967102</td>\n",
       "    </tr>\n",
       "    <tr>\n",
       "      <th>United Kingdom</th>\n",
       "      <td>40883</td>\n",
       "      <td>18.517</td>\n",
       "      <td>67886004.0</td>\n",
       "      <td>602.230174</td>\n",
       "    </tr>\n",
       "    <tr>\n",
       "      <th>Spain</th>\n",
       "      <td>27136</td>\n",
       "      <td>19.436</td>\n",
       "      <td>46754783.0</td>\n",
       "      <td>580.389818</td>\n",
       "    </tr>\n",
       "    <tr>\n",
       "      <th>Italy</th>\n",
       "      <td>34043</td>\n",
       "      <td>23.021</td>\n",
       "      <td>60461828.0</td>\n",
       "      <td>563.049467</td>\n",
       "    </tr>\n",
       "    <tr>\n",
       "      <th>Sweden</th>\n",
       "      <td>4717</td>\n",
       "      <td>19.985</td>\n",
       "      <td>10099270.0</td>\n",
       "      <td>467.063461</td>\n",
       "    </tr>\n",
       "    <tr>\n",
       "      <th>...</th>\n",
       "      <td>...</td>\n",
       "      <td>...</td>\n",
       "      <td>...</td>\n",
       "      <td>...</td>\n",
       "    </tr>\n",
       "    <tr>\n",
       "      <th>Saint Lucia</th>\n",
       "      <td>0</td>\n",
       "      <td>9.721</td>\n",
       "      <td>183629.0</td>\n",
       "      <td>0.000000</td>\n",
       "    </tr>\n",
       "    <tr>\n",
       "      <th>Saint Vincent and the Grenadines</th>\n",
       "      <td>0</td>\n",
       "      <td>7.724</td>\n",
       "      <td>110947.0</td>\n",
       "      <td>0.000000</td>\n",
       "    </tr>\n",
       "    <tr>\n",
       "      <th>Timor</th>\n",
       "      <td>0</td>\n",
       "      <td>3.556</td>\n",
       "      <td>1318442.0</td>\n",
       "      <td>0.000000</td>\n",
       "    </tr>\n",
       "    <tr>\n",
       "      <th>Uganda</th>\n",
       "      <td>0</td>\n",
       "      <td>2.168</td>\n",
       "      <td>45741000.0</td>\n",
       "      <td>0.000000</td>\n",
       "    </tr>\n",
       "    <tr>\n",
       "      <th>Vietnam</th>\n",
       "      <td>0</td>\n",
       "      <td>7.150</td>\n",
       "      <td>97338583.0</td>\n",
       "      <td>0.000000</td>\n",
       "    </tr>\n",
       "  </tbody>\n",
       "</table>\n",
       "<p>184 rows × 4 columns</p>\n",
       "</div>"
      ],
      "text/plain": [
       "                                  new_deaths  aged_65_older_percent  \\\n",
       "location                                                              \n",
       "Belgium                                 9619                 18.571   \n",
       "United Kingdom                         40883                 18.517   \n",
       "Spain                                  27136                 19.436   \n",
       "Italy                                  34043                 23.021   \n",
       "Sweden                                  4717                 19.985   \n",
       "...                                      ...                    ...   \n",
       "Saint Lucia                                0                  9.721   \n",
       "Saint Vincent and the Grenadines           0                  7.724   \n",
       "Timor                                      0                  3.556   \n",
       "Uganda                                     0                  2.168   \n",
       "Vietnam                                    0                  7.150   \n",
       "\n",
       "                                  population  death_rate  \n",
       "location                                                  \n",
       "Belgium                           11589616.0  829.967102  \n",
       "United Kingdom                    67886004.0  602.230174  \n",
       "Spain                             46754783.0  580.389818  \n",
       "Italy                             60461828.0  563.049467  \n",
       "Sweden                            10099270.0  467.063461  \n",
       "...                                      ...         ...  \n",
       "Saint Lucia                         183629.0    0.000000  \n",
       "Saint Vincent and the Grenadines    110947.0    0.000000  \n",
       "Timor                              1318442.0    0.000000  \n",
       "Uganda                            45741000.0    0.000000  \n",
       "Vietnam                           97338583.0    0.000000  \n",
       "\n",
       "[184 rows x 4 columns]"
      ]
     },
     "execution_count": 47,
     "metadata": {},
     "output_type": "execute_result"
    }
   ],
   "source": [
    "country_rate.sort_values(by=\"death_rate\",ascending=False).dropna()"
   ]
  },
  {
   "cell_type": "code",
   "execution_count": null,
   "id": "bc44b946",
   "metadata": {
    "execution": {
     "iopub.execute_input": "2024-04-27T11:35:35.029500Z",
     "iopub.status.busy": "2024-04-27T11:35:35.028850Z",
     "iopub.status.idle": "2024-04-27T11:35:35.032750Z",
     "shell.execute_reply": "2024-04-27T11:35:35.031913Z"
    },
    "papermill": {
     "duration": 0.0353,
     "end_time": "2024-04-27T11:35:35.035113",
     "exception": false,
     "start_time": "2024-04-27T11:35:34.999813",
     "status": "completed"
    },
    "tags": []
   },
   "outputs": [],
   "source": [
    "## Need to solve this one"
   ]
  },
  {
   "cell_type": "markdown",
   "id": "2e99f9c7",
   "metadata": {
    "papermill": {
     "duration": 0.029015,
     "end_time": "2024-04-27T11:35:35.092535",
     "exception": false,
     "start_time": "2024-04-27T11:35:35.063520",
     "status": "completed"
    },
    "tags": []
   },
   "source": [
    "## 12. What is the F1 score of the following statement: Countries, where more than 20% of the population is over 65 years old, have death rates over 50 per million inhabitants. Ignore countries, where any of the neccessary information is missing!"
   ]
  },
  {
   "cell_type": "code",
   "execution_count": 48,
   "id": "a447bd1b",
   "metadata": {
    "execution": {
     "iopub.execute_input": "2024-04-27T11:35:35.151467Z",
     "iopub.status.busy": "2024-04-27T11:35:35.150815Z",
     "iopub.status.idle": "2024-04-27T11:35:35.162926Z",
     "shell.execute_reply": "2024-04-27T11:35:35.161788Z"
    },
    "papermill": {
     "duration": 0.044726,
     "end_time": "2024-04-27T11:35:35.165501",
     "exception": false,
     "start_time": "2024-04-27T11:35:35.120775",
     "status": "completed"
    },
    "tags": []
   },
   "outputs": [],
   "source": [
    "aged_greater_20 = country_rate.query(' aged_65_older_percent > 20')\n",
    "aged_greater_20_50Million = aged_greater_20.query(' death_rate > 50')"
   ]
  },
  {
   "cell_type": "code",
   "execution_count": 49,
   "id": "210985bf",
   "metadata": {
    "execution": {
     "iopub.execute_input": "2024-04-27T11:35:35.223855Z",
     "iopub.status.busy": "2024-04-27T11:35:35.223403Z",
     "iopub.status.idle": "2024-04-27T11:35:35.509301Z",
     "shell.execute_reply": "2024-04-27T11:35:35.508052Z"
    },
    "papermill": {
     "duration": 0.319227,
     "end_time": "2024-04-27T11:35:35.512179",
     "exception": false,
     "start_time": "2024-04-27T11:35:35.192952",
     "status": "completed"
    },
    "tags": []
   },
   "outputs": [],
   "source": [
    "from sklearn.metrics import f1_score\n",
    "\n",
    "y_true = [1] * len(aged_greater_20)\n",
    "y_pred = [1] * len(aged_greater_20_50Million) + [0] * (len(aged_greater_20)-len(aged_greater_20_50Million))"
   ]
  },
  {
   "cell_type": "code",
   "execution_count": 50,
   "id": "d72b8fb5",
   "metadata": {
    "execution": {
     "iopub.execute_input": "2024-04-27T11:35:35.575923Z",
     "iopub.status.busy": "2024-04-27T11:35:35.575487Z",
     "iopub.status.idle": "2024-04-27T11:35:35.585222Z",
     "shell.execute_reply": "2024-04-27T11:35:35.584400Z"
    },
    "papermill": {
     "duration": 0.044344,
     "end_time": "2024-04-27T11:35:35.587254",
     "exception": false,
     "start_time": "2024-04-27T11:35:35.542910",
     "status": "completed"
    },
    "tags": []
   },
   "outputs": [
    {
     "data": {
      "text/plain": [
       "np.float64(0.7272727272727273)"
      ]
     },
     "execution_count": 50,
     "metadata": {},
     "output_type": "execute_result"
    }
   ],
   "source": [
    "f1_score(y_true,y_pred)"
   ]
  },
  {
   "cell_type": "markdown",
   "id": "4c9ece4c",
   "metadata": {
    "papermill": {
     "duration": 0.028128,
     "end_time": "2024-04-27T11:35:35.642989",
     "exception": false,
     "start_time": "2024-04-27T11:35:35.614861",
     "status": "completed"
    },
    "tags": []
   },
   "source": [
    "## 13. What is the probability that a country has GDP over $10000, if we known that they have at least 5 hospital beds per 1000 inhabitants."
   ]
  },
  {
   "cell_type": "code",
   "execution_count": 51,
   "id": "fe535d52",
   "metadata": {
    "execution": {
     "iopub.execute_input": "2024-04-27T11:35:35.702305Z",
     "iopub.status.busy": "2024-04-27T11:35:35.701541Z",
     "iopub.status.idle": "2024-04-27T11:35:35.720087Z",
     "shell.execute_reply": "2024-04-27T11:35:35.718257Z"
    },
    "papermill": {
     "duration": 0.05273,
     "end_time": "2024-04-27T11:35:35.723918",
     "exception": false,
     "start_time": "2024-04-27T11:35:35.671188",
     "status": "completed"
    },
    "tags": []
   },
   "outputs": [],
   "source": [
    "atleast_5Hospitals = covid_t.query(' hospital_beds_per_thousand >= 5').dropna().groupby(\"location\").agg({\"gdp_per_capita\":\"mean\",\"hospital_beds_per_thousand\":\"min\"})"
   ]
  },
  {
   "cell_type": "code",
   "execution_count": 52,
   "id": "fcde6637",
   "metadata": {
    "execution": {
     "iopub.execute_input": "2024-04-27T11:35:35.785256Z",
     "iopub.status.busy": "2024-04-27T11:35:35.784854Z",
     "iopub.status.idle": "2024-04-27T11:35:35.792830Z",
     "shell.execute_reply": "2024-04-27T11:35:35.791602Z"
    },
    "papermill": {
     "duration": 0.042682,
     "end_time": "2024-04-27T11:35:35.795003",
     "exception": false,
     "start_time": "2024-04-27T11:35:35.752321",
     "status": "completed"
    },
    "tags": []
   },
   "outputs": [
    {
     "data": {
      "text/plain": [
       "26"
      ]
     },
     "execution_count": 52,
     "metadata": {},
     "output_type": "execute_result"
    }
   ],
   "source": [
    "len(atleast_5Hospitals)"
   ]
  },
  {
   "cell_type": "code",
   "execution_count": 53,
   "id": "f7948233",
   "metadata": {
    "execution": {
     "iopub.execute_input": "2024-04-27T11:35:35.857577Z",
     "iopub.status.busy": "2024-04-27T11:35:35.855190Z",
     "iopub.status.idle": "2024-04-27T11:35:35.868613Z",
     "shell.execute_reply": "2024-04-27T11:35:35.867008Z"
    },
    "papermill": {
     "duration": 0.046501,
     "end_time": "2024-04-27T11:35:35.871519",
     "exception": false,
     "start_time": "2024-04-27T11:35:35.825018",
     "status": "completed"
    },
    "tags": []
   },
   "outputs": [
    {
     "data": {
      "text/plain": [
       "88.46153846153845"
      ]
     },
     "execution_count": 53,
     "metadata": {},
     "output_type": "execute_result"
    }
   ],
   "source": [
    "len(atleast_5Hospitals.query(' gdp_per_capita > 10000 ')) / len(atleast_5Hospitals) * 100"
   ]
  }
 ],
 "metadata": {
  "kaggle": {
   "accelerator": "none",
   "dataSources": [
    {
     "datasetId": 1559804,
     "sourceId": 2569404,
     "sourceType": "datasetVersion"
    }
   ],
   "dockerImageVersionId": 30684,
   "isGpuEnabled": false,
   "isInternetEnabled": true,
   "language": "python",
   "sourceType": "notebook"
  },
  "kernelspec": {
   "display_name": "Python 3",
   "language": "python",
   "name": "python3"
  },
  "language_info": {
   "codemirror_mode": {
    "name": "ipython",
    "version": 3
   },
   "file_extension": ".py",
   "mimetype": "text/x-python",
   "name": "python",
   "nbconvert_exporter": "python",
   "pygments_lexer": "ipython3",
   "version": "3.12.4"
  },
  "papermill": {
   "default_parameters": {},
   "duration": 15.683143,
   "end_time": "2024-04-27T11:35:36.623995",
   "environment_variables": {},
   "exception": null,
   "input_path": "__notebook__.ipynb",
   "output_path": "__notebook__.ipynb",
   "parameters": {},
   "start_time": "2024-04-27T11:35:20.940852",
   "version": "2.5.0"
  }
 },
 "nbformat": 4,
 "nbformat_minor": 5
}
