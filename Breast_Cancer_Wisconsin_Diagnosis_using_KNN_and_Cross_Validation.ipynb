{
  "nbformat": 4,
  "nbformat_minor": 0,
  "metadata": {
    "colab": {
      "provenance": [],
      "authorship_tag": "ABX9TyPUsa/VYnpn5wI+1KAdgdHF",
      "include_colab_link": true
    },
    "kernelspec": {
      "name": "python3",
      "display_name": "Python 3"
    },
    "language_info": {
      "name": "python"
    }
  },
  "cells": [
    {
      "cell_type": "markdown",
      "metadata": {
        "id": "view-in-github",
        "colab_type": "text"
      },
      "source": [
        "<a href=\"https://colab.research.google.com/github/ajit-ai/DataScience/blob/main/Breast_Cancer_Wisconsin_Diagnosis_using_KNN_and_Cross_Validation.ipynb\" target=\"_parent\"><img src=\"https://colab.research.google.com/assets/colab-badge.svg\" alt=\"Open In Colab\"/></a>"
      ]
    },
    {
      "cell_type": "code",
      "execution_count": 1,
      "metadata": {
        "id": "q7jbqRpKsJFg"
      },
      "outputs": [],
      "source": [
        "# performing linear algebra\n",
        "import numpy as np\n",
        "\n",
        "# data processing\n",
        "import pandas as pd\n",
        "\n",
        "# visualisation\n",
        "import matplotlib.pyplot as plt"
      ]
    },
    {
      "cell_type": "code",
      "source": [
        "df = pd.read_csv(\"https://archive.ics.uci.edu/ml/machine-learning-databases/breast-cancer-wisconsin/wdbc.data\")\n",
        "\n",
        "print (df.head())"
      ],
      "metadata": {
        "colab": {
          "base_uri": "https://localhost:8080/"
        },
        "id": "sRDqRBaksZKj",
        "outputId": "480c36c5-c936-4524-f3c4-a307dd8cb847"
      },
      "execution_count": 4,
      "outputs": [
        {
          "output_type": "stream",
          "name": "stdout",
          "text": [
            "     842302  M  17.99  10.38   122.8    1001   0.1184   0.2776  0.3001  \\\n",
            "0    842517  M  20.57  17.77  132.90  1326.0  0.08474  0.07864  0.0869   \n",
            "1  84300903  M  19.69  21.25  130.00  1203.0  0.10960  0.15990  0.1974   \n",
            "2  84348301  M  11.42  20.38   77.58   386.1  0.14250  0.28390  0.2414   \n",
            "3  84358402  M  20.29  14.34  135.10  1297.0  0.10030  0.13280  0.1980   \n",
            "4    843786  M  12.45  15.70   82.57   477.1  0.12780  0.17000  0.1578   \n",
            "\n",
            "    0.1471  ...  25.38  17.33   184.6    2019  0.1622  0.6656  0.7119  0.2654  \\\n",
            "0  0.07017  ...  24.99  23.41  158.80  1956.0  0.1238  0.1866  0.2416  0.1860   \n",
            "1  0.12790  ...  23.57  25.53  152.50  1709.0  0.1444  0.4245  0.4504  0.2430   \n",
            "2  0.10520  ...  14.91  26.50   98.87   567.7  0.2098  0.8663  0.6869  0.2575   \n",
            "3  0.10430  ...  22.54  16.67  152.20  1575.0  0.1374  0.2050  0.4000  0.1625   \n",
            "4  0.08089  ...  15.47  23.75  103.40   741.6  0.1791  0.5249  0.5355  0.1741   \n",
            "\n",
            "   0.4601   0.1189  \n",
            "0  0.2750  0.08902  \n",
            "1  0.3613  0.08758  \n",
            "2  0.6638  0.17300  \n",
            "3  0.2364  0.07678  \n",
            "4  0.3985  0.12440  \n",
            "\n",
            "[5 rows x 32 columns]\n"
          ]
        }
      ]
    },
    {
      "cell_type": "code",
      "source": [
        "df.info()"
      ],
      "metadata": {
        "id": "WCCW3SOnsbXZ"
      },
      "execution_count": null,
      "outputs": []
    },
    {
      "cell_type": "code",
      "metadata": {
        "colab": {
          "base_uri": "https://localhost:8080/"
        },
        "id": "6e734da4",
        "outputId": "6a1ad840-3865-45ed-86ca-ee5470144a40"
      },
      "source": [
        "print(df.isnull().sum())\n",
        "print(df.info())"
      ],
      "execution_count": 5,
      "outputs": [
        {
          "output_type": "stream",
          "name": "stdout",
          "text": [
            "842302      0\n",
            "M           0\n",
            "17.99       0\n",
            "10.38       0\n",
            "122.8       0\n",
            "1001        0\n",
            "0.1184      0\n",
            "0.2776      0\n",
            "0.3001      0\n",
            "0.1471      0\n",
            "0.2419      0\n",
            "0.07871     0\n",
            "1.095       0\n",
            "0.9053      0\n",
            "8.589       0\n",
            "153.4       0\n",
            "0.006399    0\n",
            "0.04904     0\n",
            "0.05373     0\n",
            "0.01587     0\n",
            "0.03003     0\n",
            "0.006193    0\n",
            "25.38       0\n",
            "17.33       0\n",
            "184.6       0\n",
            "2019        0\n",
            "0.1622      0\n",
            "0.6656      0\n",
            "0.7119      0\n",
            "0.2654      0\n",
            "0.4601      0\n",
            "0.1189      0\n",
            "dtype: int64\n",
            "<class 'pandas.core.frame.DataFrame'>\n",
            "RangeIndex: 568 entries, 0 to 567\n",
            "Data columns (total 32 columns):\n",
            " #   Column    Non-Null Count  Dtype  \n",
            "---  ------    --------------  -----  \n",
            " 0   842302    568 non-null    int64  \n",
            " 1   M         568 non-null    object \n",
            " 2   17.99     568 non-null    float64\n",
            " 3   10.38     568 non-null    float64\n",
            " 4   122.8     568 non-null    float64\n",
            " 5   1001      568 non-null    float64\n",
            " 6   0.1184    568 non-null    float64\n",
            " 7   0.2776    568 non-null    float64\n",
            " 8   0.3001    568 non-null    float64\n",
            " 9   0.1471    568 non-null    float64\n",
            " 10  0.2419    568 non-null    float64\n",
            " 11  0.07871   568 non-null    float64\n",
            " 12  1.095     568 non-null    float64\n",
            " 13  0.9053    568 non-null    float64\n",
            " 14  8.589     568 non-null    float64\n",
            " 15  153.4     568 non-null    float64\n",
            " 16  0.006399  568 non-null    float64\n",
            " 17  0.04904   568 non-null    float64\n",
            " 18  0.05373   568 non-null    float64\n",
            " 19  0.01587   568 non-null    float64\n",
            " 20  0.03003   568 non-null    float64\n",
            " 21  0.006193  568 non-null    float64\n",
            " 22  25.38     568 non-null    float64\n",
            " 23  17.33     568 non-null    float64\n",
            " 24  184.6     568 non-null    float64\n",
            " 25  2019      568 non-null    float64\n",
            " 26  0.1622    568 non-null    float64\n",
            " 27  0.6656    568 non-null    float64\n",
            " 28  0.7119    568 non-null    float64\n",
            " 29  0.2654    568 non-null    float64\n",
            " 30  0.4601    568 non-null    float64\n",
            " 31  0.1189    568 non-null    float64\n",
            "dtypes: float64(30), int64(1), object(1)\n",
            "memory usage: 142.1+ KB\n",
            "None\n"
          ]
        }
      ]
    },
    {
      "cell_type": "code",
      "metadata": {
        "colab": {
          "base_uri": "https://localhost:8080/",
          "height": 410
        },
        "id": "559b26f2",
        "outputId": "57a18faa-9bd1-418c-a5bb-70a9c51a18e1"
      },
      "source": [
        "# Count the occurrences of each diagnosis\n",
        "diagnosis_counts = df['M'].value_counts()\n",
        "\n",
        "# Create a bar plot to visualize the distribution\n",
        "plt.figure(figsize=(6, 4))\n",
        "diagnosis_counts.plot(kind='bar')\n",
        "plt.title('Distribution of Diagnosis')\n",
        "plt.xlabel('Diagnosis')\n",
        "plt.ylabel('Count')\n",
        "plt.xticks(rotation=0)\n",
        "plt.show()"
      ],
      "execution_count": 6,
      "outputs": [
        {
          "output_type": "display_data",
          "data": {
            "text/plain": [
              "<Figure size 600x400 with 1 Axes>"
            ],
            "image/png": "[encoded data removed]"
          },
          "metadata": {}
        }
      ]
    },
    {
      "cell_type": "code",
      "metadata": {
        "id": "602df31c"
      },
      "source": [
        "from sklearn.preprocessing import LabelEncoder\n",
        "\n",
        "# Separate features (X) and target (y)\n",
        "X = df.iloc[:, 2:].values\n",
        "y = df.iloc[:, 1].values\n",
        "\n",
        "# Encode the target variable\n",
        "labelencoder_y = LabelEncoder()\n",
        "y = labelencoder_y.fit_transform(y)"
      ],
      "execution_count": 7,
      "outputs": []
    },
    {
      "cell_type": "code",
      "metadata": {
        "id": "67fb912f"
      },
      "source": [
        "from sklearn.model_selection import train_test_split\n",
        "\n",
        "X_train, X_test, y_train, y_test = train_test_split(X, y, test_size=0.2, random_state=42)"
      ],
      "execution_count": 8,
      "outputs": []
    },
    {
      "cell_type": "code",
      "metadata": {
        "colab": {
          "base_uri": "https://localhost:8080/"
        },
        "id": "47fddf33",
        "outputId": "a3c03e6b-ae2d-4ef2-ae79-c9be3ad32a53"
      },
      "source": [
        "from sklearn.linear_model import LogisticRegression\n",
        "from sklearn.metrics import accuracy_score, confusion_matrix\n",
        "\n",
        "# Create and train the model\n",
        "model = LogisticRegression(max_iter=10000)\n",
        "model.fit(X_train, y_train)\n",
        "\n",
        "# Make predictions\n",
        "y_pred = model.predict(X_test)\n",
        "\n",
        "# Evaluate the model\n",
        "accuracy = accuracy_score(y_test, y_pred)\n",
        "conf_matrix = confusion_matrix(y_test, y_pred)\n",
        "\n",
        "print(f'Accuracy: {accuracy}')\n",
        "print(f'Confusion Matrix:\\n{conf_matrix}')"
      ],
      "execution_count": 10,
      "outputs": [
        {
          "output_type": "stream",
          "name": "stdout",
          "text": [
            "Accuracy: 0.9210526315789473\n",
            "Confusion Matrix:\n",
            "[[66  2]\n",
            " [ 7 39]]\n"
          ]
        }
      ]
    }
  ]
}