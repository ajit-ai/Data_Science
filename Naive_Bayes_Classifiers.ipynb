{
  "cells": [
    {
      "cell_type": "markdown",
      "metadata": {
        "id": "view-in-github",
        "colab_type": "text"
      },
      "source": [
        "<a href=\"https://colab.research.google.com/github/ajit-ai/DataScience/blob/main/Naive_Bayes_Classifiers.ipynb\" target=\"_parent\"><img src=\"https://colab.research.google.com/assets/colab-badge.svg\" alt=\"Open In Colab\"/></a>"
      ]
    },
    {
      "cell_type": "markdown",
      "source": [
        "Bayes’ Theorem finds the probability of an event occurring given the probability of another event that has already occurred. Bayes’ theorem is stated mathematically as the following equation.\n",
        "Advantages of Naive Bayes Classifier\n",
        "Easy to implement and computationally efficient.\n",
        "Effective in cases with a large number of features.\n",
        "Performs well even with limited training data.\n",
        "It performs well in the presence of categorical features.\n",
        "For numerical features data is assumed to come from normal distributions\n",
        "Disadvantages of Naive Bayes Classifier\n",
        "Assumes that features are independent, which may not always hold in real-world data.\n",
        "Can be influenced by irrelevant attributes.\n",
        "May assign zero probability to unseen events, leading to poor generalization.\n",
        "Applications of Naive Bayes Classifier\n",
        "Spam Email Filtering: Classifies emails as spam or non-spam based on features.\n",
        "Text Classification: Used in sentiment analysis, document categorization, and topic classification.\n",
        "Medical Diagnosis: Helps in predicting the likelihood of a disease based on symptoms.\n",
        "Credit Scoring: Evaluates creditworthiness of individuals for loan approval.\n",
        "Weather Prediction: Classifies weather conditions based on various factors."
      ],
      "metadata": {
        "id": "1lHI9fxJbv8V"
      }
    },
    {
      "cell_type": "code",
      "source": [
        "# load the iris dataset\n",
        "from sklearn.datasets import load_iris\n",
        "iris = load_iris()\n",
        "\n",
        "# store the feature matrix (X) and response vector (y)\n",
        "X = iris.data\n",
        "y = iris.target\n",
        "\n",
        "# splitting X and y into training and testing sets\n",
        "from sklearn.model_selection import train_test_split\n",
        "X_train, X_test, y_train, y_test = train_test_split(X, y, test_size=0.4, random_state=1)\n",
        "\n",
        "# training the model on training set\n",
        "from sklearn.naive_bayes import GaussianNB\n",
        "gnb = GaussianNB()\n",
        "gnb.fit(X_train, y_train)\n",
        "\n",
        "# making predictions on the testing set\n",
        "y_pred = gnb.predict(X_test)\n",
        "\n",
        "# comparing actual response values (y_test) with predicted response values (y_pred)\n",
        "from sklearn import metrics\n",
        "print(\"Gaussian Naive Bayes model accuracy(in %):\", metrics.accuracy_score(y_test, y_pred)*100)\n"
      ],
      "metadata": {
        "colab": {
          "base_uri": "https://localhost:8080/"
        },
        "id": "jSgPIlKGcEMz",
        "outputId": "a15d17cb-d519-448f-d115-27355a5d4e76"
      },
      "execution_count": null,
      "outputs": [
        {
          "output_type": "stream",
          "name": "stdout",
          "text": [
            "Gaussian Naive Bayes model accuracy(in %): 95.0\n"
          ]
        }
      ]
    },
    {
      "cell_type": "markdown",
      "source": [
        "Real life example with Gaussian Naive Bayes:\n",
        "Here we will be applying Gaussian Naive Bayes to the Iris Dataset, this dataset consists of four features namely Sepal Length in cm, Sepal Width in cm, Petal Length in cm, Petal Width in cm and from these features we have to identify which feature set belongs to which specie class. The iris flower dataset could be obtained from here.\n",
        "\n",
        "Now we will be using Gaussian Naive Bayes in predicting the correct specie of Iris flower.\n",
        "\n",
        "Lets break down the above code step by step:\n",
        "\n",
        "First we will be importing the required libraries: pandas for data manipulation, train_test_split to split the data into training and testing sets, GaussianNB for the Gaussian Naive Bayes classifier, accuracy_score to evaluate the model, and LabelEncoder to encode the categorical target variable."
      ],
      "metadata": {
        "id": "iPWRMBAjcTPh"
      }
    },
    {
      "cell_type": "code",
      "source": [
        "import pandas as pd\n",
        "from sklearn.model_selection import train_test_split\n",
        "from sklearn.naive_bayes import GaussianNB\n",
        "from sklearn.metrics import accuracy_score\n",
        "from sklearn.preprocessing import LabelEncoder\n"
      ],
      "metadata": {
        "id": "pKNl9geGcetX"
      },
      "execution_count": null,
      "outputs": []
    },
    {
      "cell_type": "code",
      "source": [
        "# Load the Iris dataset\n",
        "data = pd.read_csv(\"sample_data/Iris.csv\")\n",
        "\n",
        "# Select features and target\n",
        "X = data.drop(\"Species\", axis=1)\n",
        "y = data['Species']\n"
      ],
      "metadata": {
        "id": "I_sH__lyckgl"
      },
      "execution_count": null,
      "outputs": []
    },
    {
      "cell_type": "code",
      "source": [
        "# Encoding the Species column to get numerical class\n",
        "le = LabelEncoder()\n",
        "y = le.fit_transform(y)\n",
        "\n",
        "# Split the data into training and testing sets\n",
        "X_train, X_test, y_train, y_test = train_test_split(X, y, test_size=0.3, random_state=42)\n"
      ],
      "metadata": {
        "id": "Sn-aDwiLe_pK"
      },
      "execution_count": null,
      "outputs": []
    },
    {
      "cell_type": "code",
      "source": [
        "# Gaussian Naive Bayes classifier\n",
        "gnb = GaussianNB()\n",
        "\n",
        "# Train the classifier on the training data\n",
        "gnb.fit(X_train, y_train)\n"
      ],
      "metadata": {
        "colab": {
          "base_uri": "https://localhost:8080/",
          "height": 75
        },
        "id": "mZVvnw7YfDsp",
        "outputId": "2ab5e899-3f6d-4bf4-c30d-be332a10e6e7"
      },
      "execution_count": null,
      "outputs": [
        {
          "output_type": "execute_result",
          "data": {
            "text/plain": [
              "GaussianNB()"
            ],
            "text/html": [
              "<style>#sk-container-id-1 {color: black;}#sk-container-id-1 pre{padding: 0;}#sk-container-id-1 div.sk-toggleable {background-color: white;}#sk-container-id-1 label.sk-toggleable__label {cursor: pointer;display: block;width: 100%;margin-bottom: 0;padding: 0.3em;box-sizing: border-box;text-align: center;}#sk-container-id-1 label.sk-toggleable__label-arrow:before {content: \"▸\";float: left;margin-right: 0.25em;color: #696969;}#sk-container-id-1 label.sk-toggleable__label-arrow:hover:before {color: black;}#sk-container-id-1 div.sk-estimator:hover label.sk-toggleable__label-arrow:before {color: black;}#sk-container-id-1 div.sk-toggleable__content {max-height: 0;max-width: 0;overflow: hidden;text-align: left;background-color: #f0f8ff;}#sk-container-id-1 div.sk-toggleable__content pre {margin: 0.2em;color: black;border-radius: 0.25em;background-color: #f0f8ff;}#sk-container-id-1 input.sk-toggleable__control:checked~div.sk-toggleable__content {max-height: 200px;max-width: 100%;overflow: auto;}#sk-container-id-1 input.sk-toggleable__control:checked~label.sk-toggleable__label-arrow:before {content: \"▾\";}#sk-container-id-1 div.sk-estimator input.sk-toggleable__control:checked~label.sk-toggleable__label {background-color: #d4ebff;}#sk-container-id-1 div.sk-label input.sk-toggleable__control:checked~label.sk-toggleable__label {background-color: #d4ebff;}#sk-container-id-1 input.sk-hidden--visually {border: 0;clip: rect(1px 1px 1px 1px);clip: rect(1px, 1px, 1px, 1px);height: 1px;margin: -1px;overflow: hidden;padding: 0;position: absolute;width: 1px;}#sk-container-id-1 div.sk-estimator {font-family: monospace;background-color: #f0f8ff;border: 1px dotted black;border-radius: 0.25em;box-sizing: border-box;margin-bottom: 0.5em;}#sk-container-id-1 div.sk-estimator:hover {background-color: #d4ebff;}#sk-container-id-1 div.sk-parallel-item::after {content: \"\";width: 100%;border-bottom: 1px solid gray;flex-grow: 1;}#sk-container-id-1 div.sk-label:hover label.sk-toggleable__label {background-color: #d4ebff;}#sk-container-id-1 div.sk-serial::before {content: \"\";position: absolute;border-left: 1px solid gray;box-sizing: border-box;top: 0;bottom: 0;left: 50%;z-index: 0;}#sk-container-id-1 div.sk-serial {display: flex;flex-direction: column;align-items: center;background-color: white;padding-right: 0.2em;padding-left: 0.2em;position: relative;}#sk-container-id-1 div.sk-item {position: relative;z-index: 1;}#sk-container-id-1 div.sk-parallel {display: flex;align-items: stretch;justify-content: center;background-color: white;position: relative;}#sk-container-id-1 div.sk-item::before, #sk-container-id-1 div.sk-parallel-item::before {content: \"\";position: absolute;border-left: 1px solid gray;box-sizing: border-box;top: 0;bottom: 0;left: 50%;z-index: -1;}#sk-container-id-1 div.sk-parallel-item {display: flex;flex-direction: column;z-index: 1;position: relative;background-color: white;}#sk-container-id-1 div.sk-parallel-item:first-child::after {align-self: flex-end;width: 50%;}#sk-container-id-1 div.sk-parallel-item:last-child::after {align-self: flex-start;width: 50%;}#sk-container-id-1 div.sk-parallel-item:only-child::after {width: 0;}#sk-container-id-1 div.sk-dashed-wrapped {border: 1px dashed gray;margin: 0 0.4em 0.5em 0.4em;box-sizing: border-box;padding-bottom: 0.4em;background-color: white;}#sk-container-id-1 div.sk-label label {font-family: monospace;font-weight: bold;display: inline-block;line-height: 1.2em;}#sk-container-id-1 div.sk-label-container {text-align: center;}#sk-container-id-1 div.sk-container {/* jupyter's `normalize.less` sets `[hidden] { display: none; }` but bootstrap.min.css set `[hidden] { display: none !important; }` so we also need the `!important` here to be able to override the default hidden behavior on the sphinx rendered scikit-learn.org. See: https://github.com/scikit-learn/scikit-learn/issues/21755 */display: inline-block !important;position: relative;}#sk-container-id-1 div.sk-text-repr-fallback {display: none;}</style><div id=\"sk-container-id-1\" class=\"sk-top-container\"><div class=\"sk-text-repr-fallback\"><pre>GaussianNB()</pre><b>In a Jupyter environment, please rerun this cell to show the HTML representation or trust the notebook. <br />On GitHub, the HTML representation is unable to render, please try loading this page with nbviewer.org.</b></div><div class=\"sk-container\" hidden><div class=\"sk-item\"><div class=\"sk-estimator sk-toggleable\"><input class=\"sk-toggleable__control sk-hidden--visually\" id=\"sk-estimator-id-1\" type=\"checkbox\" checked><label for=\"sk-estimator-id-1\" class=\"sk-toggleable__label sk-toggleable__label-arrow\">GaussianNB</label><div class=\"sk-toggleable__content\"><pre>GaussianNB()</pre></div></div></div></div></div>"
            ]
          },
          "metadata": {},
          "execution_count": 17
        }
      ]
    },
    {
      "cell_type": "code",
      "source": [
        "# Make predictions on the testing data\n",
        "y_pred = gnb.predict(X_test)\n",
        "\n",
        "# Calculate the accuracy of the model\n",
        "accuracy = accuracy_score(y_test, y_pred)\n",
        "print(f\"The Accuracy of Prediction on Iris Flower is: {accuracy}\")\n"
      ],
      "metadata": {
        "colab": {
          "base_uri": "https://localhost:8080/"
        },
        "id": "C8ELgJgEfKCa",
        "outputId": "c824b3b1-c8bd-4a8a-e52d-37c539041c46"
      },
      "execution_count": null,
      "outputs": [
        {
          "output_type": "stream",
          "name": "stdout",
          "text": [
            "The Accuracy of Prediction on Iris Flower is: 1.0\n"
          ]
        }
      ]
    },
    {
      "cell_type": "markdown",
      "source": [
        "Gaussian Naive Bayes using Sklearn"
      ],
      "metadata": {
        "id": "ZjMpDRLYfSTN"
      }
    },
    {
      "cell_type": "code",
      "source": [
        "from sklearn.datasets import make_classification\n",
        "import matplotlib.pyplot as plt\n",
        "\n",
        "# Generate a synthetic dataset\n",
        "X, y = make_classification(n_samples=100, n_features=2,\n",
        "\t\t\t\t\t\tn_redundant=0, n_clusters_per_class=1,\n",
        "\t\t\t\t\t\trandom_state=42)\n",
        "\n",
        "# Visualize the dataset\n",
        "plt.scatter(X[:, 0], X[:, 1], c=y, cmap='viridis', edgecolor='k')\n",
        "plt.title('Synthetic Dataset')\n",
        "plt.xlabel('Feature 1')\n",
        "plt.ylabel('Feature 2')\n",
        "plt.show()\n"
      ],
      "metadata": {
        "colab": {
          "base_uri": "https://localhost:8080/",
          "height": 472
        },
        "id": "soWBmUL7fUD6",
        "outputId": "182ac8a5-037f-466d-b954-819bf511383b"
      },
      "execution_count": null,
      "outputs": [
        {
          "output_type": "display_data",
          "data": {
            "text/plain": [
              "<Figure size 640x480 with 1 Axes>"
            ],
            "image/png": "[encoded data removed]"
          },
          "metadata": {}
        }
      ]
    },
    {
      "cell_type": "code",
      "source": [
        "from sklearn.model_selection import train_test_split\n",
        "from sklearn.naive_bayes import GaussianNB\n",
        "from sklearn.metrics import accuracy_score\n",
        "\n",
        "# Split the dataset into training and testing sets\n",
        "X_train, X_test, y_train, y_test = train_test_split(X, y, test_size=0.3, random_state=42)\n",
        "\n",
        "# Initialize the Gaussian Naive Bayes classifier\n",
        "gnb = GaussianNB()\n",
        "\n",
        "# Train the model\n",
        "gnb.fit(X_train, y_train)\n",
        "\n",
        "# Predict the labels for the test set\n",
        "y_pred = gnb.predict(X_test)\n",
        "\n",
        "# Calculate the accuracy\n",
        "accuracy = accuracy_score(y_test, y_pred)\n",
        "print(f'Accuracy: {accuracy}')\n"
      ],
      "metadata": {
        "colab": {
          "base_uri": "https://localhost:8080/"
        },
        "id": "BgQXarWGhFIC",
        "outputId": "762833ba-e472-42d5-fdb2-5879a9e8a5bc"
      },
      "execution_count": null,
      "outputs": [
        {
          "output_type": "stream",
          "name": "stdout",
          "text": [
            "Accuracy: 0.9666666666666667\n"
          ]
        }
      ]
    },
    {
      "cell_type": "code",
      "source": [
        "import pandas as pd\n",
        "from sklearn.preprocessing import LabelEncoder\n",
        "from sklearn.model_selection import train_test_split\n",
        "from sklearn.naive_bayes import GaussianNB\n",
        "from sklearn.metrics import accuracy_score\n"
      ],
      "metadata": {
        "id": "Anl-IsnEhKpx"
      },
      "execution_count": null,
      "outputs": []
    },
    {
      "cell_type": "code",
      "source": [
        "# Load the Census Income dataset\n",
        "url = \"https://archive.ics.uci.edu/ml/machine-learning-databases/adult/adult.data\"\n",
        "column_names = ['age', 'workclass', 'fnlwgt', 'education', 'education-num',\n",
        "\t\t\t\t'marital-status', 'occupation','relationship', 'race',\n",
        "\t\t\t\t'sex', 'capital-gain', 'capital-loss', 'hours-per-week',\n",
        "\t\t\t\t'native-country', 'income']\n",
        "census_data = pd.read_csv(url, names=column_names)\n",
        "\n",
        "# Display the first few rows of the dataset\n",
        "print(census_data.head())\n"
      ],
      "metadata": {
        "colab": {
          "base_uri": "https://localhost:8080/"
        },
        "id": "SB3a6qyAhQXh",
        "outputId": "2f4af50b-a707-4eea-9b05-1536fe415ad4"
      },
      "execution_count": null,
      "outputs": [
        {
          "output_type": "stream",
          "name": "stdout",
          "text": [
            "   age          workclass  fnlwgt   education  education-num  \\\n",
            "0   39          State-gov   77516   Bachelors             13   \n",
            "1   50   Self-emp-not-inc   83311   Bachelors             13   \n",
            "2   38            Private  215646     HS-grad              9   \n",
            "3   53            Private  234721        11th              7   \n",
            "4   28            Private  338409   Bachelors             13   \n",
            "\n",
            "        marital-status          occupation    relationship    race      sex  \\\n",
            "0        Never-married        Adm-clerical   Not-in-family   White     Male   \n",
            "1   Married-civ-spouse     Exec-managerial         Husband   White     Male   \n",
            "2             Divorced   Handlers-cleaners   Not-in-family   White     Male   \n",
            "3   Married-civ-spouse   Handlers-cleaners         Husband   Black     Male   \n",
            "4   Married-civ-spouse      Prof-specialty            Wife   Black   Female   \n",
            "\n",
            "   capital-gain  capital-loss  hours-per-week  native-country  income  \n",
            "0          2174             0              40   United-States   <=50K  \n",
            "1             0             0              13   United-States   <=50K  \n",
            "2             0             0              40   United-States   <=50K  \n",
            "3             0             0              40   United-States   <=50K  \n",
            "4             0             0              40            Cuba   <=50K  \n"
          ]
        }
      ]
    },
    {
      "cell_type": "code",
      "source": [
        "from sklearn.preprocessing import LabelEncoder\n",
        "\n",
        "# Convert categorical variables to numerical values\n",
        "le = LabelEncoder()\n",
        "categorical_features = ['workclass', 'education', 'marital-status',\n",
        "\t\t\t\t\t\t'occupation', 'relationship', 'race', 'sex',\n",
        "\t\t\t\t\t\t'native-country', 'income']\n",
        "for feature in categorical_features:\n",
        "\tcensus_data[feature] = le.fit_transform(census_data[feature])\n",
        "\n",
        "# Normalize continuous variables\n",
        "census_data[\n",
        "['age', 'fnlwgt', 'education-num', 'capital-gain',\n",
        "\t\t\t'capital-loss', 'hours-per-week']] = census_data[\n",
        "['age', 'fnlwgt','education-num', 'capital-gain', 'capital-loss',\n",
        "'hours-per-week']].apply(lambda x: (x - x.min()) / (x.max() - x.min()))\n",
        "\n",
        "# Display the preprocessed data\n",
        "print(census_data.head())\n"
      ],
      "metadata": {
        "colab": {
          "base_uri": "https://localhost:8080/"
        },
        "id": "c_nShv8ahWp6",
        "outputId": "adebf7bf-8eb4-404d-f94f-232ac55ce1b5"
      },
      "execution_count": null,
      "outputs": [
        {
          "output_type": "stream",
          "name": "stdout",
          "text": [
            "        age  workclass    fnlwgt  education  education-num  marital-status  \\\n",
            "0  0.301370          7  0.044302          9       0.800000               4   \n",
            "1  0.452055          6  0.048238          9       0.800000               2   \n",
            "2  0.287671          4  0.138113         11       0.533333               0   \n",
            "3  0.493151          4  0.151068          1       0.400000               2   \n",
            "4  0.150685          4  0.221488          9       0.800000               2   \n",
            "\n",
            "   occupation  relationship  race  sex  capital-gain  capital-loss  \\\n",
            "0           1             1     4    1       0.02174           0.0   \n",
            "1           4             0     4    1       0.00000           0.0   \n",
            "2           6             1     4    1       0.00000           0.0   \n",
            "3           6             0     2    1       0.00000           0.0   \n",
            "4          10             5     2    0       0.00000           0.0   \n",
            "\n",
            "   hours-per-week  native-country  income  \n",
            "0        0.397959              39       0  \n",
            "1        0.122449              39       0  \n",
            "2        0.397959              39       0  \n",
            "3        0.397959              39       0  \n",
            "4        0.397959               5       0  \n"
          ]
        }
      ]
    },
    {
      "cell_type": "code",
      "source": [
        "from sklearn.model_selection import train_test_split\n",
        "from sklearn.naive_bayes import GaussianNB\n",
        "from sklearn.metrics import accuracy_score\n",
        "\n",
        "# Extract features and labels\n",
        "X = census_data.drop('income', axis=1)\n",
        "y = census_data['income']\n",
        "\n",
        "# Split the dataset into training and testing sets\n",
        "X_train, X_test, y_train, y_test = train_test_split(X, y, test_size=0.3, random_state=42)\n",
        "\n",
        "# Initialize the Gaussian Naive Bayes classifier\n",
        "gnb = GaussianNB()\n",
        "\n",
        "# Train the model\n",
        "gnb.fit(X_train, y_train)\n",
        "\n",
        "# Predict the labels for the test set\n",
        "y_pred = gnb.predict(X_test)\n",
        "\n",
        "# Calculate the accuracy\n",
        "accuracy = accuracy_score(y_test, y_pred)\n",
        "print(f'Accuracy: {accuracy}')\n"
      ],
      "metadata": {
        "colab": {
          "base_uri": "https://localhost:8080/"
        },
        "id": "tZ1haCT5heOk",
        "outputId": "12eb71ba-a06f-4619-d0ee-d4180439d096"
      },
      "execution_count": null,
      "outputs": [
        {
          "output_type": "stream",
          "name": "stdout",
          "text": [
            "Accuracy: 0.8086805200122837\n"
          ]
        }
      ]
    },
    {
      "cell_type": "markdown",
      "source": [
        "Complement Naive Bayes (CNB) Algorithm"
      ],
      "metadata": {
        "id": "D0f3E2DOhrhG"
      }
    },
    {
      "cell_type": "code",
      "source": [
        "# Import required modules\n",
        "from sklearn.datasets import load_wine\n",
        "from sklearn.model_selection import train_test_split\n",
        "from sklearn.metrics import accuracy_score, classification_report\n",
        "from sklearn.naive_bayes import ComplementNB\n",
        "\n",
        "# Loading the dataset\n",
        "dataset = load_wine()\n",
        "X = dataset.data\n",
        "y = dataset.target\n",
        "\n",
        "# Splitting the data into train and test sets\n",
        "X_train, X_test, y_train, y_test = train_test_split(X, y, test_size = 0.15, random_state = 42)\n",
        "\n",
        "# Creating and training the Complement Naive Bayes Classifier\n",
        "classifier = ComplementNB()\n",
        "classifier.fit(X_train, y_train)\n",
        "\n",
        "# Evaluating the classifier\n",
        "prediction = classifier.predict(X_test)\n",
        "prediction_train = classifier.predict(X_train)\n",
        "\n",
        "print(f\"Training Set Accuracy : {accuracy_score(y_train, prediction_train) * 100} %\\n\")\n",
        "print(f\"Test Set Accuracy : {accuracy_score(y_test, prediction) * 100} % \\n\\n\")\n",
        "print(f\"Classifier Report : \\n\\n {classification_report(y_test, prediction)}\")\n"
      ],
      "metadata": {
        "colab": {
          "base_uri": "https://localhost:8080/"
        },
        "id": "oOWZL83Thshj",
        "outputId": "bfcdd6f6-2dd8-48c6-aaaa-1e5a1e5731f2"
      },
      "execution_count": null,
      "outputs": [
        {
          "output_type": "stream",
          "name": "stdout",
          "text": [
            "Training Set Accuracy : 65.56291390728477 %\n",
            "\n",
            "Test Set Accuracy : 66.66666666666666 % \n",
            "\n",
            "\n",
            "Classifier Report : \n",
            "\n",
            "               precision    recall  f1-score   support\n",
            "\n",
            "           0       0.64      1.00      0.78         9\n",
            "           1       0.67      0.73      0.70        11\n",
            "           2       1.00      0.14      0.25         7\n",
            "\n",
            "    accuracy                           0.67        27\n",
            "   macro avg       0.77      0.62      0.58        27\n",
            "weighted avg       0.75      0.67      0.61        27\n",
            "\n"
          ]
        }
      ]
    },
    {
      "cell_type": "markdown",
      "source": [
        "Bernoulli Naive Bayes\n",
        "The Naive Bayes algorithm is a supervised machine learning algorithm. It uses the Bayes Theorem to predict the posterior probability of any event based on the events that have already occurred. Naive Bayes is used to perform classification and assumes that all the events are independent. The Bayes theorem is used to calculate the conditional probability of an event, given that another event has already occurred."
      ],
      "metadata": {
        "id": "xEH-RMe3h81Z"
      }
    },
    {
      "cell_type": "code",
      "source": [
        "import numpy as np\n",
        "import pandas as pd\n",
        "from sklearn.naive_bayes import BernoulliNB\n",
        "from sklearn.feature_extraction.text import CountVectorizer\n"
      ],
      "metadata": {
        "id": "XQ4oUXJmh9n5"
      },
      "execution_count": null,
      "outputs": []
    },
    {
      "cell_type": "code",
      "source": [
        "df=pd.read_csv(\"/content/sample_data/spam_ham_dataset.csv\")\n",
        "print(df.shape)\n",
        "print(df.columns)\n",
        "df= df.drop(['Unnamed: 0'], axis=1)\n"
      ],
      "metadata": {
        "colab": {
          "base_uri": "https://localhost:8080/"
        },
        "id": "v-hFyIDBiK1i",
        "outputId": "ac062fe4-2dbf-405d-c38d-ba02d0f172f0"
      },
      "execution_count": null,
      "outputs": [
        {
          "output_type": "stream",
          "name": "stdout",
          "text": [
            "(5171, 4)\n",
            "Index(['Unnamed: 0', 'label', 'text', 'label_num'], dtype='object')\n"
          ]
        }
      ]
    },
    {
      "cell_type": "code",
      "source": [
        "x =df[\"text\"].values\n",
        "y = df[\"label_num\"].values\n",
        "# creating count vectorizer object\n",
        "cv = CountVectorizer()\n",
        "#tranforming values\n",
        "x = cv.fit_transform(x)\n"
      ],
      "metadata": {
        "id": "9IlWB_Q1i_AB"
      },
      "execution_count": null,
      "outputs": []
    },
    {
      "cell_type": "code",
      "source": [
        "from sklearn.model_selection import train_test_split\n",
        "X_train, X_test, y_train, y_test = train_test_split(x, y, test_size=0.20, random_state=0)\n",
        "bnb = BernoulliNB(binarize=0.0)\n",
        "model = bnb.fit(X_train, y_train)\n",
        "y_pred = bnb.predict(X_test)\n",
        "from sklearn.metrics import classification_report\n",
        "print(classification_report(y_test, y_pred))\n"
      ],
      "metadata": {
        "colab": {
          "base_uri": "https://localhost:8080/"
        },
        "id": "jhjHcoE2jFQS",
        "outputId": "e3d908e1-5ab6-4590-8f88-08a75eea58df"
      },
      "execution_count": null,
      "outputs": [
        {
          "output_type": "stream",
          "name": "stdout",
          "text": [
            "              precision    recall  f1-score   support\n",
            "\n",
            "           0       0.84      0.98      0.91       732\n",
            "           1       0.92      0.56      0.70       303\n",
            "\n",
            "    accuracy                           0.86      1035\n",
            "   macro avg       0.88      0.77      0.80      1035\n",
            "weighted avg       0.87      0.86      0.84      1035\n",
            "\n"
          ]
        }
      ]
    },
    {
      "cell_type": "markdown",
      "source": [
        "Implementation to classify text documents using Naive Bayes"
      ],
      "metadata": {
        "id": "qTWCaeN-jSb0"
      }
    },
    {
      "cell_type": "code",
      "source": [
        "#importing libraries\n",
        "import prettytable\n"
      ],
      "metadata": {
        "id": "9bNbNub5jTgB"
      },
      "execution_count": null,
      "outputs": []
    },
    {
      "cell_type": "code",
      "source": [
        "print('\\n *-----* Classification using Naïve bayes *-----* \\n')\n",
        "total_documents = int(input(\"Enter the Total Number of documents: \"))\n",
        "doc_class = []\n",
        "i = 0\n",
        "keywords = []\n",
        "while not i == total_documents:\n",
        "\tdoc_class.append([])\n",
        "\ttext = input(f\"\\nEnter the text of Doc-{i+1} : \").lower()\n",
        "\tclas = input(f\"Enter the class of Doc-{i+1} : \")\n",
        "\tdoc_class[i].append(text.split())\n",
        "\tdoc_class[i].append(clas)\n",
        "\tkeywords.extend(text.split())\n",
        "\ti = i+1\n",
        "keywords = set(keywords)\n",
        "keywords = list(keywords)\n",
        "keywords.sort()\n",
        "to_find = input(\n",
        "\t\"\\nEnter the Text to classify using Naive Bayes: \").lower().split()\n",
        "\n",
        "probability_table = []\n",
        "for i in range(total_documents):\n",
        "\tprobability_table.append([])\n",
        "\tfor j in keywords:\n",
        "\t\tprobability_table[i].append(0)\n",
        "doc_id = 1\n",
        "for i in range(total_documents):\n",
        "\tfor k in range(len(keywords)):\n",
        "\t\tif keywords[k] in doc_class[i][0]:\n",
        "\t\t\tprobability_table[i][k] += doc_class[i][0].count(keywords[k])\n",
        "print('\\n')\n"
      ],
      "metadata": {
        "colab": {
          "base_uri": "https://localhost:8080/"
        },
        "id": "smzMNtSwjX7p",
        "outputId": "0edfc2d6-2b93-43e1-ea1f-9c7f71c950ce"
      },
      "execution_count": null,
      "outputs": [
        {
          "output_type": "stream",
          "name": "stdout",
          "text": [
            "\n",
            " *-----* Classification using Naïve bayes *-----* \n",
            "\n",
            "Enter the Total Number of documents: 3\n",
            "\n",
            "Enter the text of Doc-1 : \n",
            "Enter the class of Doc-1 : 1\n",
            "\n",
            "Enter the text of Doc-2 : 4\n",
            "Enter the class of Doc-2 : 1\n",
            "\n",
            "Enter the text of Doc-3 : 2\n",
            "Enter the class of Doc-3 : 2\n",
            "\n",
            "Enter the Text to classify using Naive Bayes: I love this\n",
            "\n",
            "\n"
          ]
        }
      ]
    },
    {
      "cell_type": "code",
      "source": [
        "import prettytable\n",
        "keywords.insert(0, 'Document ID')\n",
        "keywords.append(\"Class\")\n",
        "Prob_Table = prettytable.PrettyTable()\n",
        "Prob_Table.field_names = keywords\n",
        "Prob_Table.title = 'Probability of Documents'\n",
        "x = 0\n",
        "for i in probability_table:\n",
        "\ti.insert(0, x+1)\n",
        "\ti.append(doc_class[x][1])\n",
        "\tProb_Table.add_row(i)\n",
        "\tx = x+1\n",
        "print(Prob_Table)\n",
        "print('\\n')\n",
        "for i in probability_table:\n",
        "\ti.pop(0)\n",
        "totalpluswords = 0\n",
        "totalnegwords = 0\n",
        "totalplus = 0\n",
        "totalneg = 0\n",
        "vocabulary = len(keywords)-2\n",
        "for i in probability_table:\n",
        "\tif i[len(i)-1] == \"+\":\n",
        "\t\ttotalplus += 1\n",
        "\t\ttotalpluswords += sum(i[0:len(i)-1])\n",
        "\telse:\n",
        "\t\ttotalneg += 1\n",
        "\t\ttotalnegwords += sum(i[0:len(i)-1])\n",
        "keywords.pop(0)\n",
        "keywords.pop(len(keywords)-1)\n"
      ],
      "metadata": {
        "colab": {
          "base_uri": "https://localhost:8080/",
          "height": 226
        },
        "id": "njOHDM7jjrp5",
        "outputId": "69c1bb79-eb1b-46aa-8825-b3fcd9a582c6"
      },
      "execution_count": null,
      "outputs": [
        {
          "output_type": "stream",
          "name": "stdout",
          "text": [
            "+-----------------------------+\n",
            "|   Probability of Documents  |\n",
            "+-------------+---+---+-------+\n",
            "| Document ID | 2 | 4 | Class |\n",
            "+-------------+---+---+-------+\n",
            "|      1      | 0 | 0 |   1   |\n",
            "|      2      | 0 | 1 |   1   |\n",
            "|      3      | 1 | 0 |   2   |\n",
            "+-------------+---+---+-------+\n",
            "\n",
            "\n"
          ]
        },
        {
          "output_type": "execute_result",
          "data": {
            "text/plain": [
              "'Class'"
            ],
            "application/vnd.google.colaboratory.intrinsic+json": {
              "type": "string"
            }
          },
          "metadata": {},
          "execution_count": 36
        }
      ]
    },
    {
      "cell_type": "code",
      "source": [
        "# For positive class\n",
        "temp = []\n",
        "for i in to_find:\n",
        "    if i in keywords: # Check if the word is in keywords\n",
        "        count = 0\n",
        "        x = keywords.index(i)\n",
        "        for j in probability_table:\n",
        "            if j[len(j)-1] == \"+\":\n",
        "                count = count+j[x]\n",
        "        temp.append(count)\n",
        "        count = 0\n",
        "    else:\n",
        "        print(f\"Warning: Word '{i}' not found in the vocabulary. Skipping.\") # Inform the user about the missing word\n",
        "\n",
        "for i in range(len(temp)):\n",
        "    temp[i] = format((temp[i]+1)/(vocabulary+totalpluswords), \".4f\")\n",
        "print()\n",
        "temp = [float(f) for f in temp]\n",
        "print(\"Probabilities of Each word to be in '+' class are: \")\n",
        "h = 0\n",
        "for i in to_find:\n",
        "    if i in keywords: # Only print probabilities for words that were found\n",
        "        print(f\"P({i}/+) = {temp[h]}\")\n",
        "        h = h+1\n",
        "print()\n",
        "pplus = float(format((totalplus)/(totalplus+totalneg), \".8f\"))\n",
        "for i in temp:\n",
        "    pplus = pplus*i\n",
        "pplus = format(pplus, \".8f\")\n",
        "print(\"probability of Given text to be in '+' class is :\", pplus)\n",
        "print()"
      ],
      "metadata": {
        "colab": {
          "base_uri": "https://localhost:8080/"
        },
        "id": "NwSwTmKUj1Hq",
        "outputId": "57e82089-5290-40b3-cf53-4134b69fa49f"
      },
      "execution_count": null,
      "outputs": [
        {
          "output_type": "stream",
          "name": "stdout",
          "text": [
            "Warning: Word 'i' not found in the vocabulary. Skipping.\n",
            "Warning: Word 'love' not found in the vocabulary. Skipping.\n",
            "Warning: Word 'this' not found in the vocabulary. Skipping.\n",
            "\n",
            "Probabilities of Each word to be in '+' class are: \n",
            "\n",
            "probability of Given text to be in '+' class is : 0.00000000\n",
            "\n"
          ]
        }
      ]
    },
    {
      "cell_type": "code",
      "source": [
        "# For positive class\n",
        "temp = []\n",
        "for i in to_find:\n",
        "    if i in keywords: # Check if the word is in keywords\n",
        "        count = 0\n",
        "        x = keywords.index(i)\n",
        "        for j in probability_table:\n",
        "            if j[len(j)-1] == \"+\":\n",
        "                count = count+j[x]\n",
        "        temp.append(count)\n",
        "        count = 0\n",
        "    else:\n",
        "        print(f\"Warning: Word '{i}' not found in the vocabulary. Skipping.\") # Inform the user about the"
      ],
      "metadata": {
        "colab": {
          "base_uri": "https://localhost:8080/"
        },
        "id": "5v52_04mkFva",
        "outputId": "bf5e265c-edce-4a42-8041-49537cf02488"
      },
      "execution_count": null,
      "outputs": [
        {
          "output_type": "stream",
          "name": "stdout",
          "text": [
            "Warning: Word 'i' not found in the vocabulary. Skipping.\n",
            "Warning: Word 'love' not found in the vocabulary. Skipping.\n",
            "Warning: Word 'this' not found in the vocabulary. Skipping.\n"
          ]
        }
      ]
    },
    {
      "cell_type": "markdown",
      "source": [
        "Naive Bayes and SVM: Python Implementation\n",
        "Let’s perform text classification with Naive Bayes and Support Vector Machines (SVM) using Python and scikit-learn. For these, I’ll use the popular 20 Newsgroups dataset, which consists of newsgroup documents categorized into 20 different topics. First we’ll have to import necessary libraries.\n",
        "\n",
        "Here, we import necessary libraries:\n",
        "\n",
        "fetch_20newsgroups: To load the 20 Newsgroups dataset.\n",
        "TfidfVectorizer: To convert text data into TF-IDF feature vectors.\n",
        "train_test_split: To split the dataset into training and testing sets.\n",
        "MultinomialNB: Naïve Bayes classifier implementation.\n",
        "SVC: Support Vector Machine classifier implementation.\n",
        "classification_report: To generate a classification report containing various evaluation metrics."
      ],
      "metadata": {
        "id": "Rkxz7lz5kkfp"
      }
    },
    {
      "cell_type": "code",
      "source": [
        "from sklearn.datasets import fetch_20newsgroups\n",
        "from sklearn.feature_extraction.text import TfidfVectorizer\n",
        "from sklearn.model_selection import train_test_split\n",
        "from sklearn.naive_bayes import MultinomialNB\n",
        "from sklearn.svm import SVC\n",
        "from sklearn.metrics import classification_report\n"
      ],
      "metadata": {
        "id": "XfkE4wsYkl2x"
      },
      "execution_count": null,
      "outputs": []
    },
    {
      "cell_type": "code",
      "source": [
        "# Load the 20 Newsgroups dataset\n",
        "categories = ['alt.atheism', 'soc.religion.christian', 'comp.graphics', 'sci.med']\n",
        "newsgroups_train = fetch_20newsgroups(subset='train', categories=categories)\n",
        "newsgroups_test = fetch_20newsgroups(subset='test', categories=categories)\n",
        "\n",
        "# Sample data from the dataset\n",
        "print(\"Sample Document:\", newsgroups_train.data[0])\n",
        "print(\"Label:\", newsgroups_train.target_names[newsgroups_train.target[0]])\n"
      ],
      "metadata": {
        "colab": {
          "base_uri": "https://localhost:8080/"
        },
        "id": "BQPtKLqOkpwS",
        "outputId": "c006ea1c-fd7b-42e5-d351-0185cde2b43d"
      },
      "execution_count": null,
      "outputs": [
        {
          "output_type": "stream",
          "name": "stdout",
          "text": [
            "Sample Document: From: sd345@city.ac.uk (Michael Collier)\n",
            "Subject: Converting images to HP LaserJet III?\n",
            "Nntp-Posting-Host: hampton\n",
            "Organization: The City University\n",
            "Lines: 14\n",
            "\n",
            "Does anyone know of a good way (standard PC application/PD utility) to\n",
            "convert tif/img/tga files into LaserJet III format.  We would also like to\n",
            "do the same, converting to HPGL (HP plotter) files.\n",
            "\n",
            "Please email any response.\n",
            "\n",
            "Is this the correct group?\n",
            "\n",
            "Thanks in advance.  Michael.\n",
            "-- \n",
            "Michael Collier (Programmer)                 The Computer Unit,\n",
            "Email: M.P.Collier@uk.ac.city                The City University,\n",
            "Tel: 071 477-8000 x3769                      London,\n",
            "Fax: 071 477-8565                            EC1V 0HB.\n",
            "\n",
            "Label: comp.graphics\n"
          ]
        }
      ]
    },
    {
      "cell_type": "code",
      "source": [
        "tfidf_vectorizer = TfidfVectorizer()\n",
        "X_train = tfidf_vectorizer.fit_transform(newsgroups_train.data)\n",
        "X_test = tfidf_vectorizer.transform(newsgroups_test.data)\n",
        "y_train = newsgroups_train.target\n",
        "y_test = newsgroups_test.target\n"
      ],
      "metadata": {
        "id": "Y82n840Sk2Vw"
      },
      "execution_count": null,
      "outputs": []
    },
    {
      "cell_type": "code",
      "source": [
        "# Train Naïve Bayes classifier\n",
        "nb_classifier = MultinomialNB()\n",
        "nb_classifier.fit(X_train, y_train)\n",
        "\n",
        "# Train SVM classifier\n",
        "svm_classifier = SVC(kernel='linear')\n",
        "svm_classifier.fit(X_train, y_train)\n"
      ],
      "metadata": {
        "colab": {
          "base_uri": "https://localhost:8080/",
          "height": 75
        },
        "id": "E4Bi0PPVk6DR",
        "outputId": "b24fc6f4-a04f-46b0-b3c5-7920644aac0d"
      },
      "execution_count": null,
      "outputs": [
        {
          "output_type": "execute_result",
          "data": {
            "text/plain": [
              "SVC(kernel='linear')"
            ],
            "text/html": [
              "<style>#sk-container-id-2 {color: black;}#sk-container-id-2 pre{padding: 0;}#sk-container-id-2 div.sk-toggleable {background-color: white;}#sk-container-id-2 label.sk-toggleable__label {cursor: pointer;display: block;width: 100%;margin-bottom: 0;padding: 0.3em;box-sizing: border-box;text-align: center;}#sk-container-id-2 label.sk-toggleable__label-arrow:before {content: \"▸\";float: left;margin-right: 0.25em;color: #696969;}#sk-container-id-2 label.sk-toggleable__label-arrow:hover:before {color: black;}#sk-container-id-2 div.sk-estimator:hover label.sk-toggleable__label-arrow:before {color: black;}#sk-container-id-2 div.sk-toggleable__content {max-height: 0;max-width: 0;overflow: hidden;text-align: left;background-color: #f0f8ff;}#sk-container-id-2 div.sk-toggleable__content pre {margin: 0.2em;color: black;border-radius: 0.25em;background-color: #f0f8ff;}#sk-container-id-2 input.sk-toggleable__control:checked~div.sk-toggleable__content {max-height: 200px;max-width: 100%;overflow: auto;}#sk-container-id-2 input.sk-toggleable__control:checked~label.sk-toggleable__label-arrow:before {content: \"▾\";}#sk-container-id-2 div.sk-estimator input.sk-toggleable__control:checked~label.sk-toggleable__label {background-color: #d4ebff;}#sk-container-id-2 div.sk-label input.sk-toggleable__control:checked~label.sk-toggleable__label {background-color: #d4ebff;}#sk-container-id-2 input.sk-hidden--visually {border: 0;clip: rect(1px 1px 1px 1px);clip: rect(1px, 1px, 1px, 1px);height: 1px;margin: -1px;overflow: hidden;padding: 0;position: absolute;width: 1px;}#sk-container-id-2 div.sk-estimator {font-family: monospace;background-color: #f0f8ff;border: 1px dotted black;border-radius: 0.25em;box-sizing: border-box;margin-bottom: 0.5em;}#sk-container-id-2 div.sk-estimator:hover {background-color: #d4ebff;}#sk-container-id-2 div.sk-parallel-item::after {content: \"\";width: 100%;border-bottom: 1px solid gray;flex-grow: 1;}#sk-container-id-2 div.sk-label:hover label.sk-toggleable__label {background-color: #d4ebff;}#sk-container-id-2 div.sk-serial::before {content: \"\";position: absolute;border-left: 1px solid gray;box-sizing: border-box;top: 0;bottom: 0;left: 50%;z-index: 0;}#sk-container-id-2 div.sk-serial {display: flex;flex-direction: column;align-items: center;background-color: white;padding-right: 0.2em;padding-left: 0.2em;position: relative;}#sk-container-id-2 div.sk-item {position: relative;z-index: 1;}#sk-container-id-2 div.sk-parallel {display: flex;align-items: stretch;justify-content: center;background-color: white;position: relative;}#sk-container-id-2 div.sk-item::before, #sk-container-id-2 div.sk-parallel-item::before {content: \"\";position: absolute;border-left: 1px solid gray;box-sizing: border-box;top: 0;bottom: 0;left: 50%;z-index: -1;}#sk-container-id-2 div.sk-parallel-item {display: flex;flex-direction: column;z-index: 1;position: relative;background-color: white;}#sk-container-id-2 div.sk-parallel-item:first-child::after {align-self: flex-end;width: 50%;}#sk-container-id-2 div.sk-parallel-item:last-child::after {align-self: flex-start;width: 50%;}#sk-container-id-2 div.sk-parallel-item:only-child::after {width: 0;}#sk-container-id-2 div.sk-dashed-wrapped {border: 1px dashed gray;margin: 0 0.4em 0.5em 0.4em;box-sizing: border-box;padding-bottom: 0.4em;background-color: white;}#sk-container-id-2 div.sk-label label {font-family: monospace;font-weight: bold;display: inline-block;line-height: 1.2em;}#sk-container-id-2 div.sk-label-container {text-align: center;}#sk-container-id-2 div.sk-container {/* jupyter's `normalize.less` sets `[hidden] { display: none; }` but bootstrap.min.css set `[hidden] { display: none !important; }` so we also need the `!important` here to be able to override the default hidden behavior on the sphinx rendered scikit-learn.org. See: https://github.com/scikit-learn/scikit-learn/issues/21755 */display: inline-block !important;position: relative;}#sk-container-id-2 div.sk-text-repr-fallback {display: none;}</style><div id=\"sk-container-id-2\" class=\"sk-top-container\"><div class=\"sk-text-repr-fallback\"><pre>SVC(kernel=&#x27;linear&#x27;)</pre><b>In a Jupyter environment, please rerun this cell to show the HTML representation or trust the notebook. <br />On GitHub, the HTML representation is unable to render, please try loading this page with nbviewer.org.</b></div><div class=\"sk-container\" hidden><div class=\"sk-item\"><div class=\"sk-estimator sk-toggleable\"><input class=\"sk-toggleable__control sk-hidden--visually\" id=\"sk-estimator-id-2\" type=\"checkbox\" checked><label for=\"sk-estimator-id-2\" class=\"sk-toggleable__label sk-toggleable__label-arrow\">SVC</label><div class=\"sk-toggleable__content\"><pre>SVC(kernel=&#x27;linear&#x27;)</pre></div></div></div></div></div>"
            ]
          },
          "metadata": {},
          "execution_count": 44
        }
      ]
    },
    {
      "cell_type": "code",
      "source": [
        "# Evaluate classifiers\n",
        "nb_predictions = nb_classifier.predict(X_test)\n",
        "svm_predictions = svm_classifier.predict(X_test)\n",
        "\n",
        "# Print classification reports\n",
        "print(\"Naïve Bayes Classification Report:\")\n",
        "print(classification_report(y_test, nb_predictions, target_names=newsgroups_test.target_names))\n",
        "\n",
        "print(\"\\nSVM Classification Report:\")\n",
        "print(classification_report(y_test, svm_predictions, target_names=newsgroups_test.target_names))\n"
      ],
      "metadata": {
        "colab": {
          "base_uri": "https://localhost:8080/"
        },
        "id": "RzMW1SsElBvz",
        "outputId": "fd14cce9-2128-4f58-ca95-3e680b1d6d84"
      },
      "execution_count": null,
      "outputs": [
        {
          "output_type": "stream",
          "name": "stdout",
          "text": [
            "Naïve Bayes Classification Report:\n",
            "                        precision    recall  f1-score   support\n",
            "\n",
            "           alt.atheism       0.97      0.60      0.74       319\n",
            "         comp.graphics       0.96      0.89      0.92       389\n",
            "               sci.med       0.97      0.81      0.88       396\n",
            "soc.religion.christian       0.65      0.99      0.78       398\n",
            "\n",
            "              accuracy                           0.83      1502\n",
            "             macro avg       0.89      0.82      0.83      1502\n",
            "          weighted avg       0.88      0.83      0.84      1502\n",
            "\n",
            "\n",
            "SVM Classification Report:\n",
            "                        precision    recall  f1-score   support\n",
            "\n",
            "           alt.atheism       0.96      0.83      0.89       319\n",
            "         comp.graphics       0.90      0.96      0.93       389\n",
            "               sci.med       0.94      0.91      0.93       396\n",
            "soc.religion.christian       0.89      0.96      0.93       398\n",
            "\n",
            "              accuracy                           0.92      1502\n",
            "             macro avg       0.93      0.92      0.92      1502\n",
            "          weighted avg       0.92      0.92      0.92      1502\n",
            "\n"
          ]
        }
      ]
    },
    {
      "cell_type": "markdown",
      "source": [
        "Applying Multinomial Naive Bayes to NLP Problems"
      ],
      "metadata": {
        "id": "60Ae0vrLlQ7l"
      }
    },
    {
      "cell_type": "code",
      "source": [
        "# cleaning texts\n",
        "import pandas as pd\n",
        "import re\n",
        "import nltk\n",
        "from nltk.corpus import stopwords\n",
        "from nltk.stem.porter import PorterStemmer\n",
        "from sklearn.feature_extraction.text import CountVectorizer\n",
        "\n",
        "dataset = [[\"I liked the movie\", \"positive\"],\n",
        "           [\"It’s a good movie. Nice story\", \"positive\"],\n",
        "           [\"Hero’s acting is bad but heroine looks good.\\\n",
        "            Overall nice movie\", \"positive\"],\n",
        "            [\"Nice songs. But sadly boring ending.\", \"negative\"],\n",
        "            [\"sad movie, boring movie\", \"negative\"]]\n",
        "\n",
        "dataset = pd.DataFrame(dataset)\n",
        "dataset.columns = [\"Text\", \"Reviews\"]\n",
        "\n",
        "nltk.download('stopwords')\n",
        "\n",
        "corpus = []\n",
        "\n",
        "for i in range(0, 5):\n",
        "    text = re.sub('[^a-zA-Z]', '', dataset['Text'][i])\n",
        "    text = text.lower()\n",
        "    text = text.split()\n",
        "    ps = PorterStemmer()\n",
        "    text = ''.join(text)\n",
        "    corpus.append(text)\n",
        "\n",
        "# creating bag of words model\n",
        "cv = CountVectorizer(max_features = 1500)\n",
        "\n",
        "X = cv.fit_transform(corpus).toarray()\n",
        "y = dataset.iloc[:, 1].values\n"
      ],
      "metadata": {
        "colab": {
          "base_uri": "https://localhost:8080/"
        },
        "id": "vWthC6NRlWTq",
        "outputId": "0bc1c0f8-49e1-4e7d-e43e-eddb9a30bd4a"
      },
      "execution_count": null,
      "outputs": [
        {
          "output_type": "stream",
          "name": "stderr",
          "text": [
            "[nltk_data] Downloading package stopwords to /root/nltk_data...\n",
            "[nltk_data]   Unzipping corpora/stopwords.zip.\n"
          ]
        }
      ]
    },
    {
      "cell_type": "code",
      "source": [
        "# splitting the data set into training set and test set\n",
        "from sklearn.model_selection import train_test_split\n",
        "\n",
        "\n",
        "X_train, X_test, y_train, y_test = train_test_split(\n",
        "           X, y, test_size = 0.25, random_state = 0)\n"
      ],
      "metadata": {
        "id": "ZJ7lh0pClatT"
      },
      "execution_count": null,
      "outputs": []
    },
    {
      "cell_type": "code",
      "source": [
        "# fitting naive bayes to the training set\n",
        "from sklearn.naive_bayes import GaussianNB\n",
        "from sklearn.metrics import confusion_matrix\n",
        "\n",
        "classifier = GaussianNB();\n",
        "classifier.fit(X_train, y_train)\n",
        "\n",
        "# predicting test set results\n",
        "y_pred = classifier.predict(X_test)\n",
        "\n",
        "# making the confusion matrix\n",
        "cm = confusion_matrix(y_test, y_pred)\n",
        "cm\n"
      ],
      "metadata": {
        "colab": {
          "base_uri": "https://localhost:8080/"
        },
        "id": "h3IeNi2uleur",
        "outputId": "0b6201f9-acc2-4d66-dfd1-5f4eb09bb4ef"
      },
      "execution_count": null,
      "outputs": [
        {
          "output_type": "execute_result",
          "data": {
            "text/plain": [
              "array([[0, 0],\n",
              "       [2, 0]])"
            ]
          },
          "metadata": {},
          "execution_count": 48
        }
      ]
    },
    {
      "cell_type": "markdown",
      "source": [
        "ML | Naive Bayes Scratch Implementation using Python\n",
        "Last Updated : 10 Jul, 2024\n",
        "A key concept in probability theory, the Bayes theorem, provides the foundation for the probabilistic classifier known as Naive Bayes. It is a simple yet powerful algorithm that has risen in popularity because of its understanding, simplicity, and ease of implementation. Naive Bayes Algorithm is a popular method for classification applications, especially spam filtering and text classification. In this article, we will learn about Naive Bayes Classifier From Scratch in Python.\n",
        "\n",
        "What is Naive Bayes?\n",
        "Naive Bayes is a family of probabilistic machine learning algorithms based on the Bayes Theorem with an assumption of independence among the features. The Naive Bayes classifier assumes that the presence of a feature in a class is not related to any other feature. Naive Bayes is a classification algorithm for binary and multi-class classification problems.\n",
        "\n",
        "Naive Bayes Theorem\n",
        "Based on prior knowledge of conditions that may be related to an event, Bayes theorem describes the probability of the event\n",
        "conditional probability can be found this way\n",
        "Assume we have a Hypothesis(H) and evidence(E),\n",
        "According to Bayes theorem, the relationship between the probability of the Hypothesis before getting the evidence represented as P(H) and the probability of the hypothesis after getting the evidence represented as P(H|E) is:\n",
        "P(H|E) = P(E|H)*P(H)/P(E)\n",
        "Prior probability = P(H) is the probability before getting the evidence\n",
        "Posterior probability = P(H|E) is the probability after getting evidence\n",
        "In general,\n",
        "P(class|data) = (P(data|class) * P(class)) / P(data)\n",
        "Naive Bayes Theorem Example\n",
        "Assume we have to find the probability of the randomly picked card to be king given that it is a face card.\n",
        "\n",
        "There are 4 Kings in a Deck of Cards which implies that\n",
        "\n",
        "P(King) = 4/52\n",
        "\n",
        "as all the Kings are face Cards so\n",
        "\n",
        "P(Face|King) = 1\n",
        "\n",
        "there are 3 Face Cards in a Suit of 13 cards and there are 4 Suits in total so\n",
        "\n",
        "P(Face) = 12/52"
      ],
      "metadata": {
        "id": "AslROUYUlutq"
      }
    },
    {
      "cell_type": "code",
      "source": [
        "import math\n",
        "import random\n",
        "import pandas as pd\n",
        "import numpy as np\n"
      ],
      "metadata": {
        "id": "EXLIxHkClv9R"
      },
      "execution_count": null,
      "outputs": []
    },
    {
      "cell_type": "code",
      "source": [
        "def encode_class(mydata):\n",
        "    classes = []\n",
        "    for i in range(len(mydata)):\n",
        "        if mydata[i][-1] not in classes:\n",
        "            classes.append(mydata[i][-1])\n",
        "    for i in range(len(classes)):\n",
        "        for j in range(len(mydata)):\n",
        "            if mydata[j][-1] == classes[i]:\n",
        "                mydata[j][-1] = i\n",
        "    return mydata\n"
      ],
      "metadata": {
        "id": "LpFN_Ek-l1IS"
      },
      "execution_count": null,
      "outputs": []
    },
    {
      "cell_type": "code",
      "source": [
        "def splitting(mydata, ratio):\n",
        "    train_num = int(len(mydata) * ratio)\n",
        "    train = []\n",
        "    test = list(mydata)\n",
        "    while len(train) < train_num:\n",
        "        index = random.randrange(len(test))\n",
        "        train.append(test.pop(index))\n",
        "    return train, test\n"
      ],
      "metadata": {
        "id": "emQVre_Ql371"
      },
      "execution_count": null,
      "outputs": []
    },
    {
      "cell_type": "code",
      "source": [
        "def groupUnderClass(mydata):\n",
        "    data_dict = {}\n",
        "    for i in range(len(mydata)):\n",
        "        if mydata[i][-1] not in data_dict:\n",
        "            data_dict[mydata[i][-1]] = []\n",
        "        data_dict[mydata[i][-1]].append(mydata[i])\n",
        "    return data_dict\n"
      ],
      "metadata": {
        "id": "OkO96Ukal7VD"
      },
      "execution_count": null,
      "outputs": []
    },
    {
      "cell_type": "code",
      "source": [
        "def MeanAndStdDev(numbers):\n",
        "    avg = np.mean(numbers)\n",
        "    stddev = np.std(numbers)\n",
        "    return avg, stddev\n",
        "\n",
        "def MeanAndStdDevForClass(mydata):\n",
        "    info = {}\n",
        "    data_dict = groupUnderClass(mydata)\n",
        "    for classValue, instances in data_dict.items():\n",
        "        info[classValue] = [MeanAndStdDev(attribute) for attribute in zip(*instances)]\n",
        "    return info\n"
      ],
      "metadata": {
        "id": "IMEOqwACl9-r"
      },
      "execution_count": null,
      "outputs": []
    },
    {
      "cell_type": "code",
      "source": [
        "def calculateGaussianProbability(x, mean, stdev):\n",
        "    epsilon = 1e-10\n",
        "    expo = math.exp(-(math.pow(x - mean, 2) / (2 * math.pow(stdev + epsilon, 2))))\n",
        "    return (1 / (math.sqrt(2 * math.pi) * (stdev + epsilon))) * expo\n",
        "\n",
        "def calculateClassProbabilities(info, test):\n",
        "    probabilities = {}\n",
        "    for classValue, classSummaries in info.items():\n",
        "        probabilities[classValue] = 1\n",
        "        for i in range(len(classSummaries)):\n",
        "            mean, std_dev = classSummaries[i]\n",
        "            x = test[i]\n",
        "            probabilities[classValue] *= calculateGaussianProbability(x, mean, std_dev)\n",
        "    return probabilities\n"
      ],
      "metadata": {
        "id": "0m0VWgSpmBIS"
      },
      "execution_count": null,
      "outputs": []
    },
    {
      "cell_type": "code",
      "source": [
        "def predict(info, test):\n",
        "    probabilities = calculateClassProbabilities(info, test)\n",
        "    bestLabel = max(probabilities, key=probabilities.get)\n",
        "    return bestLabel\n",
        "\n",
        "def getPredictions(info, test):\n",
        "    predictions = [predict(info, instance) for instance in test]\n",
        "    return predictions\n"
      ],
      "metadata": {
        "id": "rgtWdz7smEKr"
      },
      "execution_count": null,
      "outputs": []
    },
    {
      "cell_type": "code",
      "source": [
        "def accuracy_rate(test, predictions):\n",
        "    correct = sum(1 for i in range(len(test)) if test[i][-1] == predictions[i])\n",
        "    return (correct / float(len(test))) * 100.0\n",
        "\n"
      ],
      "metadata": {
        "id": "UsamW04FmG7q"
      },
      "execution_count": null,
      "outputs": []
    },
    {
      "cell_type": "code",
      "source": [
        "# Load data using pandas\n",
        "filename = '/content/sample_data/pima-indians-diabetes.csv'  # Add the correct file path\n",
        "df = pd.read_csv(filename, on_bad_lines='skip')  # Skip lines with errors\n",
        "mydata = df.values.tolist()\n",
        "\n",
        "# Encode classes and convert attributes to float\n",
        "mydata = encode_class(mydata)\n",
        "for i in range(len(mydata)):\n",
        "    for j in range(len(mydata[i]) - 1):\n",
        "        mydata[i][j] = float(mydata[i][j])"
      ],
      "metadata": {
        "id": "bxBHy38omJaz"
      },
      "execution_count": null,
      "outputs": []
    },
    {
      "cell_type": "code",
      "source": [
        "# Split the data into training and testing sets\n",
        "ratio = 0.7\n",
        "train_data, test_data = splitting(mydata, ratio)\n",
        "\n",
        "print('Total number of examples:', len(mydata))\n",
        "print('Training examples:', len(train_data))\n",
        "print('Test examples:', len(test_data))\n"
      ],
      "metadata": {
        "colab": {
          "base_uri": "https://localhost:8080/"
        },
        "id": "vcY7oqMUnRUE",
        "outputId": "a7353185-020f-4a26-fa55-f085cbc5f2be"
      },
      "execution_count": null,
      "outputs": [
        {
          "output_type": "stream",
          "name": "stdout",
          "text": [
            "Total number of examples: 8\n",
            "Training examples: 5\n",
            "Test examples: 3\n"
          ]
        }
      ]
    },
    {
      "cell_type": "code",
      "source": [
        "# Train the model\n",
        "info = MeanAndStdDevForClass(train_data)\n",
        "\n",
        "# Test the model\n",
        "predictions = getPredictions(info, test_data)\n",
        "accuracy = accuracy_rate(test_data, predictions)\n",
        "print('Accuracy of the model:', accuracy)\n"
      ],
      "metadata": {
        "colab": {
          "base_uri": "https://localhost:8080/"
        },
        "id": "OVK4vBQsnUx7",
        "outputId": "6cc3cf3e-3195-44de-e1eb-dddf4a743574"
      },
      "execution_count": null,
      "outputs": [
        {
          "output_type": "stream",
          "name": "stdout",
          "text": [
            "Accuracy of the model: 0.0\n"
          ]
        }
      ]
    },
    {
      "cell_type": "markdown",
      "source": [
        "Applying Multinomial Naive Bayes to NLP Problems\n",
        "Multinomial Naive Bayes (MNB) is a popular machine learning algorithm for text classification problems in Natural Language Processing (NLP). It is particularly useful for problems that involve text data with discrete features such as word frequency counts. MNB works on the principle of Bayes theorem and assumes that the features are conditionally independent given the class variable.\n",
        "\n",
        "Here are the steps for applying Multinomial Naive Bayes to NLP problems:\n",
        "\n",
        "Preprocessing the text data: The text data needs to be preprocessed before applying the algorithm. This involves steps such as tokenization, stop-word removal, stemming, and lemmatization.\n",
        "\n",
        "Feature extraction: The text data needs to be converted into a feature vector format that can be used as input to the MNB algorithm. The most common method of feature extraction is to use a bag-of-words model, where each document is represented by a vector of word frequency counts.\n",
        "\n",
        "Splitting the data: The data needs to be split into training and testing sets. The training set is used to train the MNB model, while the testing set is used to evaluate its performance.\n",
        "\n",
        "Training the MNB model: The MNB model is trained on the training set by estimating the probabilities of each feature given each class. This involves calculating the prior probabilities of each class and the likelihood of each feature given each class.\n",
        "\n",
        "Evaluating the performance of the model: The performance of the model is evaluated using metrics such as accuracy, precision, recall, and F1-score on the testing set.\n",
        "\n",
        "Using the model to make predictions: Once the model is trained, it can be used to make predictions on new text data. The text data is preprocessed and transformed into the feature vector format, which is then input to the trained model to obtain the predicted class label.\n",
        "\n",
        "  MNB is a simple and efficient algorithm that works well for many NLP problems such as sentiment analysis, spam detection, and topic classification. However, it has some limitations, such as the assumption of independence between features, which may not hold true in some cases. Therefore, it is important to carefully evaluate the performance of the model before using it in a real-world application.\n",
        "\n",
        "Naive Bayes Classifier Algorithm is a family of probabilistic algorithms based on applying Bayes’ theorem with the “naive” assumption of conditional independence between every pair of a feature.\n",
        "Bayes theorem calculates probability P(c|x) where c is the class of the possible outcomes and x is the given instance which has to be classified, representing some certain features.\n",
        "P(c|x) = P(x|c) * P(c) / P(x)\n",
        "Naive Bayes are mostly used in natural language processing (NLP) problems. Naive Bayes predict the tag of a text. They calculate the probability of each tag for a given text and then output the tag with the highest one."
      ],
      "metadata": {
        "id": "m-DgnP9LnjZJ"
      }
    },
    {
      "cell_type": "code",
      "source": [
        "# cleaning texts\n",
        "import pandas as pd\n",
        "import re\n",
        "import nltk\n",
        "from nltk.corpus import stopwords\n",
        "from nltk.stem.porter import PorterStemmer\n",
        "from sklearn.feature_extraction.text import CountVectorizer\n",
        "\n",
        "dataset = [[\"I liked the movie\", \"positive\"],\n",
        "           [\"It’s a good movie. Nice story\", \"positive\"],\n",
        "           [\"Hero’s acting is bad but heroine looks good.\\\n",
        "            Overall nice movie\", \"positive\"],\n",
        "            [\"Nice songs. But sadly boring ending.\", \"negative\"],\n",
        "            [\"sad movie, boring movie\", \"negative\"]]\n",
        "\n",
        "dataset = pd.DataFrame(dataset)\n",
        "dataset.columns = [\"Text\", \"Reviews\"]\n",
        "\n",
        "nltk.download('stopwords')\n",
        "\n",
        "corpus = []\n",
        "\n",
        "for i in range(0, 5):\n",
        "    text = re.sub('[^a-zA-Z]', '', dataset['Text'][i])\n",
        "    text = text.lower()\n",
        "    text = text.split()\n",
        "    ps = PorterStemmer()\n",
        "    text = ''.join(text)\n",
        "    corpus.append(text)\n",
        "\n",
        "# creating bag of words model\n",
        "cv = CountVectorizer(max_features = 1500)\n",
        "\n",
        "X = cv.fit_transform(corpus).toarray()\n",
        "y = dataset.iloc[:, 1].values\n"
      ],
      "metadata": {
        "colab": {
          "base_uri": "https://localhost:8080/"
        },
        "id": "z4VmGpnYnsHT",
        "outputId": "e0615a10-e4f7-444b-9460-b683ae9f9714"
      },
      "execution_count": null,
      "outputs": [
        {
          "output_type": "stream",
          "name": "stderr",
          "text": [
            "[nltk_data] Downloading package stopwords to /root/nltk_data...\n",
            "[nltk_data]   Package stopwords is already up-to-date!\n"
          ]
        }
      ]
    },
    {
      "cell_type": "code",
      "source": [
        "# splitting the data set into training set and test set\n",
        "from sklearn.model_selection import train_test_split\n",
        "\n",
        "\n",
        "X_train, X_test, y_train, y_test = train_test_split(\n",
        "           X, y, test_size = 0.25, random_state = 0)\n"
      ],
      "metadata": {
        "id": "S0ooy4a9nyVl"
      },
      "execution_count": null,
      "outputs": []
    },
    {
      "cell_type": "code",
      "source": [
        "# fitting naive bayes to the training set\n",
        "from sklearn.naive_bayes import GaussianNB\n",
        "from sklearn.metrics import confusion_matrix\n",
        "\n",
        "classifier = GaussianNB();\n",
        "classifier.fit(X_train, y_train)\n",
        "\n",
        "# predicting test set results\n",
        "y_pred = classifier.predict(X_test)\n",
        "\n",
        "# making the confusion matrix\n",
        "cm = confusion_matrix(y_test, y_pred)\n",
        "cm\n"
      ],
      "metadata": {
        "colab": {
          "base_uri": "https://localhost:8080/"
        },
        "id": "HqrQmds3n0xi",
        "outputId": "f98b1b48-0763-447e-fcdc-98295ec08e4b"
      },
      "execution_count": null,
      "outputs": [
        {
          "output_type": "execute_result",
          "data": {
            "text/plain": [
              "array([[0, 0],\n",
              "       [2, 0]])"
            ]
          },
          "metadata": {},
          "execution_count": 65
        }
      ]
    },
    {
      "cell_type": "markdown",
      "source": [
        "Gaussian Process Classification (GPC) on the XOR Dataset in Scikit Learn"
      ],
      "metadata": {
        "id": "F-CSk0PsoFA5"
      }
    },
    {
      "cell_type": "code",
      "source": [
        "import numpy as np\n",
        "from sklearn.gaussian_process import GaussianProcessClassifier\n",
        "from sklearn.gaussian_process.kernels import RBF\n",
        "\n",
        "# Generate the XOR dataset\n",
        "X = np.array([[0, 0], [0, 1],\n",
        "\t\t\t[1, 0], [1, 1]])\n",
        "y = np.array([0, 1, 1, 0])\n",
        "\n",
        "# Create a GaussianProcessClassifier with\n",
        "# an RBF kernel and fit it to the data\n",
        "estimator = GaussianProcessClassifier(kernel=RBF())\n",
        "estimator.fit(X, y)\n",
        "\n",
        "# Obtain predictions for the data\n",
        "y_pred = estimator.predict(X)\n",
        "\n",
        "# Print the predictions\n",
        "print(y_pred)\n"
      ],
      "metadata": {
        "colab": {
          "base_uri": "https://localhost:8080/"
        },
        "id": "N41mRXgMoFx5",
        "outputId": "f0e7cd89-b203-424b-b359-c303110f6185"
      },
      "execution_count": null,
      "outputs": [
        {
          "output_type": "stream",
          "name": "stdout",
          "text": [
            "[0 1 1 0]\n"
          ]
        }
      ]
    },
    {
      "cell_type": "code",
      "source": [
        "from sklearn.metrics import confusion_matrix\n",
        "\n",
        "# Calculate the confusion matrix\n",
        "cm = confusion_matrix(y, y_pred)\n",
        "\n",
        "# Print the confusion matrix\n",
        "print(cm)\n"
      ],
      "metadata": {
        "colab": {
          "base_uri": "https://localhost:8080/"
        },
        "id": "FB6AbcYtoLN0",
        "outputId": "88301128-23dd-48e8-e27a-eedcdf8c71b4"
      },
      "execution_count": null,
      "outputs": [
        {
          "output_type": "stream",
          "name": "stdout",
          "text": [
            "[[2 0]\n",
            " [0 2]]\n"
          ]
        }
      ]
    },
    {
      "cell_type": "code",
      "source": [
        "import numpy as nm\n",
        "import matplotlib.pyplot as mtp\n",
        "import pandas as pd\n",
        "\n",
        "# Importing the dataset\n",
        "dataset = pd.read_csv('sample_data/user_data.csv')\n",
        "x = dataset.iloc[:, [2, 3]].values\n",
        "y = dataset.iloc[:, 4].values\n",
        "\n",
        "# Splitting the dataset into the Training set and Test set\n",
        "from sklearn.model_selection import train_test_split\n",
        "x_train, x_test, y_train, y_test = train_test_split(x, y, test_size = 0.25, random_state = 0)\n",
        "\n",
        "# Feature Scaling\n",
        "from sklearn.preprocessing import StandardScaler\n",
        "sc = StandardScaler()\n",
        "x_train = sc.fit_transform(x_train)\n",
        "x_test = sc.transform(x_test)"
      ],
      "metadata": {
        "id": "GlDxhedGsE0D"
      },
      "execution_count": 4,
      "outputs": []
    },
    {
      "cell_type": "code",
      "source": [
        "# prompt: whats is ACID properties in database\n",
        "\n",
        "print('''ACID properties are a set of database transaction properties that guarantee the reliability and consistency of data.\n",
        "\n",
        "Here's what each letter stands for:\n",
        "\n",
        "**Atomicity:**  A transaction is treated as a single, indivisible unit of work. Either all of the operations within the transaction are completed successfully, or none of them are.\n",
        "\n",
        "**Consistency:** A transaction brings the database from one valid state to another. It ensures that the database remains in a consistent state before and after the transaction.\n",
        "\n",
        "**Isolation:** Transactions are executed in isolation from each other, as if they were the only transactions running. This prevents conflicts between concurrent transactions.\n",
        "\n",
        "**Durability:** Once a transaction is committed, its changes are permanently saved to the database and will survive even in the event of system failures.\n",
        "\n",
        "These properties ensure that database transactions are reliable and maintain the integrity of the data, even in the face of errors or concurrent access.\n",
        "''')\n"
      ],
      "metadata": {
        "id": "VpwjIeD2qSGG"
      },
      "execution_count": null,
      "outputs": []
    }
  ],
  "metadata": {
    "colab": {
      "provenance": [],
      "authorship_tag": "ABX9TyPkboXrt3ZuR41gnqSZwYyH",
      "include_colab_link": true
    },
    "kernelspec": {
      "display_name": "Python 3",
      "name": "python3"
    },
    "language_info": {
      "name": "python"
    }
  },
  "nbformat": 4,
  "nbformat_minor": 0
}