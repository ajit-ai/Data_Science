{
  "cells": [
    {
      "cell_type": "markdown",
      "metadata": {
        "id": "view-in-github",
        "colab_type": "text"
      },
      "source": [
        "<a href=\"https://colab.research.google.com/github/ajit-ai/DataScience/blob/main/PyTorchNormal.ipynb\" target=\"_parent\"><img src=\"https://colab.research.google.com/assets/colab-badge.svg\" alt=\"Open In Colab\"/></a>"
      ]
    },
    {
      "cell_type": "code",
      "execution_count": null,
      "metadata": {
        "id": "X_uqokYGAi1l"
      },
      "outputs": [],
      "source": [
        "import torch\n",
        "from torch import nn\n",
        "from torchvision.datasets import MNIST\n",
        "from torch.utils.data import DataLoader\n",
        "from torchvision import transforms\n",
        "import time\n",
        "import datetime\n",
        "import os"
      ]
    },
    {
      "cell_type": "code",
      "execution_count": null,
      "metadata": {
        "id": "lORnFJ0zAxLZ"
      },
      "outputs": [],
      "source": [
        "# Define your neural network architecture with batch normalization\n",
        "class MLP(nn.Module):\n",
        "    def __init__(self):\n",
        "        super().__init__()\n",
        "        self.layers = nn.Sequential(\n",
        "            nn.Flatten(),                   # Flatten the input image tensor\n",
        "            nn.Linear(28 * 28, 64),         # Fully connected layer from 28*28 to 64 neurons\n",
        "            nn.BatchNorm1d(64),             # Batch normalization for stability and faster convergence\n",
        "            nn.ReLU(),                      # ReLU activation function\n",
        "            nn.Linear(64, 32),              # Fully connected layer from 64 to 32 neurons\n",
        "            nn.BatchNorm1d(32),             # Batch normalization for stability and faster convergence\n",
        "            nn.ReLU(),                      # ReLU activation function\n",
        "            nn.Linear(32, 10)               # Fully connected layer from 32 to 10 neurons (for MNIST classes)\n",
        "        )\n",
        "\n",
        "    def forward(self, x):\n",
        "        return self.layers(x)"
      ]
    },
    {
      "cell_type": "code",
      "execution_count": null,
      "metadata": {
        "colab": {
          "base_uri": "https://localhost:8080/"
        },
        "id": "qjKe_qYIA39w",
        "outputId": "11d55abf-0da7-4509-92ea-1b0a5ff66962"
      },
      "outputs": [
        {
          "name": "stderr",
          "output_type": "stream",
          "text": [
            "100%|██████████| 9.91M/9.91M [00:00<00:00, 34.8MB/s]\n",
            "100%|██████████| 28.9k/28.9k [00:00<00:00, 1.09MB/s]\n",
            "100%|██████████| 1.65M/1.65M [00:00<00:00, 9.94MB/s]\n",
            "100%|██████████| 4.54k/4.54k [00:00<00:00, 8.42MB/s]\n"
          ]
        }
      ],
      "source": [
        "if __name__ == '__main__':\n",
        "    # Set random seed for reproducibility\n",
        "    torch.manual_seed(47)\n",
        "\n",
        "    # Load the MNIST dataset\n",
        "    transform = transforms.Compose([\n",
        "        transforms.ToTensor()\n",
        "    ])\n",
        "    train_data = MNIST(os.getcwd(), download=True, transform=transforms.ToTensor())\n",
        "    train_loader = DataLoader(train_data, batch_size=64, shuffle=True)"
      ]
    },
    {
      "cell_type": "code",
      "execution_count": null,
      "metadata": {
        "id": "UmTsKM-yCsDp"
      },
      "outputs": [],
      "source": [
        "mlp = MLP() # Initialize MLP model\n",
        "loss_function = nn.CrossEntropyLoss()    # Cross-entropy loss function for classification\n",
        "optimizer = torch.optim.Adam(mlp.parameters(), lr=1e-3)   # Adam optimizer with learning rate 0.001"
      ]
    },
    {
      "cell_type": "code",
      "execution_count": null,
      "metadata": {
        "colab": {
          "base_uri": "https://localhost:8080/"
        },
        "id": "zt0cf_knCv2P",
        "outputId": "b60b1587-5b2b-4360-fe03-4a9f34f06b05"
      },
      "outputs": [
        {
          "name": "stdout",
          "output_type": "stream",
          "text": [
            "Starting epoch 1\n",
            "Epoch 1, Mini-batch 100, Loss: 1.1071095156669617\n",
            "Epoch 1, Mini-batch 200, Loss: 0.48408970385789873\n",
            "Epoch 1, Mini-batch 300, Loss: 0.3104418051242828\n",
            "Epoch 1, Mini-batch 400, Loss: 0.26336906000971794\n",
            "Epoch 1, Mini-batch 500, Loss: 0.22288601607084274\n",
            "Epoch 1, Mini-batch 600, Loss: 0.20098184302449226\n",
            "Epoch 1, Mini-batch 700, Loss: 0.18423103533685206\n",
            "Epoch 1, Mini-batch 800, Loss: 0.16405216380953788\n",
            "Epoch 1, Mini-batch 900, Loss: 0.14631170395761728\n",
            "Starting epoch 2\n",
            "Epoch 2, Mini-batch 100, Loss: 0.12182405546307563\n",
            "Epoch 2, Mini-batch 200, Loss: 0.1157226226851344\n",
            "Epoch 2, Mini-batch 300, Loss: 0.12297858588397503\n",
            "Epoch 2, Mini-batch 400, Loss: 0.12761864580214025\n",
            "Epoch 2, Mini-batch 500, Loss: 0.12739025708287954\n",
            "Epoch 2, Mini-batch 600, Loss: 0.10691166184842586\n",
            "Epoch 2, Mini-batch 700, Loss: 0.12470327839255332\n",
            "Epoch 2, Mini-batch 800, Loss: 0.10864155779592694\n",
            "Epoch 2, Mini-batch 900, Loss: 0.10706586236134172\n",
            "Starting epoch 3\n",
            "Epoch 3, Mini-batch 100, Loss: 0.09460175671614707\n",
            "Epoch 3, Mini-batch 200, Loss: 0.08580301646143199\n",
            "Epoch 3, Mini-batch 300, Loss: 0.08968512518331409\n",
            "Epoch 3, Mini-batch 400, Loss: 0.08367499428801238\n",
            "Epoch 3, Mini-batch 500, Loss: 0.08743745630607008\n",
            "Epoch 3, Mini-batch 600, Loss: 0.0885771809425205\n",
            "Epoch 3, Mini-batch 700, Loss: 0.08851641036570072\n",
            "Epoch 3, Mini-batch 800, Loss: 0.08432795900851488\n",
            "Epoch 3, Mini-batch 900, Loss: 0.09155286164954304\n",
            "Training finished\n",
            "Training process has been completed. \n",
            "Training time: 0:00:30.229804\n"
          ]
        }
      ],
      "source": [
        "start_time = time.time()\n",
        "\n",
        "# Training loop\n",
        "for epoch in range(3):   # Iterate over 3 epochs\n",
        "    print(f'Starting epoch {epoch + 1}')\n",
        "    running_loss = 0.0\n",
        "    for i, data in enumerate(train_loader, 0):\n",
        "        inputs, labels = data\n",
        "        optimizer.zero_grad()   # Zero the gradients\n",
        "        outputs = mlp(inputs.view(inputs.shape[0], -1))   # Flatten the input for MLP and forward pass\n",
        "        loss = loss_function(outputs, labels)   # Compute the loss\n",
        "        loss.backward()   # Backpropagation\n",
        "        optimizer.step()   # Optimizer step to update parameters\n",
        "\n",
        "        running_loss += loss.item()\n",
        "        if i % 100 == 99:   # Print every 100 mini-batches\n",
        "            print(f'Epoch {epoch + 1}, Mini-batch {i + 1}, Loss: {running_loss / 100}')\n",
        "            running_loss = 0.0\n",
        "print('Training finished')\n",
        "\n",
        "end_time = time.time() # Record end time\n",
        "print('Training process has been completed. ')\n",
        "training_time = end_time - start_time\n",
        "\n",
        "print('Training time:', str(datetime.timedelta(seconds=training_time))) # for calculating the training time in minutes and seconds format"
      ]
    },
    {
      "cell_type": "code",
      "execution_count": null,
      "metadata": {
        "id": "ndAjtreHD_qY"
      },
      "outputs": [],
      "source": [
        "import torch\n",
        "import torchvision\n",
        "import torchvision.transforms as transforms"
      ]
    },
    {
      "cell_type": "code",
      "execution_count": null,
      "metadata": {
        "colab": {
          "base_uri": "https://localhost:8080/"
        },
        "id": "ROY9vvheEFN_",
        "outputId": "e8cdb3ce-da99-4c04-c61d-f0ef09007fbf"
      },
      "outputs": [
        {
          "name": "stderr",
          "output_type": "stream",
          "text": [
            "100%|██████████| 9.91M/9.91M [00:00<00:00, 33.8MB/s]\n",
            "100%|██████████| 28.9k/28.9k [00:00<00:00, 1.05MB/s]\n",
            "100%|██████████| 1.65M/1.65M [00:00<00:00, 9.47MB/s]\n",
            "100%|██████████| 4.54k/4.54k [00:00<00:00, 5.78MB/s]\n"
          ]
        }
      ],
      "source": [
        "transform = transforms.Compose([transforms.ToTensor(),\n",
        "                                transforms.Normalize((0.5,), (0.5,))])\n",
        "\n",
        "trainset = torchvision.datasets.MNIST(root='./data', train=True,\n",
        "                                        download=True, transform=transform)\n",
        "trainloader = torch.utils.data.DataLoader(trainset, batch_size=64,\n",
        "                                          shuffle=True, num_workers=2)"
      ]
    },
    {
      "cell_type": "code",
      "execution_count": null,
      "metadata": {
        "id": "duGDS7ICEJyR"
      },
      "outputs": [],
      "source": [
        "class Net(torch.nn.Module):\n",
        "    def __init__(self):\n",
        "        super(Net, self).__init__()\n",
        "        self.fc1 = torch.nn.Linear(784, 128)\n",
        "        self.fc2 = torch.nn.Linear(128, 128)\n",
        "        self.fc3 = torch.nn.Linear(128, 10)\n",
        "\n",
        "    def forward(self, x):\n",
        "        x = x.view(-1, 784)\n",
        "        x = torch.nn.functional.relu(self.fc1(x))\n",
        "        x = torch.nn.functional.relu(self.fc2(x))\n",
        "        x = torch.nn.functional.softmax(self.fc3(x), dim=1)\n",
        "        return x\n",
        "\n",
        "net = Net()"
      ]
    },
    {
      "cell_type": "code",
      "execution_count": null,
      "metadata": {
        "id": "qsCSHLQ6EM_Q"
      },
      "outputs": [],
      "source": [
        "criterion = torch.nn.CrossEntropyLoss()\n",
        "\n",
        "# SGD optimizer\n",
        "optimizer_sgd = torch.optim.SGD(net.parameters(), lr=0.01, momentum=0.9)\n",
        "\n",
        "# Adam optimizer\n",
        "optimizer_adam = torch.optim.Adam(net.parameters(), lr=0.01, betas=(0.9, 0.999))\n",
        "\n",
        "# Adagrad optimizer\n",
        "optimizer_adagrad = torch.optim.Adagrad(net.parameters(), lr=0.01)\n",
        "\n",
        "# Adadelta optimizer\n",
        "optimizer_adadelta = torch.optim.Adadelta(net.parameters(), rho=0.9)"
      ]
    },
    {
      "cell_type": "code",
      "execution_count": null,
      "metadata": {
        "colab": {
          "base_uri": "https://localhost:8080/"
        },
        "id": "XnUMW7yNEP_Y",
        "outputId": "4e13405c-3db9-4875-f47e-68b50e2fb6c4"
      },
      "outputs": [
        {
          "name": "stdout",
          "output_type": "stream",
          "text": [
            "Epoch: 1 | Loss: 2.362 | Accuracy: 9.913 %\n",
            "Epoch: 2 | Loss: 2.362 | Accuracy: 9.915 %\n",
            "Epoch: 3 | Loss: 2.362 | Accuracy: 9.915 %\n",
            "Epoch: 4 | Loss: 2.362 | Accuracy: 9.915 %\n",
            "Epoch: 5 | Loss: 2.362 | Accuracy: 9.915 %\n",
            "Epoch: 6 | Loss: 2.362 | Accuracy: 9.915 %\n",
            "Epoch: 7 | Loss: 2.362 | Accuracy: 9.915 %\n",
            "Epoch: 8 | Loss: 2.362 | Accuracy: 9.915 %\n",
            "Epoch: 9 | Loss: 2.362 | Accuracy: 9.915 %\n",
            "Epoch: 10 | Loss: 2.362 | Accuracy: 9.915 %\n"
          ]
        }
      ],
      "source": [
        "# Train the neural network using different optimization algorithms\n",
        "\n",
        "device = torch.device(\"cuda\" if torch.cuda.is_available() else \"cpu\")\n",
        "net.to(device)\n",
        "\n",
        "for epoch in range(10):\n",
        "    running_loss = 0.0\n",
        "    correct = 0\n",
        "    total = 0\n",
        "    for i, data in enumerate(trainloader, 0):\n",
        "        inputs, labels = data\n",
        "        # move data and target to the GPU\n",
        "        inputs, labels = inputs.to(device), labels.to(device)\n",
        "        optimizer_sgd.zero_grad()\n",
        "        optimizer_adam.zero_grad()\n",
        "        optimizer_adagrad.zero_grad()\n",
        "        optimizer_adadelta.zero_grad()\n",
        "        outputs = net(inputs)\n",
        "        loss = criterion(outputs, labels)\n",
        "        loss.backward()\n",
        "        optimizer_sgd.step()\n",
        "        optimizer_adam.step()\n",
        "        optimizer_adagrad.step()\n",
        "        optimizer_adadelta.step()\n",
        "        running_loss += loss.item()\n",
        "        _, predicted = torch.max(outputs.data, 1)\n",
        "        total += labels.size(0)\n",
        "        correct += (predicted == labels).sum().item()\n",
        "\n",
        "    print('Epoch: %d | Loss: %.3f | Accuracy: %.3f %%' %\n",
        "          (epoch + 1, running_loss / len(trainloader), 100 * correct / total))"
      ]
    },
    {
      "cell_type": "code",
      "execution_count": null,
      "metadata": {
        "colab": {
          "base_uri": "https://localhost:8080/"
        },
        "id": "GyhhXbOlFZ0Q",
        "outputId": "90347492-7261-4dc3-d204-5dd2d8999c81"
      },
      "outputs": [
        {
          "name": "stderr",
          "output_type": "stream",
          "text": [
            "100%|██████████| 170M/170M [00:01<00:00, 89.8MB/s]\n"
          ]
        },
        {
          "name": "stdout",
          "output_type": "stream",
          "text": [
            "Epoch: 1 | Loss: 1.632 | Accuracy: 41.026 %\n",
            "Epoch: 2 | Loss: 1.446 | Accuracy: 50.310 %\n",
            "Epoch: 3 | Loss: 1.388 | Accuracy: 53.374 %\n",
            "Epoch: 4 | Loss: 1.349 | Accuracy: 55.592 %\n",
            "Epoch: 5 | Loss: 1.315 | Accuracy: 57.034 %\n",
            "Epoch: 6 | Loss: 1.293 | Accuracy: 58.522 %\n",
            "Epoch: 7 | Loss: 1.267 | Accuracy: 59.394 %\n",
            "Epoch: 8 | Loss: 1.254 | Accuracy: 59.732 %\n",
            "Epoch: 9 | Loss: 1.242 | Accuracy: 60.208 %\n",
            "Epoch: 10 | Loss: 1.231 | Accuracy: 61.104 %\n"
          ]
        }
      ],
      "source": [
        "import torch\n",
        "import torch.nn as nn\n",
        "import torch.optim as optim\n",
        "import torchvision.datasets as datasets\n",
        "import torchvision.transforms as transforms\n",
        "from torch.utils.data import DataLoader\n",
        "\n",
        "# Define a neural network architecture\n",
        "class Net(nn.Module):\n",
        "    def __init__(self):\n",
        "        super(Net, self).__init__()\n",
        "        self.conv1 = nn.Conv2d(3, 6, 5)\n",
        "        self.pool = nn.MaxPool2d(2, 2)\n",
        "        self.conv2 = nn.Conv2d(6, 16, 5)\n",
        "        self.fc1 = nn.Linear(16 * 5 * 5, 120)\n",
        "        self.fc2 = nn.Linear(120, 84)\n",
        "        self.fc3 = nn.Linear(84, 10)\n",
        "\n",
        "    def forward(self, x):\n",
        "        x = self.pool(torch.relu(self.conv1(x)))\n",
        "        x = self.pool(torch.relu(self.conv2(x)))\n",
        "        x = x.view(-1, 16 * 5 * 5)\n",
        "        x = torch.relu(self.fc1(x))\n",
        "        x = torch.relu(self.fc2(x))\n",
        "        x = self.fc3(x)\n",
        "        return x\n",
        "\n",
        "# Define the training dataset and data loader\n",
        "transform = transforms.Compose([transforms.ToTensor(),\n",
        "                                transforms.Normalize((0.5, 0.5, 0.5), (0.5, 0.5, 0.5))])\n",
        "trainset = datasets.CIFAR10(\n",
        "    root='./data', train=True, download=True, transform=transform)\n",
        "trainloader = DataLoader(trainset, batch_size=4, shuffle=True, num_workers=2)\n",
        "\n",
        "# Move the model to the GPU\n",
        "device = torch.device(\"cuda:0\" if torch.cuda.is_available() else \"cpu\")\n",
        "net = Net().to(device)\n",
        "\n",
        "# Define the optimization algorithms\n",
        "optimizers = [optim.SGD(net.parameters('fc3'), lr=0.001, momentum=0.9),\n",
        "              optim.Adagrad(net.parameters('fc2'), lr=0.001),\n",
        "             optim.Adam(net.parameters('fc1'), lr=0.001)]\n",
        "\n",
        "\n",
        "# Train the neural network using different optimization algorithms\n",
        "for epoch in range(10):\n",
        "    running_loss = 0.0\n",
        "    correct = 0\n",
        "    total = 0\n",
        "    for i, data in enumerate(trainloader, 0):\n",
        "        inputs, labels = data\n",
        "        # move data and target to the GPU\n",
        "        inputs, labels = inputs.to(device), labels.to(device)\n",
        "        for optimizer in optimizers:\n",
        "            optimizer.zero_grad()\n",
        "        outputs = net(inputs)\n",
        "\n",
        "        EntropyLoss = nn.CrossEntropyLoss()(outputs, labels)\n",
        "        fc1_loss = nn.L1Loss()(net.fc1.weight, torch.zeros_like(net.fc1.weight))\n",
        "        fc2_loss = nn.L1Loss()(net.fc2.weight, torch.zeros_like(net.fc2.weight))\n",
        "        total_loss = EntropyLoss + fc1_loss + fc2_loss\n",
        "        total_loss.backward()\n",
        "\n",
        "        for optimizer in optimizers:\n",
        "            optimizer.step()\n",
        "        running_loss += total_loss.item()\n",
        "        _, predicted = torch.max(outputs.data, 1)\n",
        "        total += labels.size(0)\n",
        "        correct += (predicted == labels).sum().item()\n",
        "    print('Epoch: %d | Loss: %.3f | Accuracy: %.3f %%' %\n",
        "          (epoch + 1, running_loss / len(trainloader), 100 * correct / total))"
      ]
    },
    {
      "cell_type": "code",
      "execution_count": null,
      "metadata": {
        "id": "xlvBsRaDIEAz"
      },
      "outputs": [],
      "source": [
        "import torch\n",
        "import torch.nn as nn\n",
        "import torch.optim as optim\n",
        "from torchvision import datasets, transforms\n",
        "from torch.utils.data import DataLoader"
      ]
    },
    {
      "cell_type": "code",
      "execution_count": null,
      "metadata": {
        "id": "VHYo0DlEKOTJ"
      },
      "outputs": [],
      "source": [
        "class CNN(nn.Module):\n",
        "    def __init__(self):\n",
        "        super(CNN, self).__init__()\n",
        "        self.conv1 = nn.Conv2d(1, 32, kernel_size=3, stride=1, padding=1)\n",
        "        self.conv2 = nn.Conv2d(32, 64, kernel_size=3, stride=1, padding=1)\n",
        "        self.fc1 = nn.Linear(64 * 7 * 7, 128)\n",
        "        self.fc2 = nn.Linear(128, 10)\n",
        "\n",
        "    def forward(self, x):\n",
        "        x = torch.relu(self.conv1(x))\n",
        "        x = torch.max_pool2d(x, kernel_size=2, stride=2)\n",
        "        x = torch.relu(self.conv2(x))\n",
        "        x = torch.max_pool2d(x, kernel_size=2, stride=2)\n",
        "        x = x.view(-1, 64 * 7 * 7)\n",
        "        x = torch.relu(self.fc1(x))\n",
        "        x = self.fc2(x)\n",
        "        return torch.log_softmax(x, dim=1)"
      ]
    },
    {
      "cell_type": "code",
      "execution_count": null,
      "metadata": {
        "id": "MHixrgMPKcCx"
      },
      "outputs": [],
      "source": [
        "def compute_fitness(model, train_loader, test_loader):\n",
        "    criterion = nn.NLLLoss()\n",
        "    optimizer = optim.Adam(model.parameters())\n",
        "\n",
        "    model.train()\n",
        "    for epoch in range(5):\n",
        "        for data, target in train_loader:\n",
        "            optimizer.zero_grad()\n",
        "            output = model(data)\n",
        "            loss = criterion(output, target)\n",
        "            loss.backward()\n",
        "            optimizer.step()\n",
        "\n",
        "    model.eval()\n",
        "    correct = 0\n",
        "    total = 0\n",
        "    with torch.no_grad():\n",
        "        for data, target in test_loader:\n",
        "            output = model(data)\n",
        "            _, predicted = torch.max(output.data, 1)\n",
        "            total += target.size(0)\n",
        "            correct += (predicted == target).sum().item()\n",
        "\n",
        "    accuracy = correct / total\n",
        "    return accuracy"
      ]
    },
    {
      "cell_type": "code",
      "execution_count": null,
      "metadata": {
        "colab": {
          "background_save": true,
          "base_uri": "https://localhost:8080/"
        },
        "id": "qqTTXRDsKm8X",
        "outputId": "39e16799-18c0-4e05-b5a7-74132378c154"
      },
      "outputs": [
        {
          "name": "stdout",
          "output_type": "stream",
          "text": [
            "Generation: 1\n",
            "Best accuracy in generation 1 : 0.9917\n",
            "Best individual: CNN(\n",
            "  (conv1): Conv2d(1, 32, kernel_size=(3, 3), stride=(1, 1), padding=(1, 1))\n",
            "  (conv2): Conv2d(32, 64, kernel_size=(3, 3), stride=(1, 1), padding=(1, 1))\n",
            "  (fc1): Linear(in_features=3136, out_features=128, bias=True)\n",
            "  (fc2): Linear(in_features=128, out_features=10, bias=True)\n",
            ")\n"
          ]
        },
        {
          "ename": "IndexError",
          "evalue": "list index out of range",
          "output_type": "error",
          "traceback": [
            "\u001b[0;31m---------------------------------------------------------------------------\u001b[0m",
            "\u001b[0;31mIndexError\u001b[0m                                Traceback (most recent call last)",
            "\u001b[0;32m/tmp/ipython-input-16-3956676988.py\u001b[0m in \u001b[0;36m<cell line: 0>\u001b[0;34m()\u001b[0m\n\u001b[1;32m    111\u001b[0m     \u001b[0;32mfor\u001b[0m \u001b[0mi\u001b[0m \u001b[0;32min\u001b[0m \u001b[0mrange\u001b[0m\u001b[0;34m(\u001b[0m\u001b[0;36m0\u001b[0m\u001b[0;34m,\u001b[0m \u001b[0mlen\u001b[0m\u001b[0;34m(\u001b[0m\u001b[0mselected_individuals\u001b[0m\u001b[0;34m)\u001b[0m\u001b[0;34m,\u001b[0m \u001b[0;36m2\u001b[0m\u001b[0;34m)\u001b[0m\u001b[0;34m:\u001b[0m\u001b[0;34m\u001b[0m\u001b[0;34m\u001b[0m\u001b[0m\n\u001b[1;32m    112\u001b[0m         \u001b[0mparent1\u001b[0m \u001b[0;34m=\u001b[0m \u001b[0mselected_individuals\u001b[0m\u001b[0;34m[\u001b[0m\u001b[0mi\u001b[0m\u001b[0;34m]\u001b[0m\u001b[0;34m\u001b[0m\u001b[0;34m\u001b[0m\u001b[0m\n\u001b[0;32m--> 113\u001b[0;31m         \u001b[0mparent2\u001b[0m \u001b[0;34m=\u001b[0m \u001b[0mselected_individuals\u001b[0m\u001b[0;34m[\u001b[0m\u001b[0mi\u001b[0m \u001b[0;34m+\u001b[0m \u001b[0;36m1\u001b[0m\u001b[0;34m]\u001b[0m\u001b[0;34m\u001b[0m\u001b[0;34m\u001b[0m\u001b[0m\n\u001b[0m\u001b[1;32m    114\u001b[0m         \u001b[0mchild1\u001b[0m\u001b[0;34m,\u001b[0m \u001b[0mchild2\u001b[0m \u001b[0;34m=\u001b[0m \u001b[0mcrossover\u001b[0m\u001b[0;34m(\u001b[0m\u001b[0mparent1\u001b[0m\u001b[0;34m,\u001b[0m \u001b[0mparent2\u001b[0m\u001b[0;34m)\u001b[0m\u001b[0;34m\u001b[0m\u001b[0;34m\u001b[0m\u001b[0m\n\u001b[1;32m    115\u001b[0m         \u001b[0mchild1\u001b[0m \u001b[0;34m=\u001b[0m \u001b[0mmutate\u001b[0m\u001b[0;34m(\u001b[0m\u001b[0mchild1\u001b[0m\u001b[0;34m)\u001b[0m\u001b[0;34m\u001b[0m\u001b[0;34m\u001b[0m\u001b[0m\n",
            "\u001b[0;31mIndexError\u001b[0m: list index out of range"
          ]
        }
      ],
      "source": [
        "import torch\n",
        "import torch.nn as nn\n",
        "import torch.optim as optim\n",
        "from torchvision import datasets, transforms\n",
        "from torch.utils.data import DataLoader\n",
        "\n",
        "# Define the neural network architecture (CNN)\n",
        "class CNN(nn.Module):\n",
        "    def __init__(self):\n",
        "        super(CNN, self).__init__()\n",
        "        self.conv1 = nn.Conv2d(1, 32, kernel_size=3, stride=1, padding=1)\n",
        "        self.conv2 = nn.Conv2d(32, 64, kernel_size=3, stride=1, padding=1)\n",
        "        self.fc1 = nn.Linear(64 * 7 * 7, 128)\n",
        "        self.fc2 = nn.Linear(128, 10)\n",
        "\n",
        "    def forward(self, x):\n",
        "        x = torch.relu(self.conv1(x))\n",
        "        x = torch.max_pool2d(x, kernel_size=2, stride=2)\n",
        "        x = torch.relu(self.conv2(x))\n",
        "        x = torch.max_pool2d(x, kernel_size=2, stride=2)\n",
        "        x = x.view(-1, 64 * 7 * 7)\n",
        "        x = torch.relu(self.fc1(x))\n",
        "        x = self.fc2(x)\n",
        "        return torch.log_softmax(x, dim=1)\n",
        "\n",
        "# Function to compute fitness (accuracy) of an individual (hyperparameters)\n",
        "def compute_fitness(model, train_loader, test_loader):\n",
        "    criterion = nn.NLLLoss()\n",
        "    optimizer = optim.Adam(model.parameters())\n",
        "\n",
        "    model.train()\n",
        "    for epoch in range(5):\n",
        "        for data, target in train_loader:\n",
        "            optimizer.zero_grad()\n",
        "            output = model(data)\n",
        "            loss = criterion(output, target)\n",
        "            loss.backward()\n",
        "            optimizer.step()\n",
        "\n",
        "    model.eval()\n",
        "    correct = 0\n",
        "    total = 0\n",
        "    with torch.no_grad():\n",
        "        for data, target in test_loader:\n",
        "            output = model(data)\n",
        "            _, predicted = torch.max(output.data, 1)\n",
        "            total += target.size(0)\n",
        "            correct += (predicted == target).sum().item()\n",
        "\n",
        "    accuracy = correct / total\n",
        "    return accuracy\n",
        "\n",
        "# Genetic algorithm parameters\n",
        "population_size = 10\n",
        "mutation_rate = 0.1\n",
        "num_generations = 5\n",
        "\n",
        "# Initialize genetic algorithm parameters\n",
        "def initialize_population():\n",
        "    population = []\n",
        "    for _ in range(population_size):\n",
        "        model = CNN()\n",
        "        population.append(model)\n",
        "    return population\n",
        "\n",
        "# Crossover operator: Single-point crossover\n",
        "def crossover(parent1, parent2):\n",
        "    child1 = CNN()\n",
        "    child2 = CNN()\n",
        "    child1.conv1.weight.data = torch.cat((parent1.conv1.weight.data[:16], parent2.conv1.weight.data[16:]), dim=0)\n",
        "    child2.conv1.weight.data = torch.cat((parent2.conv1.weight.data[:16], parent1.conv1.weight.data[16:]), dim=0)\n",
        "    return child1, child2\n",
        "\n",
        "# Mutation operator: Random mutation\n",
        "def mutate(model):\n",
        "    for param in model.parameters():\n",
        "        if torch.rand(1).item() < mutation_rate:\n",
        "            param.data += torch.randn_like(param.data) * 0.1  # Adding Gaussian noise with std=0.1\n",
        "    return model\n",
        "\n",
        "# Load MNIST dataset\n",
        "transform = transforms.Compose([transforms.ToTensor(), transforms.Normalize((0.5,), (0.5,))])\n",
        "train_dataset = datasets.MNIST(root='./data', train=True, transform=transform, download=True)\n",
        "train_loader = DataLoader(train_dataset, batch_size=64, shuffle=True)\n",
        "test_dataset = datasets.MNIST(root='./data', train=False, transform=transform, download=True)\n",
        "test_loader = DataLoader(test_dataset, batch_size=64, shuffle=False)\n",
        "\n",
        "# Genetic algorithm\n",
        "population = initialize_population()\n",
        "for generation in range(num_generations):\n",
        "    print(\"Generation:\", generation + 1)\n",
        "    best_accuracy = 0\n",
        "    best_individual = None\n",
        "\n",
        "    # Compute fitness for each individual\n",
        "    for individual in population:\n",
        "        fitness = compute_fitness(individual, train_loader, test_loader)\n",
        "        if fitness > best_accuracy:\n",
        "            best_accuracy = fitness\n",
        "            best_individual = individual\n",
        "\n",
        "    print(\"Best accuracy in generation\", generation + 1, \":\", best_accuracy)\n",
        "    print(\"Best individual:\", best_individual)\n",
        "\n",
        "    next_generation = []\n",
        "\n",
        "    # Select top individuals for next generation\n",
        "    selected_individuals = population[:population_size // 2]\n",
        "\n",
        "    # Crossover and mutation\n",
        "    for i in range(0, len(selected_individuals), 2):\n",
        "        parent1 = selected_individuals[i]\n",
        "        parent2 = selected_individuals[i + 1]\n",
        "        child1, child2 = crossover(parent1, parent2)\n",
        "        child1 = mutate(child1)\n",
        "        child2 = mutate(child2)\n",
        "        next_generation.extend([child1, child2])\n",
        "\n",
        "    population = next_generation\n",
        "\n",
        "# Print final population\n",
        "print(\"Final population:\")\n",
        "for individual in population:\n",
        "    print(\"Individual:\", individual)"
      ]
    }
  ],
  "metadata": {
    "colab": {
      "provenance": [],
      "authorship_tag": "ABX9TyOq/ibwjyLWyHXUqcbwdHkn",
      "include_colab_link": true
    },
    "kernelspec": {
      "display_name": "Python 3",
      "name": "python3"
    },
    "language_info": {
      "name": "python"
    }
  },
  "nbformat": 4,
  "nbformat_minor": 0
}