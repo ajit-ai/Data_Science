{
  "cells": [
    {
      "cell_type": "markdown",
      "metadata": {
        "id": "view-in-github",
        "colab_type": "text"
      },
      "source": [
        "<a href=\"https://colab.research.google.com/github/ajit-ai/DataScience/blob/main/QisKit_BaseCircuit.ipynb\" target=\"_parent\"><img src=\"https://colab.research.google.com/assets/colab-badge.svg\" alt=\"Open In Colab\"/></a>"
      ]
    },
    {
      "cell_type": "code",
      "execution_count": 15,
      "metadata": {
        "colab": {
          "base_uri": "https://localhost:8080/"
        },
        "id": "Igm98JmV5j8F",
        "outputId": "0995c6ce-6901-46dd-9016-4436c847d18e"
      },
      "outputs": [
        {
          "output_type": "stream",
          "name": "stdout",
          "text": [
            "Requirement already satisfied: qiskit in /usr/local/lib/python3.11/dist-packages (1.3.2)\n",
            "Requirement already satisfied: rustworkx>=0.15.0 in /usr/local/lib/python3.11/dist-packages (from qiskit) (0.16.0)\n",
            "Requirement already satisfied: numpy<3,>=1.17 in /usr/local/lib/python3.11/dist-packages (from qiskit) (1.26.4)\n",
            "Requirement already satisfied: scipy>=1.5 in /usr/local/lib/python3.11/dist-packages (from qiskit) (1.13.1)\n",
            "Requirement already satisfied: sympy>=1.3 in /usr/local/lib/python3.11/dist-packages (from qiskit) (1.13.1)\n",
            "Requirement already satisfied: dill>=0.3 in /usr/local/lib/python3.11/dist-packages (from qiskit) (0.3.9)\n",
            "Requirement already satisfied: python-dateutil>=2.8.0 in /usr/local/lib/python3.11/dist-packages (from qiskit) (2.8.2)\n",
            "Requirement already satisfied: stevedore>=3.0.0 in /usr/local/lib/python3.11/dist-packages (from qiskit) (5.4.0)\n",
            "Requirement already satisfied: typing-extensions in /usr/local/lib/python3.11/dist-packages (from qiskit) (4.12.2)\n",
            "Requirement already satisfied: symengine<0.14,>=0.11 in /usr/local/lib/python3.11/dist-packages (from qiskit) (0.13.0)\n",
            "Requirement already satisfied: six>=1.5 in /usr/local/lib/python3.11/dist-packages (from python-dateutil>=2.8.0->qiskit) (1.17.0)\n",
            "Requirement already satisfied: pbr>=2.0.0 in /usr/local/lib/python3.11/dist-packages (from stevedore>=3.0.0->qiskit) (6.1.1)\n",
            "Requirement already satisfied: mpmath<1.4,>=1.1.0 in /usr/local/lib/python3.11/dist-packages (from sympy>=1.3->qiskit) (1.3.0)\n",
            "Requirement already satisfied: setuptools in /usr/local/lib/python3.11/dist-packages (from pbr>=2.0.0->stevedore>=3.0.0->qiskit) (75.1.0)\n",
            "Requirement already satisfied: qiskit in /usr/local/lib/python3.11/dist-packages (1.3.2)\n",
            "Requirement already satisfied: qiskit-aer in /usr/local/lib/python3.11/dist-packages (0.16.1)\n",
            "Requirement already satisfied: rustworkx>=0.15.0 in /usr/local/lib/python3.11/dist-packages (from qiskit) (0.16.0)\n",
            "Requirement already satisfied: numpy<3,>=1.17 in /usr/local/lib/python3.11/dist-packages (from qiskit) (1.26.4)\n",
            "Requirement already satisfied: scipy>=1.5 in /usr/local/lib/python3.11/dist-packages (from qiskit) (1.13.1)\n",
            "Requirement already satisfied: sympy>=1.3 in /usr/local/lib/python3.11/dist-packages (from qiskit) (1.13.1)\n",
            "Requirement already satisfied: dill>=0.3 in /usr/local/lib/python3.11/dist-packages (from qiskit) (0.3.9)\n",
            "Requirement already satisfied: python-dateutil>=2.8.0 in /usr/local/lib/python3.11/dist-packages (from qiskit) (2.8.2)\n",
            "Requirement already satisfied: stevedore>=3.0.0 in /usr/local/lib/python3.11/dist-packages (from qiskit) (5.4.0)\n",
            "Requirement already satisfied: typing-extensions in /usr/local/lib/python3.11/dist-packages (from qiskit) (4.12.2)\n",
            "Requirement already satisfied: symengine<0.14,>=0.11 in /usr/local/lib/python3.11/dist-packages (from qiskit) (0.13.0)\n",
            "Requirement already satisfied: psutil>=5 in /usr/local/lib/python3.11/dist-packages (from qiskit-aer) (5.9.5)\n",
            "Requirement already satisfied: six>=1.5 in /usr/local/lib/python3.11/dist-packages (from python-dateutil>=2.8.0->qiskit) (1.17.0)\n",
            "Requirement already satisfied: pbr>=2.0.0 in /usr/local/lib/python3.11/dist-packages (from stevedore>=3.0.0->qiskit) (6.1.1)\n",
            "Requirement already satisfied: mpmath<1.4,>=1.1.0 in /usr/local/lib/python3.11/dist-packages (from sympy>=1.3->qiskit) (1.3.0)\n",
            "Requirement already satisfied: setuptools in /usr/local/lib/python3.11/dist-packages (from pbr>=2.0.0->stevedore>=3.0.0->qiskit) (75.1.0)\n",
            "Requirement already satisfied: qiskit-aer-gpu in /usr/local/lib/python3.11/dist-packages (0.15.1)\n",
            "Requirement already satisfied: qiskit>=1.1.0 in /usr/local/lib/python3.11/dist-packages (from qiskit-aer-gpu) (1.3.2)\n",
            "Requirement already satisfied: numpy>=1.16.3 in /usr/local/lib/python3.11/dist-packages (from qiskit-aer-gpu) (1.26.4)\n",
            "Requirement already satisfied: scipy>=1.0 in /usr/local/lib/python3.11/dist-packages (from qiskit-aer-gpu) (1.13.1)\n",
            "Requirement already satisfied: psutil>=5 in /usr/local/lib/python3.11/dist-packages (from qiskit-aer-gpu) (5.9.5)\n",
            "Requirement already satisfied: nvidia-cuda-runtime-cu12>=12.1.105 in /usr/local/lib/python3.11/dist-packages (from qiskit-aer-gpu) (12.5.82)\n",
            "Requirement already satisfied: nvidia-nvjitlink-cu12 in /usr/local/lib/python3.11/dist-packages (from qiskit-aer-gpu) (12.5.82)\n",
            "Requirement already satisfied: nvidia-cublas-cu12>=12.1.3.1 in /usr/local/lib/python3.11/dist-packages (from qiskit-aer-gpu) (12.5.3.2)\n",
            "Requirement already satisfied: nvidia-cusolver-cu12>=11.4.5.107 in /usr/local/lib/python3.11/dist-packages (from qiskit-aer-gpu) (11.6.3.83)\n",
            "Requirement already satisfied: nvidia-cusparse-cu12>=12.1.0.106 in /usr/local/lib/python3.11/dist-packages (from qiskit-aer-gpu) (12.5.1.3)\n",
            "Requirement already satisfied: cuquantum-cu12>=23.3.0 in /usr/local/lib/python3.11/dist-packages (from qiskit-aer-gpu) (24.11.0)\n",
            "Requirement already satisfied: custatevec-cu12==1.7.0 in /usr/local/lib/python3.11/dist-packages (from cuquantum-cu12>=23.3.0->qiskit-aer-gpu) (1.7.0)\n",
            "Requirement already satisfied: cutensornet-cu12==2.6.0 in /usr/local/lib/python3.11/dist-packages (from cuquantum-cu12>=23.3.0->qiskit-aer-gpu) (2.6.0)\n",
            "Requirement already satisfied: cudensitymat-cu12==0.0.5 in /usr/local/lib/python3.11/dist-packages (from cuquantum-cu12>=23.3.0->qiskit-aer-gpu) (0.0.5)\n",
            "Requirement already satisfied: cutensor-cu12<3,>=2.0.2 in /usr/local/lib/python3.11/dist-packages (from cudensitymat-cu12==0.0.5->cuquantum-cu12>=23.3.0->qiskit-aer-gpu) (2.0.2)\n",
            "Requirement already satisfied: rustworkx>=0.15.0 in /usr/local/lib/python3.11/dist-packages (from qiskit>=1.1.0->qiskit-aer-gpu) (0.16.0)\n",
            "Requirement already satisfied: sympy>=1.3 in /usr/local/lib/python3.11/dist-packages (from qiskit>=1.1.0->qiskit-aer-gpu) (1.13.1)\n",
            "Requirement already satisfied: dill>=0.3 in /usr/local/lib/python3.11/dist-packages (from qiskit>=1.1.0->qiskit-aer-gpu) (0.3.9)\n",
            "Requirement already satisfied: python-dateutil>=2.8.0 in /usr/local/lib/python3.11/dist-packages (from qiskit>=1.1.0->qiskit-aer-gpu) (2.8.2)\n",
            "Requirement already satisfied: stevedore>=3.0.0 in /usr/local/lib/python3.11/dist-packages (from qiskit>=1.1.0->qiskit-aer-gpu) (5.4.0)\n",
            "Requirement already satisfied: typing-extensions in /usr/local/lib/python3.11/dist-packages (from qiskit>=1.1.0->qiskit-aer-gpu) (4.12.2)\n",
            "Requirement already satisfied: symengine<0.14,>=0.11 in /usr/local/lib/python3.11/dist-packages (from qiskit>=1.1.0->qiskit-aer-gpu) (0.13.0)\n",
            "Requirement already satisfied: six>=1.5 in /usr/local/lib/python3.11/dist-packages (from python-dateutil>=2.8.0->qiskit>=1.1.0->qiskit-aer-gpu) (1.17.0)\n",
            "Requirement already satisfied: pbr>=2.0.0 in /usr/local/lib/python3.11/dist-packages (from stevedore>=3.0.0->qiskit>=1.1.0->qiskit-aer-gpu) (6.1.1)\n",
            "Requirement already satisfied: mpmath<1.4,>=1.1.0 in /usr/local/lib/python3.11/dist-packages (from sympy>=1.3->qiskit>=1.1.0->qiskit-aer-gpu) (1.3.0)\n",
            "Requirement already satisfied: setuptools in /usr/local/lib/python3.11/dist-packages (from pbr>=2.0.0->stevedore>=3.0.0->qiskit>=1.1.0->qiskit-aer-gpu) (75.1.0)\n",
            "Requirement already satisfied: qiskit-aer-gpu-cu11 in /usr/local/lib/python3.11/dist-packages (0.16.1)\n",
            "Requirement already satisfied: qiskit>=1.1.0 in /usr/local/lib/python3.11/dist-packages (from qiskit-aer-gpu-cu11) (1.3.2)\n",
            "Requirement already satisfied: numpy>=1.16.3 in /usr/local/lib/python3.11/dist-packages (from qiskit-aer-gpu-cu11) (1.26.4)\n",
            "Requirement already satisfied: scipy>=1.0 in /usr/local/lib/python3.11/dist-packages (from qiskit-aer-gpu-cu11) (1.13.1)\n",
            "Requirement already satisfied: psutil>=5 in /usr/local/lib/python3.11/dist-packages (from qiskit-aer-gpu-cu11) (5.9.5)\n",
            "Requirement already satisfied: nvidia-cuda-runtime-cu11>=11.8.89 in /usr/local/lib/python3.11/dist-packages (from qiskit-aer-gpu-cu11) (11.8.89)\n",
            "Requirement already satisfied: nvidia-cublas-cu11>=11.11.3.6 in /usr/local/lib/python3.11/dist-packages (from qiskit-aer-gpu-cu11) (11.11.3.6)\n",
            "Requirement already satisfied: nvidia-cusolver-cu11>=11.4.1.48 in /usr/local/lib/python3.11/dist-packages (from qiskit-aer-gpu-cu11) (11.4.1.48)\n",
            "Requirement already satisfied: nvidia-cusparse-cu11>=11.7.5.86 in /usr/local/lib/python3.11/dist-packages (from qiskit-aer-gpu-cu11) (11.7.5.86)\n",
            "Requirement already satisfied: cuquantum-cu11<24.11.0,>=23.3.0 in /usr/local/lib/python3.11/dist-packages (from qiskit-aer-gpu-cu11) (24.8.0)\n",
            "Requirement already satisfied: custatevec-cu11==1.6.0.post1 in /usr/local/lib/python3.11/dist-packages (from cuquantum-cu11<24.11.0,>=23.3.0->qiskit-aer-gpu-cu11) (1.6.0.post1)\n",
            "Requirement already satisfied: cutensornet-cu11==2.5.0 in /usr/local/lib/python3.11/dist-packages (from cuquantum-cu11<24.11.0,>=23.3.0->qiskit-aer-gpu-cu11) (2.5.0)\n",
            "Requirement already satisfied: cutensor-cu11<3,>=2.0.1 in /usr/local/lib/python3.11/dist-packages (from cutensornet-cu11==2.5.0->cuquantum-cu11<24.11.0,>=23.3.0->qiskit-aer-gpu-cu11) (2.0.2)\n",
            "Requirement already satisfied: rustworkx>=0.15.0 in /usr/local/lib/python3.11/dist-packages (from qiskit>=1.1.0->qiskit-aer-gpu-cu11) (0.16.0)\n",
            "Requirement already satisfied: sympy>=1.3 in /usr/local/lib/python3.11/dist-packages (from qiskit>=1.1.0->qiskit-aer-gpu-cu11) (1.13.1)\n",
            "Requirement already satisfied: dill>=0.3 in /usr/local/lib/python3.11/dist-packages (from qiskit>=1.1.0->qiskit-aer-gpu-cu11) (0.3.9)\n",
            "Requirement already satisfied: python-dateutil>=2.8.0 in /usr/local/lib/python3.11/dist-packages (from qiskit>=1.1.0->qiskit-aer-gpu-cu11) (2.8.2)\n",
            "Requirement already satisfied: stevedore>=3.0.0 in /usr/local/lib/python3.11/dist-packages (from qiskit>=1.1.0->qiskit-aer-gpu-cu11) (5.4.0)\n",
            "Requirement already satisfied: typing-extensions in /usr/local/lib/python3.11/dist-packages (from qiskit>=1.1.0->qiskit-aer-gpu-cu11) (4.12.2)\n",
            "Requirement already satisfied: symengine<0.14,>=0.11 in /usr/local/lib/python3.11/dist-packages (from qiskit>=1.1.0->qiskit-aer-gpu-cu11) (0.13.0)\n",
            "Requirement already satisfied: six>=1.5 in /usr/local/lib/python3.11/dist-packages (from python-dateutil>=2.8.0->qiskit>=1.1.0->qiskit-aer-gpu-cu11) (1.17.0)\n",
            "Requirement already satisfied: pbr>=2.0.0 in /usr/local/lib/python3.11/dist-packages (from stevedore>=3.0.0->qiskit>=1.1.0->qiskit-aer-gpu-cu11) (6.1.1)\n",
            "Requirement already satisfied: mpmath<1.4,>=1.1.0 in /usr/local/lib/python3.11/dist-packages (from sympy>=1.3->qiskit>=1.1.0->qiskit-aer-gpu-cu11) (1.3.0)\n",
            "Requirement already satisfied: setuptools in /usr/local/lib/python3.11/dist-packages (from pbr>=2.0.0->stevedore>=3.0.0->qiskit>=1.1.0->qiskit-aer-gpu-cu11) (75.1.0)\n",
            "\u001b[31mERROR: You must give at least one requirement to install (see \"pip help install\")\u001b[0m\u001b[31m\n",
            "\u001b[0mRequirement already satisfied: qiskit-aer in /usr/local/lib/python3.11/dist-packages (0.16.1)\n",
            "Requirement already satisfied: qiskit>=1.1.0 in /usr/local/lib/python3.11/dist-packages (from qiskit-aer) (1.3.2)\n",
            "Requirement already satisfied: numpy>=1.16.3 in /usr/local/lib/python3.11/dist-packages (from qiskit-aer) (1.26.4)\n",
            "Requirement already satisfied: scipy>=1.0 in /usr/local/lib/python3.11/dist-packages (from qiskit-aer) (1.13.1)\n",
            "Requirement already satisfied: psutil>=5 in /usr/local/lib/python3.11/dist-packages (from qiskit-aer) (5.9.5)\n",
            "Requirement already satisfied: rustworkx>=0.15.0 in /usr/local/lib/python3.11/dist-packages (from qiskit>=1.1.0->qiskit-aer) (0.16.0)\n",
            "Requirement already satisfied: sympy>=1.3 in /usr/local/lib/python3.11/dist-packages (from qiskit>=1.1.0->qiskit-aer) (1.13.1)\n",
            "Requirement already satisfied: dill>=0.3 in /usr/local/lib/python3.11/dist-packages (from qiskit>=1.1.0->qiskit-aer) (0.3.9)\n",
            "Requirement already satisfied: python-dateutil>=2.8.0 in /usr/local/lib/python3.11/dist-packages (from qiskit>=1.1.0->qiskit-aer) (2.8.2)\n",
            "Requirement already satisfied: stevedore>=3.0.0 in /usr/local/lib/python3.11/dist-packages (from qiskit>=1.1.0->qiskit-aer) (5.4.0)\n",
            "Requirement already satisfied: typing-extensions in /usr/local/lib/python3.11/dist-packages (from qiskit>=1.1.0->qiskit-aer) (4.12.2)\n",
            "Requirement already satisfied: symengine<0.14,>=0.11 in /usr/local/lib/python3.11/dist-packages (from qiskit>=1.1.0->qiskit-aer) (0.13.0)\n",
            "Requirement already satisfied: six>=1.5 in /usr/local/lib/python3.11/dist-packages (from python-dateutil>=2.8.0->qiskit>=1.1.0->qiskit-aer) (1.17.0)\n",
            "Requirement already satisfied: pbr>=2.0.0 in /usr/local/lib/python3.11/dist-packages (from stevedore>=3.0.0->qiskit>=1.1.0->qiskit-aer) (6.1.1)\n",
            "Requirement already satisfied: mpmath<1.4,>=1.1.0 in /usr/local/lib/python3.11/dist-packages (from sympy>=1.3->qiskit>=1.1.0->qiskit-aer) (1.3.0)\n",
            "Requirement already satisfied: setuptools in /usr/local/lib/python3.11/dist-packages (from pbr>=2.0.0->stevedore>=3.0.0->qiskit>=1.1.0->qiskit-aer) (75.1.0)\n",
            "Error: Command '['/content/.venv/bin/python3', '-m', 'ensurepip', '--upgrade', '--default-pip']' returned non-zero exit status 1.\n",
            "/bin/bash: line 1: .venv/bin/activate: No such file or directory\n",
            "Requirement already satisfied: qiskit-aer in /usr/local/lib/python3.11/dist-packages (0.16.1)\n",
            "Requirement already satisfied: qiskit[visualization] in /usr/local/lib/python3.11/dist-packages (1.3.2)\n",
            "Requirement already satisfied: rustworkx>=0.15.0 in /usr/local/lib/python3.11/dist-packages (from qiskit[visualization]) (0.16.0)\n",
            "Requirement already satisfied: numpy<3,>=1.17 in /usr/local/lib/python3.11/dist-packages (from qiskit[visualization]) (1.26.4)\n",
            "Requirement already satisfied: scipy>=1.5 in /usr/local/lib/python3.11/dist-packages (from qiskit[visualization]) (1.13.1)\n",
            "Requirement already satisfied: sympy>=1.3 in /usr/local/lib/python3.11/dist-packages (from qiskit[visualization]) (1.13.1)\n",
            "Requirement already satisfied: dill>=0.3 in /usr/local/lib/python3.11/dist-packages (from qiskit[visualization]) (0.3.9)\n",
            "Requirement already satisfied: python-dateutil>=2.8.0 in /usr/local/lib/python3.11/dist-packages (from qiskit[visualization]) (2.8.2)\n",
            "Requirement already satisfied: stevedore>=3.0.0 in /usr/local/lib/python3.11/dist-packages (from qiskit[visualization]) (5.4.0)\n",
            "Requirement already satisfied: typing-extensions in /usr/local/lib/python3.11/dist-packages (from qiskit[visualization]) (4.12.2)\n",
            "Requirement already satisfied: symengine<0.14,>=0.11 in /usr/local/lib/python3.11/dist-packages (from qiskit[visualization]) (0.13.0)\n",
            "Requirement already satisfied: matplotlib>=3.3 in /usr/local/lib/python3.11/dist-packages (from qiskit[visualization]) (3.10.0)\n",
            "Requirement already satisfied: pydot in /usr/local/lib/python3.11/dist-packages (from qiskit[visualization]) (3.0.4)\n",
            "Requirement already satisfied: Pillow>=4.2.1 in /usr/local/lib/python3.11/dist-packages (from qiskit[visualization]) (11.1.0)\n",
            "Requirement already satisfied: pylatexenc>=1.4 in /usr/local/lib/python3.11/dist-packages (from qiskit[visualization]) (2.10)\n",
            "Requirement already satisfied: seaborn>=0.9.0 in /usr/local/lib/python3.11/dist-packages (from qiskit[visualization]) (0.13.2)\n",
            "Requirement already satisfied: psutil>=5 in /usr/local/lib/python3.11/dist-packages (from qiskit-aer) (5.9.5)\n",
            "Requirement already satisfied: contourpy>=1.0.1 in /usr/local/lib/python3.11/dist-packages (from matplotlib>=3.3->qiskit[visualization]) (1.3.1)\n",
            "Requirement already satisfied: cycler>=0.10 in /usr/local/lib/python3.11/dist-packages (from matplotlib>=3.3->qiskit[visualization]) (0.12.1)\n",
            "Requirement already satisfied: fonttools>=4.22.0 in /usr/local/lib/python3.11/dist-packages (from matplotlib>=3.3->qiskit[visualization]) (4.56.0)\n",
            "Requirement already satisfied: kiwisolver>=1.3.1 in /usr/local/lib/python3.11/dist-packages (from matplotlib>=3.3->qiskit[visualization]) (1.4.8)\n",
            "Requirement already satisfied: packaging>=20.0 in /usr/local/lib/python3.11/dist-packages (from matplotlib>=3.3->qiskit[visualization]) (24.2)\n",
            "Requirement already satisfied: pyparsing>=2.3.1 in /usr/local/lib/python3.11/dist-packages (from matplotlib>=3.3->qiskit[visualization]) (3.2.1)\n",
            "Requirement already satisfied: six>=1.5 in /usr/local/lib/python3.11/dist-packages (from python-dateutil>=2.8.0->qiskit[visualization]) (1.17.0)\n",
            "Requirement already satisfied: pandas>=1.2 in /usr/local/lib/python3.11/dist-packages (from seaborn>=0.9.0->qiskit[visualization]) (2.2.2)\n",
            "Requirement already satisfied: pbr>=2.0.0 in /usr/local/lib/python3.11/dist-packages (from stevedore>=3.0.0->qiskit[visualization]) (6.1.1)\n",
            "Requirement already satisfied: mpmath<1.4,>=1.1.0 in /usr/local/lib/python3.11/dist-packages (from sympy>=1.3->qiskit[visualization]) (1.3.0)\n",
            "Requirement already satisfied: pytz>=2020.1 in /usr/local/lib/python3.11/dist-packages (from pandas>=1.2->seaborn>=0.9.0->qiskit[visualization]) (2025.1)\n",
            "Requirement already satisfied: tzdata>=2022.7 in /usr/local/lib/python3.11/dist-packages (from pandas>=1.2->seaborn>=0.9.0->qiskit[visualization]) (2025.1)\n",
            "Requirement already satisfied: setuptools in /usr/local/lib/python3.11/dist-packages (from pbr>=2.0.0->stevedore>=3.0.0->qiskit[visualization]) (75.1.0)\n"
          ]
        }
      ],
      "source": [
        "!pip install qiskit\n",
        "!pip install qiskit qiskit-aer\n",
        "!pip install qiskit-aer-gpu\n",
        "!pip install qiskit-aer-gpu-cu11\n",
        "!pip install --upgrade\n",
        "!pip install qiskit-aer\n",
        "\n",
        "# Create and activate a new virtual environment (recommended)\n",
        "# For Linux/macOS:\n",
        "!python3 -m venv .venv\n",
        "!source .venv/bin/activate\n",
        "\n",
        "# Install Qiskit and Aer within the virtual environment\n",
        "!pip install qiskit[visualization] qiskit-aer\n",
        "\n",
        "# You can also upgrade the versions if desired.\n",
        "# The visualization extra is included to install matplotlib and other dependencies for plotting\n",
        "\n",
        "\n"
      ]
    },
    {
      "cell_type": "code",
      "source": [
        "import qiskit\n",
        "qiskit.__version__\n",
        "\n",
        "#{'qiskit-terra': '0.16.0',\n",
        "# 'qiskit-aer': '0.7.0',\n",
        "# 'qiskit-ignis': '0.5.0',\n",
        "# 'qiskit-ibmq-provider': '0.11.0',\n",
        "# 'qiskit-aqua': '0.8.0',\n",
        "# 'qiskit': '0.23.0'}"
      ],
      "metadata": {
        "id": "McoLkoqkw84D",
        "colab": {
          "base_uri": "https://localhost:8080/",
          "height": 35
        },
        "outputId": "58c5d42c-4d31-4df3-ba6f-901657083b71"
      },
      "execution_count": 16,
      "outputs": [
        {
          "output_type": "execute_result",
          "data": {
            "text/plain": [
              "'1.3.2'"
            ],
            "application/vnd.google.colaboratory.intrinsic+json": {
              "type": "string"
            }
          },
          "metadata": {},
          "execution_count": 16
        }
      ]
    },
    {
      "cell_type": "code",
      "source": [
        "!pip install pylatexenc\n",
        "from qiskit import *\n",
        "circuit = QuantumCircuit(3, 3)\n",
        "circuit.x(0)\n",
        "circuit.barrier()\n",
        "%matplotlib inline\n",
        "circuit.draw(output='mpl')"
      ],
      "metadata": {
        "id": "b2MjLKsjzKU-",
        "colab": {
          "base_uri": "https://localhost:8080/",
          "height": 337
        },
        "outputId": "897c4f5e-c007-439c-8c98-ce77c65d0370"
      },
      "execution_count": 17,
      "outputs": [
        {
          "output_type": "stream",
          "name": "stdout",
          "text": [
            "Requirement already satisfied: pylatexenc in /usr/local/lib/python3.11/dist-packages (2.10)\n"
          ]
        },
        {
          "output_type": "execute_result",
          "data": {
            "text/plain": [
              "<Figure size 287.496x367.889 with 1 Axes>"
            ],
            "image/png": "[encoded data removed]"
          },
          "metadata": {},
          "execution_count": 17
        }
      ]
    },
    {
      "cell_type": "code",
      "source": [
        "circuit.h(1)\n",
        "circuit.cx(1,2)\n",
        "circuit.cx(0,1)\n",
        "circuit.h(0)\n",
        "circuit.draw(output='mpl')"
      ],
      "metadata": {
        "id": "ejpN9U6DzQHL",
        "colab": {
          "base_uri": "https://localhost:8080/",
          "height": 320
        },
        "outputId": "ad88e702-8575-4830-a41d-ea81ed979964"
      },
      "execution_count": 18,
      "outputs": [
        {
          "output_type": "execute_result",
          "data": {
            "text/plain": [
              "<Figure size 621.941x367.889 with 1 Axes>"
            ],
            "image/png": "[encoded data removed]"
          },
          "metadata": {},
          "execution_count": 18
        }
      ]
    },
    {
      "cell_type": "code",
      "source": [
        "circuit.h(2)\n",
        "circuit.cx(1,2)\n",
        "circuit.cx(0,1)\n",
        "circuit.h(0)\n",
        "circuit.draw(output='mpl')"
      ],
      "metadata": {
        "id": "vDiN-GnFGQxq",
        "colab": {
          "base_uri": "https://localhost:8080/",
          "height": 320
        },
        "outputId": "762d6740-030e-412a-e2e1-a4b1a4238e04"
      },
      "execution_count": 19,
      "outputs": [
        {
          "output_type": "execute_result",
          "data": {
            "text/plain": [
              "<Figure size 789.163x367.889 with 1 Axes>"
            ],
            "image/png": "[encoded data removed]"
          },
          "metadata": {},
          "execution_count": 19
        }
      ]
    },
    {
      "cell_type": "code",
      "source": [
        "circuit.h(1)\n",
        "circuit.cx(1,2)\n",
        "circuit.cx(0,1)\n",
        "circuit.h(0)\n",
        "circuit.draw(output='mpl')"
      ],
      "metadata": {
        "id": "Ubvo8Px8MeWT",
        "colab": {
          "base_uri": "https://localhost:8080/",
          "height": 320
        },
        "outputId": "35d60cff-241b-4551-e879-2b25580b74e7"
      },
      "execution_count": 20,
      "outputs": [
        {
          "output_type": "execute_result",
          "data": {
            "text/plain": [
              "<Figure size 1040x367.889 with 1 Axes>"
            ],
            "image/png": "[encoded data removed]"
          },
          "metadata": {},
          "execution_count": 20
        }
      ]
    },
    {
      "cell_type": "code",
      "source": [
        "circuit.barrier()\n",
        "circuit.measure([0,1],[0,1])\n",
        "circuit.draw(output='mpl')\n",
        "circuit.barrier()"
      ],
      "metadata": {
        "id": "OsSzrwHXzZSs",
        "colab": {
          "base_uri": "https://localhost:8080/"
        },
        "outputId": "e8bc673a-2055-4a62-9c4e-c398c82b9113"
      },
      "execution_count": 21,
      "outputs": [
        {
          "output_type": "execute_result",
          "data": {
            "text/plain": [
              "CircuitInstruction(operation=Instruction(name='barrier', num_qubits=3, num_clbits=0, params=[]), qubits=(Qubit(QuantumRegister(3, 'q'), 0), Qubit(QuantumRegister(3, 'q'), 1), Qubit(QuantumRegister(3, 'q'), 2)), clbits=())"
            ]
          },
          "metadata": {},
          "execution_count": 21
        }
      ]
    },
    {
      "cell_type": "code",
      "source": [
        "circuit.barrier()\n",
        "circuit.measure([0,1],[0,1])\n",
        "circuit.draw(output='mpl')\n",
        "circuit.barrier()"
      ],
      "metadata": {
        "id": "pNHwRDFdzg6j",
        "colab": {
          "base_uri": "https://localhost:8080/"
        },
        "outputId": "4700b2c6-5011-4c21-c4b3-db81b6c1ed35"
      },
      "execution_count": 22,
      "outputs": [
        {
          "output_type": "execute_result",
          "data": {
            "text/plain": [
              "CircuitInstruction(operation=Instruction(name='barrier', num_qubits=3, num_clbits=0, params=[]), qubits=(Qubit(QuantumRegister(3, 'q'), 0), Qubit(QuantumRegister(3, 'q'), 1), Qubit(QuantumRegister(3, 'q'), 2)), clbits=())"
            ]
          },
          "metadata": {},
          "execution_count": 22
        }
      ]
    },
    {
      "cell_type": "code",
      "source": [
        "circuit.cx(1,2)\n",
        "circuit.cz(0,2)\n",
        "circuit.draw(output='mpl')"
      ],
      "metadata": {
        "id": "FrEXXA_PznHU",
        "colab": {
          "base_uri": "https://localhost:8080/",
          "height": 274
        },
        "outputId": "c726fde1-abb7-4aa7-a15c-37b6f26f80e4"
      },
      "execution_count": 23,
      "outputs": [
        {
          "output_type": "execute_result",
          "data": {
            "text/plain": [
              "<Figure size 1876.11x367.889 with 1 Axes>"
            ],
            "image/png": "[encoded data removed]"
          },
          "metadata": {},
          "execution_count": 23
        }
      ]
    },
    {
      "cell_type": "code",
      "source": [
        "circuit.cx(1,2)\n",
        "circuit.cz(0,2)\n",
        "circuit.draw(output='mpl')"
      ],
      "metadata": {
        "id": "B-qqiZgaz6qs",
        "colab": {
          "base_uri": "https://localhost:8080/",
          "height": 253
        },
        "outputId": "812c9d29-fad6-4ba8-9019-9e0b8d237528"
      },
      "execution_count": 24,
      "outputs": [
        {
          "output_type": "execute_result",
          "data": {
            "text/plain": [
              "<Figure size 2043.33x367.889 with 1 Axes>"
            ],
            "image/png": "[encoded data removed]"
          },
          "metadata": {},
          "execution_count": 24
        }
      ]
    },
    {
      "cell_type": "code",
      "source": [
        "!pip install qiskit_aer\n",
        "\n",
        "from qiskit import transpile\n",
        "from qiskit_aer import Aer\n",
        "# ... (rest of your code)\n",
        "\n",
        "# Avoid using 'Aer' as a variable name to prevent conflicts\n",
        "simulator = Aer.get_backend('qasm_simulator')\n",
        "# Use transpile and backend.run() instead of execute\n",
        "transpiled_circuit = transpile(circuit, simulator)\n",
        "result = simulator.run(transpiled_circuit, shots=1024).result()\n",
        "counts = result.get_counts()\n",
        "# Import plot_histogram from the correct module\n",
        "from qiskit.visualization import plot_histogram\n",
        "plot_histogram(counts)"
      ],
      "metadata": {
        "id": "2OEulhiA0CiU",
        "colab": {
          "base_uri": "https://localhost:8080/",
          "height": 724
        },
        "outputId": "87dfdc22-4a04-41a0-e05f-ffe4e944a2b9"
      },
      "execution_count": 25,
      "outputs": [
        {
          "output_type": "stream",
          "name": "stdout",
          "text": [
            "Requirement already satisfied: qiskit_aer in /usr/local/lib/python3.11/dist-packages (0.16.1)\n",
            "Requirement already satisfied: qiskit>=1.1.0 in /usr/local/lib/python3.11/dist-packages (from qiskit_aer) (1.3.2)\n",
            "Requirement already satisfied: numpy>=1.16.3 in /usr/local/lib/python3.11/dist-packages (from qiskit_aer) (1.26.4)\n",
            "Requirement already satisfied: scipy>=1.0 in /usr/local/lib/python3.11/dist-packages (from qiskit_aer) (1.13.1)\n",
            "Requirement already satisfied: psutil>=5 in /usr/local/lib/python3.11/dist-packages (from qiskit_aer) (5.9.5)\n",
            "Requirement already satisfied: rustworkx>=0.15.0 in /usr/local/lib/python3.11/dist-packages (from qiskit>=1.1.0->qiskit_aer) (0.16.0)\n",
            "Requirement already satisfied: sympy>=1.3 in /usr/local/lib/python3.11/dist-packages (from qiskit>=1.1.0->qiskit_aer) (1.13.1)\n",
            "Requirement already satisfied: dill>=0.3 in /usr/local/lib/python3.11/dist-packages (from qiskit>=1.1.0->qiskit_aer) (0.3.9)\n",
            "Requirement already satisfied: python-dateutil>=2.8.0 in /usr/local/lib/python3.11/dist-packages (from qiskit>=1.1.0->qiskit_aer) (2.8.2)\n",
            "Requirement already satisfied: stevedore>=3.0.0 in /usr/local/lib/python3.11/dist-packages (from qiskit>=1.1.0->qiskit_aer) (5.4.0)\n",
            "Requirement already satisfied: typing-extensions in /usr/local/lib/python3.11/dist-packages (from qiskit>=1.1.0->qiskit_aer) (4.12.2)\n",
            "Requirement already satisfied: symengine<0.14,>=0.11 in /usr/local/lib/python3.11/dist-packages (from qiskit>=1.1.0->qiskit_aer) (0.13.0)\n",
            "Requirement already satisfied: six>=1.5 in /usr/local/lib/python3.11/dist-packages (from python-dateutil>=2.8.0->qiskit>=1.1.0->qiskit_aer) (1.17.0)\n",
            "Requirement already satisfied: pbr>=2.0.0 in /usr/local/lib/python3.11/dist-packages (from stevedore>=3.0.0->qiskit>=1.1.0->qiskit_aer) (6.1.1)\n",
            "Requirement already satisfied: mpmath<1.4,>=1.1.0 in /usr/local/lib/python3.11/dist-packages (from sympy>=1.3->qiskit>=1.1.0->qiskit_aer) (1.3.0)\n",
            "Requirement already satisfied: setuptools in /usr/local/lib/python3.11/dist-packages (from pbr>=2.0.0->stevedore>=3.0.0->qiskit>=1.1.0->qiskit_aer) (75.1.0)\n"
          ]
        },
        {
          "output_type": "execute_result",
          "data": {
            "text/plain": [
              "<Figure size 640x480 with 1 Axes>"
            ],
            "image/png": "[encoded data removed]"
          },
          "metadata": {},
          "execution_count": 25
        }
      ]
    },
    {
      "cell_type": "code",
      "execution_count": 26,
      "metadata": {
        "id": "ERnPMnPI5j8J",
        "colab": {
          "base_uri": "https://localhost:8080/"
        },
        "outputId": "219b7eab-a111-4f62-c4bc-9f08f4750615"
      },
      "outputs": [
        {
          "output_type": "stream",
          "name": "stdout",
          "text": [
            "     ┌───┐     ┌─┐   \n",
            "q_0: ┤ H ├──■──┤M├───\n",
            "     └───┘┌─┴─┐└╥┘┌─┐\n",
            "q_1: ─────┤ X ├─╫─┤M├\n",
            "          └───┘ ║ └╥┘\n",
            "c: 2/═══════════╩══╩═\n",
            "                0  1 \n"
          ]
        }
      ],
      "source": [
        "from qiskit import QuantumCircuit\n",
        "\n",
        "# Create a circuit with 2 qubits and 2 classical bits\n",
        "qc = QuantumCircuit(2, 2)\n",
        "\n",
        "# Apply a Hadamard gate to the first qubit\n",
        "qc.h(0)\n",
        "\n",
        "# Apply a CNOT gate with the first qubit as control and the second as target\n",
        "qc.cx(0, 1)\n",
        "\n",
        "# Measure the qubits\n",
        "qc.measure([0, 1], [0, 1])\n",
        "\n",
        "print(qc.draw())  # Visualize the circuit"
      ]
    },
    {
      "cell_type": "code",
      "source": [
        "!pip install pylatexenc\n",
        "import matplotlib.pyplot as plt\n",
        "from qiskit import *\n",
        "circuit = QuantumCircuit(3, 3)\n",
        "circuit.x(0)\n",
        "circuit.barrier()\n",
        "%matplotlib inline\n",
        "circuit.draw(initial_state = True)\n",
        "circuit.draw(output='mpl') # Now this should work"
      ],
      "metadata": {
        "id": "vu0lxwY21zx5",
        "colab": {
          "base_uri": "https://localhost:8080/",
          "height": 337
        },
        "outputId": "cb97117b-f735-4a2c-f61c-42cdc913406d"
      },
      "execution_count": 27,
      "outputs": [
        {
          "output_type": "stream",
          "name": "stdout",
          "text": [
            "Requirement already satisfied: pylatexenc in /usr/local/lib/python3.11/dist-packages (2.10)\n"
          ]
        },
        {
          "output_type": "execute_result",
          "data": {
            "text/plain": [
              "<Figure size 287.496x367.889 with 1 Axes>"
            ],
            "image/png": "[encoded data removed]"
          },
          "metadata": {},
          "execution_count": 27
        }
      ]
    },
    {
      "cell_type": "code",
      "source": [
        "from qiskit import QuantumCircuit\n",
        "from qiskit.circuit.library import HGate, MCXGate\n",
        "\n",
        "mcx_gate = MCXGate(3)\n",
        "hadamard_gate = HGate()\n",
        "\n",
        "qc = QuantumCircuit(4)\n",
        "qc.append(hadamard_gate, [0])\n",
        "qc.append(mcx_gate, [0, 1, 2, 3])\n",
        "qc.draw(\"mpl\")"
      ],
      "metadata": {
        "id": "Q4uWi4jbSeuV",
        "colab": {
          "base_uri": "https://localhost:8080/",
          "height": 320
        },
        "outputId": "52b0c015-5d5f-4d9d-feec-9278d6cc0c4b"
      },
      "execution_count": 28,
      "outputs": [
        {
          "output_type": "execute_result",
          "data": {
            "text/plain": [
              "<Figure size 287.496x367.889 with 1 Axes>"
            ],
            "image/png": "[encoded data removed]"
          },
          "metadata": {},
          "execution_count": 28
        }
      ]
    },
    {
      "cell_type": "code",
      "source": [
        "from qiskit.circuit.library import MCXGate\n",
        "gate = MCXGate(4)\n",
        "\n",
        "from qiskit import QuantumCircuit\n",
        "circuit = QuantumCircuit(5)\n",
        "circuit.append(gate, [0, 1, 4, 2, 3])\n",
        "circuit.draw('mpl')"
      ],
      "metadata": {
        "id": "Knwi1EnWS3xV",
        "colab": {
          "base_uri": "https://localhost:8080/",
          "height": 384
        },
        "outputId": "9b223f4a-9eba-435f-fae8-a0d32462eaaa"
      },
      "execution_count": 29,
      "outputs": [
        {
          "output_type": "execute_result",
          "data": {
            "text/plain": [
              "<Figure size 203.885x451.5 with 1 Axes>"
            ],
            "image/png": "[encoded data removed]"
          },
          "metadata": {},
          "execution_count": 29
        }
      ]
    },
    {
      "cell_type": "code",
      "source": [
        "from qiskit.circuit.library import get_standard_gate_name_mapping\n",
        "\n",
        "\n",
        "gate_name_map = get_standard_gate_name_mapping()\n",
        "cx_object = gate_name_map[\"cx\"]\n",
        "\n",
        "print(cx_object)\n",
        "print(type(cx_object))"
      ],
      "metadata": {
        "id": "bTc8nnutS9o2",
        "colab": {
          "base_uri": "https://localhost:8080/"
        },
        "outputId": "fbe116e0-1168-4e98-cf2f-6f66882bbe90"
      },
      "execution_count": 30,
      "outputs": [
        {
          "output_type": "stream",
          "name": "stdout",
          "text": [
            "Instruction(name='cx', num_qubits=2, num_clbits=0, params=[])\n",
            "<class '_SingletonCXGate'>\n"
          ]
        }
      ]
    },
    {
      "cell_type": "code",
      "source": [
        "# Convert circuit to dag and display dag\n",
        "from qiskit.converters import circuit_to_dag # Import circuit_to_dag\n",
        "from qiskit.visualization import dag_drawer # Import dag_drawer\n",
        "\n",
        "# Convert circuit to dag and display dag\n",
        "dag = circuit_to_dag(qc)\n",
        "display(dag_drawer(dag))\n"
      ],
      "metadata": {
        "id": "gDBUDveBheVl",
        "colab": {
          "base_uri": "https://localhost:8080/",
          "height": 314
        },
        "outputId": "1fec1b61-9234-4817-a0c9-abf2d58a1529"
      },
      "execution_count": 31,
      "outputs": [
        {
          "output_type": "display_data",
          "data": {
            "text/plain": [
              "<PIL.PngImagePlugin.PngImageFile image mode=RGBA size=270x297>"
            ],
            "image/png": "[encoded data removed]"
          },
          "metadata": {}
        }
      ]
    },
    {
      "cell_type": "code",
      "source": [
        "from qiskit.dagcircuit import DAGOpNode # Import DAGOpNode\n",
        "\n",
        "for node in dag.topological_nodes():\n",
        "    if isinstance(node, DAGOpNode): # Check if the node is a DAGOpNode\n",
        "        print(type(node), node.op) # Access the operation (op) if it's a DAGOpNode\n",
        "    else:\n",
        "        print(type(node), node.wire) # Access the wire if it's not a DAGOpNode"
      ],
      "metadata": {
        "id": "P-I7d7olhlB6",
        "colab": {
          "base_uri": "https://localhost:8080/"
        },
        "outputId": "86f35d3f-209d-41d7-a034-6e41fcf15a7c"
      },
      "execution_count": 32,
      "outputs": [
        {
          "output_type": "stream",
          "name": "stdout",
          "text": [
            "<class 'qiskit._accelerate.circuit.DAGInNode'> Qubit(QuantumRegister(4, 'q'), 0)\n",
            "<class 'qiskit._accelerate.circuit.DAGOpNode'> Instruction(name='h', num_qubits=1, num_clbits=0, params=[])\n",
            "<class 'qiskit._accelerate.circuit.DAGInNode'> Qubit(QuantumRegister(4, 'q'), 1)\n",
            "<class 'qiskit._accelerate.circuit.DAGInNode'> Qubit(QuantumRegister(4, 'q'), 2)\n",
            "<class 'qiskit._accelerate.circuit.DAGInNode'> Qubit(QuantumRegister(4, 'q'), 3)\n",
            "<class 'qiskit._accelerate.circuit.DAGOpNode'> Instruction(name='mcx', num_qubits=4, num_clbits=0, params=[])\n",
            "<class 'qiskit._accelerate.circuit.DAGOutNode'> Qubit(QuantumRegister(4, 'q'), 0)\n",
            "<class 'qiskit._accelerate.circuit.DAGOutNode'> Qubit(QuantumRegister(4, 'q'), 1)\n",
            "<class 'qiskit._accelerate.circuit.DAGOutNode'> Qubit(QuantumRegister(4, 'q'), 2)\n",
            "<class 'qiskit._accelerate.circuit.DAGOutNode'> Qubit(QuantumRegister(4, 'q'), 3)\n"
          ]
        }
      ]
    },
    {
      "cell_type": "code",
      "source": [
        "from qiskit.dagcircuit import DAGOpNode\n",
        "\n",
        "for node in dag.topological_nodes():\n",
        "    if isinstance(node, DAGOpNode):\n",
        "        print(type(node), node.op)\n",
        "    else:\n",
        "        print(type(node), node.wire)\n"
      ],
      "metadata": {
        "id": "bXg50u-ghr6y",
        "colab": {
          "base_uri": "https://localhost:8080/"
        },
        "outputId": "6d1265ce-c3af-4f91-d7e4-71b1c450023e"
      },
      "execution_count": 33,
      "outputs": [
        {
          "output_type": "stream",
          "name": "stdout",
          "text": [
            "<class 'qiskit._accelerate.circuit.DAGInNode'> Qubit(QuantumRegister(4, 'q'), 0)\n",
            "<class 'qiskit._accelerate.circuit.DAGOpNode'> Instruction(name='h', num_qubits=1, num_clbits=0, params=[])\n",
            "<class 'qiskit._accelerate.circuit.DAGInNode'> Qubit(QuantumRegister(4, 'q'), 1)\n",
            "<class 'qiskit._accelerate.circuit.DAGInNode'> Qubit(QuantumRegister(4, 'q'), 2)\n",
            "<class 'qiskit._accelerate.circuit.DAGInNode'> Qubit(QuantumRegister(4, 'q'), 3)\n",
            "<class 'qiskit._accelerate.circuit.DAGOpNode'> Instruction(name='mcx', num_qubits=4, num_clbits=0, params=[])\n",
            "<class 'qiskit._accelerate.circuit.DAGOutNode'> Qubit(QuantumRegister(4, 'q'), 0)\n",
            "<class 'qiskit._accelerate.circuit.DAGOutNode'> Qubit(QuantumRegister(4, 'q'), 1)\n",
            "<class 'qiskit._accelerate.circuit.DAGOutNode'> Qubit(QuantumRegister(4, 'q'), 2)\n",
            "<class 'qiskit._accelerate.circuit.DAGOutNode'> Qubit(QuantumRegister(4, 'q'), 3)\n"
          ]
        }
      ]
    },
    {
      "cell_type": "code",
      "source": [
        "!pip install pylatexenc\n",
        "\n",
        "from qiskit import *\n",
        "from pylatexenc import *\n",
        "\n",
        "qr = QuantumRegister(2)\n",
        "cr = ClassicalRegister(2)\n",
        "\n",
        "circuit = QuantumCircuit(qr, cr)\n",
        "\n",
        "%matplotlib inline\n",
        "\n",
        "circuit.draw(output='mpl')"
      ],
      "metadata": {
        "id": "vUr2VwM23L1d",
        "colab": {
          "base_uri": "https://localhost:8080/",
          "height": 272
        },
        "outputId": "1e71a51c-f150-4b29-f7f0-7253379378a4"
      },
      "execution_count": 34,
      "outputs": [
        {
          "output_type": "stream",
          "name": "stdout",
          "text": [
            "Requirement already satisfied: pylatexenc in /usr/local/lib/python3.11/dist-packages (2.10)\n"
          ]
        },
        {
          "output_type": "execute_result",
          "data": {
            "text/plain": [
              "<Figure size 198.541x284.278 with 1 Axes>"
            ],
            "image/png": "[encoded data removed]"
          },
          "metadata": {},
          "execution_count": 34
        }
      ]
    },
    {
      "cell_type": "code",
      "source": [
        "from qiskit import *\n",
        "from pylatexenc import *\n",
        "\n",
        "#qr = QuantumRegister(2)\n",
        "#cr = ClassicalRegister(2)\n",
        "\n",
        "#circuit = QuantumCircuit(qr, cr)\n",
        "\n",
        "crr = QuantumCircuit(5,5)\n",
        "%matplotlib inline\n",
        "\n",
        "#circuit.draw(output='mpl')\n",
        "crr.draw(output='mpl')"
      ],
      "metadata": {
        "id": "6l9hKBQtQ34_",
        "colab": {
          "base_uri": "https://localhost:8080/",
          "height": 449
        },
        "outputId": "c0a1edf4-941f-49e8-b8e8-2d7b7a18756d"
      },
      "execution_count": 35,
      "outputs": [
        {
          "output_type": "execute_result",
          "data": {
            "text/plain": [
              "<Figure size 162.08x535.111 with 1 Axes>"
            ],
            "image/png": "[encoded data removed]"
          },
          "metadata": {},
          "execution_count": 35
        }
      ]
    },
    {
      "cell_type": "code",
      "source": [
        "from qiskit.circuit import QuantumCircuit\n",
        "from qiskit.visualization import dag_drawer\n",
        "from qiskit.converters import circuit_to_dag\n",
        "\n",
        "# Create basic Bell circuit\n",
        "\n",
        "qc = QuantumCircuit(2, 1)\n",
        "qc.x(0)\n",
        "qc.h(1)\n",
        "qc.cx(0, 1)\n",
        "\n",
        "display(qc.draw('mpl', cregbundle=False))\n",
        "print(qc._data)"
      ],
      "metadata": {
        "id": "EBiSu19WWT6q",
        "colab": {
          "base_uri": "https://localhost:8080/",
          "height": 272
        },
        "outputId": "4bacd418-ba61-4b22-a0c0-752d16661df3"
      },
      "execution_count": 36,
      "outputs": [
        {
          "output_type": "display_data",
          "data": {
            "text/plain": [
              "<Figure size 287.294x284.278 with 1 Axes>"
            ],
            "image/png": "[encoded data removed]"
          },
          "metadata": {}
        },
        {
          "output_type": "stream",
          "name": "stdout",
          "text": [
            "<qiskit._accelerate.circuit.CircuitData object at 0x545aae0>\n"
          ]
        }
      ]
    },
    {
      "cell_type": "code",
      "source": [
        "!pip install qiskit-aer\n",
        "\n",
        "import qiskit as q\n",
        "from qiskit.visualization import plot_histogram, plot_bloch_multivector\n",
        "from matplotlib import style\n",
        "import math\n",
        "#style.use(\"dark_background\")\n",
        "\n",
        "from qiskit_aer import Aer # Import Aer from the correct module\n",
        "\n",
        "# Use qiskit_aer to get the backends\n",
        "qasm_sim = Aer.get_backend('qasm_simulator')\n",
        "statevec_sim = Aer.get_backend(\"statevector_simulator\")"
      ],
      "metadata": {
        "id": "G6e_ilnJ6oFE",
        "colab": {
          "base_uri": "https://localhost:8080/"
        },
        "outputId": "c310bc7c-78c0-4903-904b-0918a1d6744c"
      },
      "execution_count": 37,
      "outputs": [
        {
          "output_type": "stream",
          "name": "stdout",
          "text": [
            "Requirement already satisfied: qiskit-aer in /usr/local/lib/python3.11/dist-packages (0.16.1)\n",
            "Requirement already satisfied: qiskit>=1.1.0 in /usr/local/lib/python3.11/dist-packages (from qiskit-aer) (1.3.2)\n",
            "Requirement already satisfied: numpy>=1.16.3 in /usr/local/lib/python3.11/dist-packages (from qiskit-aer) (1.26.4)\n",
            "Requirement already satisfied: scipy>=1.0 in /usr/local/lib/python3.11/dist-packages (from qiskit-aer) (1.13.1)\n",
            "Requirement already satisfied: psutil>=5 in /usr/local/lib/python3.11/dist-packages (from qiskit-aer) (5.9.5)\n",
            "Requirement already satisfied: rustworkx>=0.15.0 in /usr/local/lib/python3.11/dist-packages (from qiskit>=1.1.0->qiskit-aer) (0.16.0)\n",
            "Requirement already satisfied: sympy>=1.3 in /usr/local/lib/python3.11/dist-packages (from qiskit>=1.1.0->qiskit-aer) (1.13.1)\n",
            "Requirement already satisfied: dill>=0.3 in /usr/local/lib/python3.11/dist-packages (from qiskit>=1.1.0->qiskit-aer) (0.3.9)\n",
            "Requirement already satisfied: python-dateutil>=2.8.0 in /usr/local/lib/python3.11/dist-packages (from qiskit>=1.1.0->qiskit-aer) (2.8.2)\n",
            "Requirement already satisfied: stevedore>=3.0.0 in /usr/local/lib/python3.11/dist-packages (from qiskit>=1.1.0->qiskit-aer) (5.4.0)\n",
            "Requirement already satisfied: typing-extensions in /usr/local/lib/python3.11/dist-packages (from qiskit>=1.1.0->qiskit-aer) (4.12.2)\n",
            "Requirement already satisfied: symengine<0.14,>=0.11 in /usr/local/lib/python3.11/dist-packages (from qiskit>=1.1.0->qiskit-aer) (0.13.0)\n",
            "Requirement already satisfied: six>=1.5 in /usr/local/lib/python3.11/dist-packages (from python-dateutil>=2.8.0->qiskit>=1.1.0->qiskit-aer) (1.17.0)\n",
            "Requirement already satisfied: pbr>=2.0.0 in /usr/local/lib/python3.11/dist-packages (from stevedore>=3.0.0->qiskit>=1.1.0->qiskit-aer) (6.1.1)\n",
            "Requirement already satisfied: mpmath<1.4,>=1.1.0 in /usr/local/lib/python3.11/dist-packages (from sympy>=1.3->qiskit>=1.1.0->qiskit-aer) (1.3.0)\n",
            "Requirement already satisfied: setuptools in /usr/local/lib/python3.11/dist-packages (from pbr>=2.0.0->stevedore>=3.0.0->qiskit>=1.1.0->qiskit-aer) (75.1.0)\n"
          ]
        }
      ]
    },
    {
      "cell_type": "code",
      "source": [
        "import numpy as np\n",
        "from qiskit import QuantumCircuit\n",
        "\n",
        "# Create a Quantum Circuit acting on a quantum register of three qubits\n",
        "circ = QuantumCircuit(3)\n",
        "\n",
        "# 1. A quantum circuit for preparing the quantum state |000> + i |111>\n",
        "qc_example = QuantumCircuit(3)\n",
        "qc_example.h(0)          # generate superpostion\n",
        "qc_example.p(np.pi/2,0)  # add quantum phase\n",
        "qc_example.cx(0,1)       # 0th-qubit-Controlled-NOT gate on 1st qubit\n",
        "qc_example.cx(0,2)       # 0th-qubit-Controlled-NOT gate on 2nd qubit"
      ],
      "metadata": {
        "id": "Z8637pJ9s82a",
        "colab": {
          "base_uri": "https://localhost:8080/"
        },
        "outputId": "dc9b2afe-e74a-4fa3-b3dd-45e8cb4c642b"
      },
      "execution_count": 38,
      "outputs": [
        {
          "output_type": "execute_result",
          "data": {
            "text/plain": [
              "<qiskit.circuit.instructionset.InstructionSet at 0x7a89189faf20>"
            ]
          },
          "metadata": {},
          "execution_count": 38
        }
      ]
    },
    {
      "cell_type": "code",
      "source": [
        "# Set up six different observables.\n",
        "from qiskit.quantum_info import SparsePauliOp\n",
        "\n",
        "observables_labels = [\"IZ\", \"IX\", \"ZI\", \"XI\", \"ZZ\", \"XX\"]\n",
        "observables = [SparsePauliOp(label) for label in observables_labels]"
      ],
      "metadata": {
        "id": "_ffeQ2ljTOG7"
      },
      "execution_count": 39,
      "outputs": []
    },
    {
      "cell_type": "code",
      "source": [
        "!pip install qiskit\n",
        "\n",
        "from qiskit import QuantumCircuit\n",
        "\n",
        "# Create a 4-qubit circuit\n",
        "qc = QuantumCircuit(4)\n",
        "\n",
        "# Apply a Hadamard gate to the first qubit to create superposition\n",
        "qc.h(0)\n",
        "\n",
        "# Apply CNOT gates to entangle the qubits\n",
        "qc.cx(0, 1)\n",
        "qc.cx(1, 2)\n",
        "qc.cx(2, 3)\n",
        "\n",
        "# The circuit now represents the GHZ state: |0000> + |1111>\n",
        "\n",
        "# You can visualize the circuit:\n",
        "print(qc.draw())"
      ],
      "metadata": {
        "id": "anzCCaeoXPtA",
        "colab": {
          "base_uri": "https://localhost:8080/"
        },
        "outputId": "ce721ad2-1453-49cb-9625-176b1cc016c1"
      },
      "execution_count": 40,
      "outputs": [
        {
          "output_type": "stream",
          "name": "stdout",
          "text": [
            "Requirement already satisfied: qiskit in /usr/local/lib/python3.11/dist-packages (1.3.2)\n",
            "Requirement already satisfied: rustworkx>=0.15.0 in /usr/local/lib/python3.11/dist-packages (from qiskit) (0.16.0)\n",
            "Requirement already satisfied: numpy<3,>=1.17 in /usr/local/lib/python3.11/dist-packages (from qiskit) (1.26.4)\n",
            "Requirement already satisfied: scipy>=1.5 in /usr/local/lib/python3.11/dist-packages (from qiskit) (1.13.1)\n",
            "Requirement already satisfied: sympy>=1.3 in /usr/local/lib/python3.11/dist-packages (from qiskit) (1.13.1)\n",
            "Requirement already satisfied: dill>=0.3 in /usr/local/lib/python3.11/dist-packages (from qiskit) (0.3.9)\n",
            "Requirement already satisfied: python-dateutil>=2.8.0 in /usr/local/lib/python3.11/dist-packages (from qiskit) (2.8.2)\n",
            "Requirement already satisfied: stevedore>=3.0.0 in /usr/local/lib/python3.11/dist-packages (from qiskit) (5.4.0)\n",
            "Requirement already satisfied: typing-extensions in /usr/local/lib/python3.11/dist-packages (from qiskit) (4.12.2)\n",
            "Requirement already satisfied: symengine<0.14,>=0.11 in /usr/local/lib/python3.11/dist-packages (from qiskit) (0.13.0)\n",
            "Requirement already satisfied: six>=1.5 in /usr/local/lib/python3.11/dist-packages (from python-dateutil>=2.8.0->qiskit) (1.17.0)\n",
            "Requirement already satisfied: pbr>=2.0.0 in /usr/local/lib/python3.11/dist-packages (from stevedore>=3.0.0->qiskit) (6.1.1)\n",
            "Requirement already satisfied: mpmath<1.4,>=1.1.0 in /usr/local/lib/python3.11/dist-packages (from sympy>=1.3->qiskit) (1.3.0)\n",
            "Requirement already satisfied: setuptools in /usr/local/lib/python3.11/dist-packages (from pbr>=2.0.0->stevedore>=3.0.0->qiskit) (75.1.0)\n",
            "     ┌───┐               \n",
            "q_0: ┤ H ├──■────────────\n",
            "     └───┘┌─┴─┐          \n",
            "q_1: ─────┤ X ├──■───────\n",
            "          └───┘┌─┴─┐     \n",
            "q_2: ──────────┤ X ├──■──\n",
            "               └───┘┌─┴─┐\n",
            "q_3: ───────────────┤ X ├\n",
            "                    └───┘\n"
          ]
        }
      ]
    },
    {
      "cell_type": "code",
      "source": [
        "!pip install qiskit\n",
        "\n",
        "from qiskit import QuantumCircuit\n",
        "\n",
        "# Create a 2-qubit circuit\n",
        "qc = QuantumCircuit(2)\n",
        "\n",
        "# Apply Hadamard gates to both qubits\n",
        "qc.h(0)\n",
        "qc.h(1)\n",
        "\n",
        "# Create entanglement with a CNOT gate\n",
        "qc.cx(0, 1)\n",
        "\n",
        "# The circuit now represents a superposition of all 4 states:\n",
        "# |00> + |01> + |10> + |11> (with possible phase differences)\n",
        "\n",
        "# You can visualize the circuit:\n",
        "print(qc.draw())"
      ],
      "metadata": {
        "id": "FcKDhU6SXsOK",
        "colab": {
          "base_uri": "https://localhost:8080/"
        },
        "outputId": "cf60588d-74fb-4714-ab9d-3dc6905db4bb"
      },
      "execution_count": 41,
      "outputs": [
        {
          "output_type": "stream",
          "name": "stdout",
          "text": [
            "Requirement already satisfied: qiskit in /usr/local/lib/python3.11/dist-packages (1.3.2)\n",
            "Requirement already satisfied: rustworkx>=0.15.0 in /usr/local/lib/python3.11/dist-packages (from qiskit) (0.16.0)\n",
            "Requirement already satisfied: numpy<3,>=1.17 in /usr/local/lib/python3.11/dist-packages (from qiskit) (1.26.4)\n",
            "Requirement already satisfied: scipy>=1.5 in /usr/local/lib/python3.11/dist-packages (from qiskit) (1.13.1)\n",
            "Requirement already satisfied: sympy>=1.3 in /usr/local/lib/python3.11/dist-packages (from qiskit) (1.13.1)\n",
            "Requirement already satisfied: dill>=0.3 in /usr/local/lib/python3.11/dist-packages (from qiskit) (0.3.9)\n",
            "Requirement already satisfied: python-dateutil>=2.8.0 in /usr/local/lib/python3.11/dist-packages (from qiskit) (2.8.2)\n",
            "Requirement already satisfied: stevedore>=3.0.0 in /usr/local/lib/python3.11/dist-packages (from qiskit) (5.4.0)\n",
            "Requirement already satisfied: typing-extensions in /usr/local/lib/python3.11/dist-packages (from qiskit) (4.12.2)\n",
            "Requirement already satisfied: symengine<0.14,>=0.11 in /usr/local/lib/python3.11/dist-packages (from qiskit) (0.13.0)\n",
            "Requirement already satisfied: six>=1.5 in /usr/local/lib/python3.11/dist-packages (from python-dateutil>=2.8.0->qiskit) (1.17.0)\n",
            "Requirement already satisfied: pbr>=2.0.0 in /usr/local/lib/python3.11/dist-packages (from stevedore>=3.0.0->qiskit) (6.1.1)\n",
            "Requirement already satisfied: mpmath<1.4,>=1.1.0 in /usr/local/lib/python3.11/dist-packages (from sympy>=1.3->qiskit) (1.3.0)\n",
            "Requirement already satisfied: setuptools in /usr/local/lib/python3.11/dist-packages (from pbr>=2.0.0->stevedore>=3.0.0->qiskit) (75.1.0)\n",
            "     ┌───┐     \n",
            "q_0: ┤ H ├──■──\n",
            "     ├───┤┌─┴─┐\n",
            "q_1: ┤ H ├┤ X ├\n",
            "     └───┘└───┘\n"
          ]
        }
      ]
    },
    {
      "cell_type": "code",
      "source": [
        "!pip install qiskit\n",
        "!pip install qiskit-aer\n",
        "\n",
        "from qiskit import QuantumCircuit, QuantumRegister, ClassicalRegister\n",
        "from qiskit.primitives import Sampler # Import Sampler for execution\n",
        "from qiskit_aer import Aer # Import Aer from qiskit_a\n",
        "from qiskit import transpile\n",
        "\n",
        "\n",
        "\n",
        "\n",
        "# Create a quantum circuit with three qubits:\n",
        "# q0: The qubit to be teleported\n",
        "# q1: Alice's qubit (part of the entangled pair)\n",
        "# q2: Bob's qubit (part of the entangled pair)\n",
        "qr = QuantumRegister(3, name=\"q\")\n",
        "# Create two classical bits for measurement results:\n",
        "# cr0: Alice's measurement result\n",
        "# cr1: Bob's measurement result\n",
        "cr = ClassicalRegister(2, name=\"c\")\n",
        "circuit = QuantumCircuit(qr, cr)\n",
        "\n",
        "# Initialize the qubit to be teleported (q0) to a desired state\n",
        "# Here, we initialize it to the |1> state using an X gate\n",
        "circuit.x(qr[0])\n",
        "\n",
        "# Create an entangled pair (Bell state) between Alice's (q1) and Bob's (q2) qubits\n",
        "circuit.h(qr[1])\n",
        "circuit.cx(qr[1], qr[2])\n",
        "\n",
        "# Apply CNOT gate from q0 (teleported qubit) to q1 (Alice's qubit)\n",
        "circuit.cx(qr[0], qr[1])\n",
        "\n",
        "# Apply Hadamard gate to q0\n",
        "circuit.h(qr[0])\n",
        "\n",
        "# Measure q0 and q1 and store results in classical bits cr0 and cr1\n",
        "circuit.measure(qr[0], cr[0])\n",
        "circuit.measure(qr[1], cr[1])\n",
        "\n",
        "# Apply gates on Bob's qubit (q2) based on measurement results\n",
        "circuit.cx(qr[1], qr[2])\n",
        "circuit.cz(qr[0], qr[2])\n",
        "\n",
        "\n",
        "# *** Add a measurement for the third qubit (q2) to classical bit 2 if available ***\n",
        "# If you have more classical bits, add measurements for other qubits accordingly.\n",
        "# For example, if you have a third classical bit (cr[2]), you can add:\n",
        "# circuit.measure(qr[2], cr[2])\n",
        "\n",
        "\n",
        "# Simulate the circuit using qasm_simulator to handle measurements\n",
        "simulator = Aer.get_backend('qasm_simulator')\n",
        "# Transpile the circuit for the simulator\n",
        "transpiled_circuit = transpile(circuit, simulator)\n",
        "\n",
        "# Execute the transpiled circuit using simulator.run\n",
        "job = simulator.run(transpiled_circuit, shots=1024)\n",
        "result = job.result()\n",
        "\n",
        "# Get the counts from the result\n",
        "counts = result.get_counts(transpiled_circuit)\n",
        "\n",
        "\n",
        "# Print the results\n",
        "print(counts)"
      ],
      "metadata": {
        "id": "i7g_lAFLaMWO",
        "colab": {
          "base_uri": "https://localhost:8080/"
        },
        "outputId": "07df0e32-4706-4942-b8ee-090285eef000"
      },
      "execution_count": 42,
      "outputs": [
        {
          "output_type": "stream",
          "name": "stdout",
          "text": [
            "Requirement already satisfied: qiskit in /usr/local/lib/python3.11/dist-packages (1.3.2)\n",
            "Requirement already satisfied: rustworkx>=0.15.0 in /usr/local/lib/python3.11/dist-packages (from qiskit) (0.16.0)\n",
            "Requirement already satisfied: numpy<3,>=1.17 in /usr/local/lib/python3.11/dist-packages (from qiskit) (1.26.4)\n",
            "Requirement already satisfied: scipy>=1.5 in /usr/local/lib/python3.11/dist-packages (from qiskit) (1.13.1)\n",
            "Requirement already satisfied: sympy>=1.3 in /usr/local/lib/python3.11/dist-packages (from qiskit) (1.13.1)\n",
            "Requirement already satisfied: dill>=0.3 in /usr/local/lib/python3.11/dist-packages (from qiskit) (0.3.9)\n",
            "Requirement already satisfied: python-dateutil>=2.8.0 in /usr/local/lib/python3.11/dist-packages (from qiskit) (2.8.2)\n",
            "Requirement already satisfied: stevedore>=3.0.0 in /usr/local/lib/python3.11/dist-packages (from qiskit) (5.4.0)\n",
            "Requirement already satisfied: typing-extensions in /usr/local/lib/python3.11/dist-packages (from qiskit) (4.12.2)\n",
            "Requirement already satisfied: symengine<0.14,>=0.11 in /usr/local/lib/python3.11/dist-packages (from qiskit) (0.13.0)\n",
            "Requirement already satisfied: six>=1.5 in /usr/local/lib/python3.11/dist-packages (from python-dateutil>=2.8.0->qiskit) (1.17.0)\n",
            "Requirement already satisfied: pbr>=2.0.0 in /usr/local/lib/python3.11/dist-packages (from stevedore>=3.0.0->qiskit) (6.1.1)\n",
            "Requirement already satisfied: mpmath<1.4,>=1.1.0 in /usr/local/lib/python3.11/dist-packages (from sympy>=1.3->qiskit) (1.3.0)\n",
            "Requirement already satisfied: setuptools in /usr/local/lib/python3.11/dist-packages (from pbr>=2.0.0->stevedore>=3.0.0->qiskit) (75.1.0)\n",
            "Requirement already satisfied: qiskit-aer in /usr/local/lib/python3.11/dist-packages (0.16.1)\n",
            "Requirement already satisfied: qiskit>=1.1.0 in /usr/local/lib/python3.11/dist-packages (from qiskit-aer) (1.3.2)\n",
            "Requirement already satisfied: numpy>=1.16.3 in /usr/local/lib/python3.11/dist-packages (from qiskit-aer) (1.26.4)\n",
            "Requirement already satisfied: scipy>=1.0 in /usr/local/lib/python3.11/dist-packages (from qiskit-aer) (1.13.1)\n",
            "Requirement already satisfied: psutil>=5 in /usr/local/lib/python3.11/dist-packages (from qiskit-aer) (5.9.5)\n",
            "Requirement already satisfied: rustworkx>=0.15.0 in /usr/local/lib/python3.11/dist-packages (from qiskit>=1.1.0->qiskit-aer) (0.16.0)\n",
            "Requirement already satisfied: sympy>=1.3 in /usr/local/lib/python3.11/dist-packages (from qiskit>=1.1.0->qiskit-aer) (1.13.1)\n",
            "Requirement already satisfied: dill>=0.3 in /usr/local/lib/python3.11/dist-packages (from qiskit>=1.1.0->qiskit-aer) (0.3.9)\n",
            "Requirement already satisfied: python-dateutil>=2.8.0 in /usr/local/lib/python3.11/dist-packages (from qiskit>=1.1.0->qiskit-aer) (2.8.2)\n",
            "Requirement already satisfied: stevedore>=3.0.0 in /usr/local/lib/python3.11/dist-packages (from qiskit>=1.1.0->qiskit-aer) (5.4.0)\n",
            "Requirement already satisfied: typing-extensions in /usr/local/lib/python3.11/dist-packages (from qiskit>=1.1.0->qiskit-aer) (4.12.2)\n",
            "Requirement already satisfied: symengine<0.14,>=0.11 in /usr/local/lib/python3.11/dist-packages (from qiskit>=1.1.0->qiskit-aer) (0.13.0)\n",
            "Requirement already satisfied: six>=1.5 in /usr/local/lib/python3.11/dist-packages (from python-dateutil>=2.8.0->qiskit>=1.1.0->qiskit-aer) (1.17.0)\n",
            "Requirement already satisfied: pbr>=2.0.0 in /usr/local/lib/python3.11/dist-packages (from stevedore>=3.0.0->qiskit>=1.1.0->qiskit-aer) (6.1.1)\n",
            "Requirement already satisfied: mpmath<1.4,>=1.1.0 in /usr/local/lib/python3.11/dist-packages (from sympy>=1.3->qiskit>=1.1.0->qiskit-aer) (1.3.0)\n",
            "Requirement already satisfied: setuptools in /usr/local/lib/python3.11/dist-packages (from pbr>=2.0.0->stevedore>=3.0.0->qiskit>=1.1.0->qiskit-aer) (75.1.0)\n",
            "{'01': 272, '11': 269, '00': 238, '10': 245}\n"
          ]
        }
      ]
    },
    {
      "cell_type": "code",
      "source": [
        "!pip install qiskit\n",
        "\n",
        "from qiskit import QuantumCircuit, QuantumRegister, ClassicalRegister\n",
        "\n",
        "\n",
        "# Define the number of qubits for each nucleus\n",
        "num_qubits_nucleus1 = 2  # Example: Set to 2 qubits\n",
        "num_qubits_nucleus2 = 2  # Example: Set to 2 qubits\n",
        "\n",
        "# Define the number of classical bits for measurement\n",
        "num_classical_bits = 2  # Example: Set to 2 classical bits\n",
        "\n",
        "# Define quantum registers for nuclei\n",
        "nucleus1 = QuantumRegister(num_qubits_nucleus1, name=\"nucleus1\")\n",
        "nucleus2 = QuantumRegister(num_qubits_nucleus2, name=\"nucleus2\")\n",
        "\n",
        "# Define classical register for measurement\n",
        "cr = ClassicalRegister(num_classical_bits, name=\"cr\")\n",
        "\n",
        "# Create quantum circuit\n",
        "circuit = QuantumCircuit(nucleus1, nucleus2, cr)\n",
        "\n",
        "# Prepare nuclei in superposition\n",
        "# ... (Apply gates to create desired superposition states)\n",
        "\n",
        "# Entangle nuclei\n",
        "# ... (Apply entangling gates, e.g., CNOT)\n",
        "\n",
        "# Simulate fusion interaction\n",
        "# ... (Apply gates representing the fusion process)\n",
        "\n",
        "# Measure outcome\n",
        "circuit.measure(nucleus1, cr)  # Measure final state of nuclei\n",
        "\n",
        "# ... (Execute circuit and analyze results)"
      ],
      "metadata": {
        "id": "d-bksZxqcdCb",
        "colab": {
          "base_uri": "https://localhost:8080/"
        },
        "outputId": "5b4cd3c0-5eaf-4841-a02e-8da340db4cc8"
      },
      "execution_count": 43,
      "outputs": [
        {
          "output_type": "stream",
          "name": "stdout",
          "text": [
            "Requirement already satisfied: qiskit in /usr/local/lib/python3.11/dist-packages (1.3.2)\n",
            "Requirement already satisfied: rustworkx>=0.15.0 in /usr/local/lib/python3.11/dist-packages (from qiskit) (0.16.0)\n",
            "Requirement already satisfied: numpy<3,>=1.17 in /usr/local/lib/python3.11/dist-packages (from qiskit) (1.26.4)\n",
            "Requirement already satisfied: scipy>=1.5 in /usr/local/lib/python3.11/dist-packages (from qiskit) (1.13.1)\n",
            "Requirement already satisfied: sympy>=1.3 in /usr/local/lib/python3.11/dist-packages (from qiskit) (1.13.1)\n",
            "Requirement already satisfied: dill>=0.3 in /usr/local/lib/python3.11/dist-packages (from qiskit) (0.3.9)\n",
            "Requirement already satisfied: python-dateutil>=2.8.0 in /usr/local/lib/python3.11/dist-packages (from qiskit) (2.8.2)\n",
            "Requirement already satisfied: stevedore>=3.0.0 in /usr/local/lib/python3.11/dist-packages (from qiskit) (5.4.0)\n",
            "Requirement already satisfied: typing-extensions in /usr/local/lib/python3.11/dist-packages (from qiskit) (4.12.2)\n",
            "Requirement already satisfied: symengine<0.14,>=0.11 in /usr/local/lib/python3.11/dist-packages (from qiskit) (0.13.0)\n",
            "Requirement already satisfied: six>=1.5 in /usr/local/lib/python3.11/dist-packages (from python-dateutil>=2.8.0->qiskit) (1.17.0)\n",
            "Requirement already satisfied: pbr>=2.0.0 in /usr/local/lib/python3.11/dist-packages (from stevedore>=3.0.0->qiskit) (6.1.1)\n",
            "Requirement already satisfied: mpmath<1.4,>=1.1.0 in /usr/local/lib/python3.11/dist-packages (from sympy>=1.3->qiskit) (1.3.0)\n",
            "Requirement already satisfied: setuptools in /usr/local/lib/python3.11/dist-packages (from pbr>=2.0.0->stevedore>=3.0.0->qiskit) (75.1.0)\n"
          ]
        },
        {
          "output_type": "execute_result",
          "data": {
            "text/plain": [
              "<qiskit.circuit.instructionset.InstructionSet at 0x7a891d835f90>"
            ]
          },
          "metadata": {},
          "execution_count": 43
        }
      ]
    },
    {
      "cell_type": "code",
      "source": [
        "# prompt: write a quantum code for particle inter communication in hot and cold on dimension\n",
        "\n",
        "import numpy as np\n",
        "from qiskit import QuantumCircuit, QuantumRegister, ClassicalRegister\n",
        "from qiskit.primitives import Sampler\n",
        "from qiskit_aer import Aer\n",
        "from qiskit import transpile\n",
        "\n",
        "def simulate_particle_interaction(temperature_difference):\n",
        "    \"\"\"\n",
        "    Simulates particle interaction based on a temperature difference.\n",
        "\n",
        "    Args:\n",
        "        temperature_difference: A float representing the temperature difference between two systems.\n",
        "\n",
        "    Returns:\n",
        "        A QuantumCircuit representing the simulated interaction.\n",
        "    \"\"\"\n",
        "    # Define quantum and classical registers\n",
        "    qr = QuantumRegister(2, 'particles')  # Two qubits represent two particles\n",
        "    cr = ClassicalRegister(2, 'measurement')\n",
        "    qc = QuantumCircuit(qr, cr)\n",
        "\n",
        "    # Encode temperature difference (a classical value) into a quantum state\n",
        "    # (Use a suitable mapping to represent the temperature difference as a rotation angle)\n",
        "    angle = np.pi * (temperature_difference / 100.0)  # Adjust scaling as needed\n",
        "    qc.ry(angle, qr[0])\n",
        "\n",
        "\n",
        "    # Simulate interaction (e.g., entanglement and information exchange)\n",
        "    qc.cx(qr[0], qr[1]) # CNOT gate to entangle the qubits based on temperature\n",
        "\n",
        "    # Measure the qubits\n",
        "    qc.measure(qr, cr)\n",
        "\n",
        "    return qc\n",
        "\n",
        "# Example usage\n",
        "temperature_diff = 50.0  # Example temperature difference\n",
        "\n",
        "# Create and simulate the circuit\n",
        "circuit = simulate_particle_interaction(temperature_diff)\n",
        "\n",
        "# Use the Sampler primitive\n",
        "simulator = Aer.get_backend('qasm_simulator')\n",
        "transpiled_circuit = transpile(circuit, simulator)\n",
        "sampler = Sampler()\n",
        "job = sampler.run(transpiled_circuit, shots=1024)\n",
        "result = job.result()\n",
        "counts = result.quasi_dists[0]\n",
        "\n",
        "print(f\"Simulation results for temperature difference {temperature_diff}:\")\n",
        "counts\n"
      ],
      "metadata": {
        "id": "i7EwV29FquM-",
        "colab": {
          "base_uri": "https://localhost:8080/"
        },
        "outputId": "11363274-400b-4fd7-e3ff-5fe7800b0236"
      },
      "execution_count": 44,
      "outputs": [
        {
          "output_type": "stream",
          "name": "stdout",
          "text": [
            "Simulation results for temperature difference 50.0:\n"
          ]
        },
        {
          "output_type": "stream",
          "name": "stderr",
          "text": [
            "<ipython-input-44-d63d80ac92a5>:47: DeprecationWarning: The class ``qiskit.primitives.sampler.Sampler`` is deprecated as of qiskit 1.2. It will be removed no earlier than 3 months after the release date. All implementations of the `BaseSamplerV1` interface have been deprecated in favor of their V2 counterparts. The V2 alternative for the `Sampler` class is `StatevectorSampler`.\n",
            "  sampler = Sampler()\n"
          ]
        },
        {
          "output_type": "execute_result",
          "data": {
            "text/plain": [
              "{0: 0.4697265625, 3: 0.5302734375}"
            ]
          },
          "metadata": {},
          "execution_count": 44
        }
      ]
    },
    {
      "cell_type": "code",
      "source": [
        "import numpy as np\n",
        "from qiskit import QuantumCircuit, QuantumRegister, ClassicalRegister\n",
        "from qiskit.primitives import Sampler\n",
        "from qiskit_aer import Aer\n",
        "from qiskit import transpile, assemble\n",
        "from qiskit.quantum_info import Statevector # Import Statevector for state creation\n",
        "\n",
        "def simulate_9d_teleportation(hot_state, cold_state):\n",
        "    \"\"\"Simulates quantum teleportation in a 9-dimensional space.\n",
        "\n",
        "    Args:\n",
        "        hot_state: A numpy array representing the initial state of the \"hot\" particle.\n",
        "        cold_state: A numpy array representing the initial state of the \"cold\" particle.\n",
        "\n",
        "    Returns:\n",
        "        A QuantumCircuit representing the teleportation process.\n",
        "    \"\"\"\n",
        "\n",
        "    # Note: Direct 9-dimensional quantum simulation is computationally expensive.\n",
        "    # This simulation uses a simplified model to illustrate the concept.\n",
        "\n",
        "    # Define quantum registers (adjust based on the complexity of your simulation)\n",
        "    qr_hot = QuantumRegister(3, 'hot')  # Represent 9-d with 3 qubits\n",
        "    qr_cold = QuantumRegister(3, 'cold')\n",
        "    cr = ClassicalRegister(6, 'measurement')\n",
        "    qc = QuantumCircuit(qr_hot, qr_cold, cr)\n",
        "\n",
        "    # Encode the states into the quantum registers using Statevector\n",
        "    # Create valid quantum states for initialization\n",
        "    hot_state_vec = Statevector.from_label(hot_state)  # Create a Statevector from the label\n",
        "    cold_state_vec = Statevector.from_label(cold_state)  # Create a Statevector from the label\n",
        "\n",
        "    qc.initialize(hot_state_vec, qr_hot)  # Initialize hot qubits with the statevector\n",
        "    qc.initialize(cold_state_vec, qr_cold)  # Initialize cold qubits with the statevector\n",
        "\n",
        "    # Create entanglement between the hot and cold particle qubits (simplified)\n",
        "    qc.h(qr_hot[0])\n",
        "    qc.cx(qr_hot[0], qr_cold[0])\n",
        "\n",
        "    # Simulate teleportation interaction\n",
        "    # (This would be a more complex quantum operation in a realistic model)\n",
        "    for i in range(3):\n",
        "        qc.cx(qr_hot[i], qr_cold[i])\n",
        "        qc.h(qr_hot[i])\n",
        "        qc.measure(qr_hot[i], cr[i])\n",
        "        qc.measure(qr_cold[i], cr[i + 3])\n",
        "\n",
        "    return qc\n",
        "\n",
        "# Example usage\n",
        "# Example: Use state labels like '001', '100', etc.\n",
        "hot_initial_state = '010'\n",
        "cold_initial_state = '100'\n",
        "\n",
        "circuit = simulate_9d_teleportation(hot_initial_state, cold_initial_state)\n",
        "\n",
        "simulator = Aer.get_backend('qasm_simulator')\n",
        "transpiled_circuit = transpile(circuit, simulator)\n",
        "sampler = Sampler()\n",
        "job = sampler.run(transpiled_circuit, shots=1024)\n",
        "result = job.result()\n",
        "counts = result.quasi_dists[0]\n",
        "counts"
      ],
      "metadata": {
        "id": "JDu7rf5FssfR",
        "colab": {
          "base_uri": "https://localhost:8080/"
        },
        "outputId": "9888b267-50f8-4df4-fd99-d68069918f47"
      },
      "execution_count": 45,
      "outputs": [
        {
          "output_type": "stream",
          "name": "stderr",
          "text": [
            "<ipython-input-45-5c205e590f31>:59: DeprecationWarning: The class ``qiskit.primitives.sampler.Sampler`` is deprecated as of qiskit 1.2. It will be removed no earlier than 3 months after the release date. All implementations of the `BaseSamplerV1` interface have been deprecated in favor of their V2 counterparts. The V2 alternative for the `Sampler` class is `StatevectorSampler`.\n",
            "  sampler = Sampler()\n"
          ]
        },
        {
          "output_type": "execute_result",
          "data": {
            "text/plain": [
              "{48: 0.234375, 50: 0.24609375, 52: 0.2783203125, 54: 0.2412109375}"
            ]
          },
          "metadata": {},
          "execution_count": 45
        }
      ]
    },
    {
      "cell_type": "code",
      "source": [
        "# prompt: write a quantum code for particle inter communication with hot and cold environment on space with 9th dimension in graphical representation\n",
        "\n",
        "import matplotlib.pyplot as plt\n",
        "\n",
        "def plot_9d_interaction(counts):\n",
        "    \"\"\"Plots the results of the 9D interaction simulation.\"\"\"\n",
        "\n",
        "    # Extract relevant data from counts (adapt this to your simulation's output)\n",
        "    # Example: Assume counts are in the format {'000000': 500, '111111': 524, ...}\n",
        "\n",
        "    hot_states = []\n",
        "    cold_states = []\n",
        "    probabilities = []\n",
        "\n",
        "    # Get the binary outcomes and probabilities\n",
        "    # Iterate through items to get both outcome and probability\n",
        "    for outcome, probability in counts.items():\n",
        "        outcome_str = bin(outcome)[2:].zfill(6) # Convert to binary and pad with zeros\n",
        "\n",
        "        hot_states.append(outcome_str[:3])  # Example, assuming first 3 bits represent hot particle\n",
        "        cold_states.append(outcome_str[3:])  # Example, assuming last 3 bits represent cold particle\n",
        "        probabilities.append(probability)\n",
        "\n",
        "    # Plotting code\n",
        "    plt.figure(figsize=(10, 6))\n",
        "    plt.bar(range(len(probabilities)), probabilities)\n",
        "\n",
        "    # Customize the plot as needed (labels, titles, etc.)\n",
        "    plt.xlabel(\"Interaction Outcome\")\n",
        "    plt.ylabel(\"Probability\")\n",
        "    plt.title(\"Simulated 9D Particle Interaction\")\n",
        "    plt.xticks(range(len(probabilities)), [f\"Hot: {hot}, Cold: {cold}\" for hot, cold in zip(hot_states, cold_states)], rotation=45, ha='right')\n",
        "    plt.tight_layout()\n",
        "    plt.show()\n",
        "\n",
        "\n",
        "# Example usage (assuming you have 'counts' from your simulation)\n",
        "plot_9d_interaction(counts)"
      ],
      "metadata": {
        "id": "oRL-ikc_s3UZ",
        "colab": {
          "base_uri": "https://localhost:8080/",
          "height": 607
        },
        "outputId": "22896135-edf6-4294-ae64-926e0f2fda7a"
      },
      "execution_count": 46,
      "outputs": [
        {
          "output_type": "display_data",
          "data": {
            "text/plain": [
              "<Figure size 1000x600 with 1 Axes>"
            ],
            "image/png": "[encoded data removed]"
          },
          "metadata": {}
        }
      ]
    },
    {
      "cell_type": "code",
      "source": [
        "\n",
        "from qiskit import QuantumCircuit, QuantumRegister, ClassicalRegister\n",
        "from qiskit.primitives import Sampler\n",
        "#from qiskit import Aer, transpile  # Remove this incorrect import\n",
        "from qiskit_aer import Aer # Import Aer from the correct module: qiskit_aer\n",
        "from qiskit import transpile # transpile is in qiskit, not qiskit_aer\n",
        "import numpy as np\n",
        "import matplotlib.pyplot as plt\n",
        "\n",
        "\n",
        "def simulate_euler_theorem_quantum(n, a):\n",
        "    \"\"\"Simulates Euler's totient theorem using quantum computation.\n",
        "\n",
        "    Args:\n",
        "        n: An integer representing the modulus.\n",
        "        a: An integer coprime to n.\n",
        "\n",
        "    Returns:\n",
        "        A QuantumCircuit representing the simulation.\n",
        "    \"\"\"\n",
        "    # Note: This is a simplified representation. A true quantum algorithm for this\n",
        "    # would likely require more advanced techniques.\n",
        "    num_qubits = 2  # Adjust based on the size of n\n",
        "    qr = QuantumRegister(num_qubits, 'qubits')\n",
        "    cr = ClassicalRegister(num_qubits, 'bits')\n",
        "    qc = QuantumCircuit(qr, cr)\n",
        "\n",
        "    # Encode n and a into the quantum state (this requires a suitable mapping)\n",
        "    # Placeholder for the encoding\n",
        "    # ... quantum encoding logic (complex, depends on the algorithm) ...\n",
        "    qc.h(0)\n",
        "    qc.cx(0, 1)\n",
        "\n",
        "    # Simulate the exponentiation modulo n using quantum gates\n",
        "    # Placeholder for exponentiation simulation\n",
        "    # ... quantum exponentiation (complex, depends on the algorithm) ...\n",
        "    for _ in range(a):\n",
        "        qc.cx(0,1)\n",
        "\n",
        "    # Measure the qubits\n",
        "    qc.measure(qr, cr)\n",
        "\n",
        "    return qc\n",
        "\n",
        "# Example usage\n",
        "n = 7  # Example modulus\n",
        "a = 3  # Example coprime integer\n",
        "\n",
        "\n",
        "circuit = simulate_euler_theorem_quantum(n, a)\n",
        "\n",
        "simulator = Aer.get_backend('qasm_simulator')\n",
        "transpiled_circuit = transpile(circuit, simulator)\n",
        "\n",
        "sampler = Sampler()\n",
        "job = sampler.run(transpiled_circuit, shots=1024)\n",
        "result = job.result()\n",
        "counts = result.quasi_dists[0]\n",
        "\n",
        "print(f\"Simulation result for n={n} and a={a}: {counts}\")\n",
        "\n",
        "def plot_euler_results(counts):\n",
        "    \"\"\"Plots the Euler theorem simulation results.\"\"\"\n",
        "\n",
        "    plt.figure(figsize=(8, 6))\n",
        "    plt.bar(counts.keys(), counts.values())\n",
        "    plt.xlabel(\"Measurement Outcomes\")\n",
        "    plt.ylabel(\"Probability\")\n",
        "    plt.title(f\"Euler Theorem Quantum Simulation (n={n}, a={a})\")\n",
        "    plt.show()\n",
        "\n",
        "plot_euler_results(counts)"
      ],
      "metadata": {
        "id": "dnfROCVMynTv",
        "colab": {
          "base_uri": "https://localhost:8080/",
          "height": 636
        },
        "outputId": "14c6bd88-1e6a-40c2-bf85-122aa7dac070"
      },
      "execution_count": 47,
      "outputs": [
        {
          "output_type": "stream",
          "name": "stderr",
          "text": [
            "<ipython-input-47-eb09f54c133d>:54: DeprecationWarning: The class ``qiskit.primitives.sampler.Sampler`` is deprecated as of qiskit 1.2. It will be removed no earlier than 3 months after the release date. All implementations of the `BaseSamplerV1` interface have been deprecated in favor of their V2 counterparts. The V2 alternative for the `Sampler` class is `StatevectorSampler`.\n",
            "  sampler = Sampler()\n"
          ]
        },
        {
          "output_type": "stream",
          "name": "stdout",
          "text": [
            "Simulation result for n=7 and a=3: {0: 0.5, 1: 0.5}\n"
          ]
        },
        {
          "output_type": "display_data",
          "data": {
            "text/plain": [
              "<Figure size 800x600 with 1 Axes>"
            ],
            "image/png": "[encoded data removed]"
          },
          "metadata": {}
        }
      ]
    },
    {
      "cell_type": "code",
      "source": [
        "# prompt: write a quantum code with basic groovr algorithms\n",
        "\n",
        "from qiskit import QuantumCircuit, transpile  # Keep QuantumCircuit and execute\n",
        "from qiskit_aer import Aer # Import Aer from the correct module: qiskit_aer\n",
        "\n",
        "#from qiskit import QuantumCircuit, Aer, transpile\n",
        "from qiskit.visualization import plot_histogram\n",
        "from qiskit.primitives import Sampler\n",
        "import numpy as np\n",
        "\n",
        "# Grover's algorithm for a 2-qubit search space\n",
        "def grover_algorithm_2qubits(target_state):\n",
        "    \"\"\"\n",
        "    Implements Grover's algorithm for a 2-qubit search space.\n",
        "\n",
        "    Args:\n",
        "        target_state: The target state to search for (e.g., '01').\n",
        "\n",
        "    Returns:\n",
        "        A QuantumCircuit representing Grover's algorithm.\n",
        "    \"\"\"\n",
        "\n",
        "    qc = QuantumCircuit(2, 2)\n",
        "\n",
        "    # Step 1: Initialize qubits to superposition\n",
        "    qc.h([0, 1])\n",
        "\n",
        "    # Step 2: Oracle (Marks the target state)\n",
        "    if target_state == '01':\n",
        "        qc.z(1)  # Example: Oracle for |01>\n",
        "    elif target_state == '10':\n",
        "        qc.z(0)\n",
        "    elif target_state == '11':\n",
        "        qc.z(0)\n",
        "        qc.z(1)\n",
        "        qc.cz(0,1)\n",
        "    # Add more 'elif' for other possible target states\n",
        "\n",
        "\n",
        "    # Step 3: Diffusion Operator\n",
        "    qc.h([0, 1])\n",
        "    qc.z([0, 1])\n",
        "    qc.cz(0, 1)\n",
        "    qc.h([0, 1])\n",
        "\n",
        "    # Measure the qubits\n",
        "    qc.measure([0, 1], [0, 1])\n",
        "    return qc\n",
        "\n",
        "# Example usage:\n",
        "target_state = '10'  # Change this to the desired target state\n",
        "circuit = grover_algorithm_2qubits(target_state)\n",
        "\n",
        "simulator = Aer.get_backend('qasm_simulator')\n",
        "transpiled_circuit = transpile(circuit, simulator)\n",
        "sampler = Sampler()\n",
        "job = sampler.run(transpiled_circuit, shots=1024)\n",
        "result = job.result()\n",
        "counts = result.quasi_dists[0]\n",
        "print(f\"Grover's algorithm results for target state '{target_state}': {counts}\")\n",
        "\n",
        "plot_histogram(counts)\n"
      ],
      "metadata": {
        "id": "iarkOAJbuW7Z",
        "colab": {
          "base_uri": "https://localhost:8080/",
          "height": 501
        },
        "outputId": "bd174a16-ce0f-4379-802a-69e20bf6594c"
      },
      "execution_count": 48,
      "outputs": [
        {
          "output_type": "stream",
          "name": "stderr",
          "text": [
            "<ipython-input-48-8e31911b7824>:56: DeprecationWarning: The class ``qiskit.primitives.sampler.Sampler`` is deprecated as of qiskit 1.2. It will be removed no earlier than 3 months after the release date. All implementations of the `BaseSamplerV1` interface have been deprecated in favor of their V2 counterparts. The V2 alternative for the `Sampler` class is `StatevectorSampler`.\n",
            "  sampler = Sampler()\n"
          ]
        },
        {
          "output_type": "stream",
          "name": "stdout",
          "text": [
            "Grover's algorithm results for target state '10': {0: 0.2529296875, 1: 0.2626953125, 2: 0.265625, 3: 0.21875}\n"
          ]
        },
        {
          "output_type": "execute_result",
          "data": {
            "text/plain": [
              "<Figure size 640x480 with 1 Axes>"
            ],
            "image/png": "[encoded data removed]"
          },
          "metadata": {},
          "execution_count": 48
        }
      ]
    },
    {
      "cell_type": "code",
      "source": [
        "#from qiskit import QuantumCircuit, QuantumRegister, ClassicalRegister, execute, Aer\n",
        "#import math\n",
        "\n",
        "\n",
        "from qiskit import QuantumCircuit, QuantumRegister, ClassicalRegister\n",
        "from qiskit.primitives import Sampler\n",
        "#from qiskit import Aer, transpile  # Remove this incorrect import\n",
        "from qiskit_aer import Aer # Import Aer from the correct module: qiskit_aer\n",
        "from qiskit import transpile # transpile is in qiskit, not qiskit_aer\n",
        "import matplotlib.pyplot as plt\n",
        "import math\n",
        "\n",
        "\n",
        "# from qiskit import QuantumCircuit, QuantumRegister, ClassicalRegister, execute, Aer  # Incorrect import\n",
        "#from qiskit import QuantumCircuit, QuantumRegister, ClassicalRegister, Aer # Correct import for QuantumCircuit, QuantumRegister, ClassicalRegister, Aer\n",
        "#from qiskit.primitives import Sampler, Estimator # Correct import for execute\n",
        "#import math\n",
        "\n",
        "\n",
        "\n",
        "def qft_dagger(qc, q, n):\n",
        "    \"\"\"n-qubit QFTdagger the first n qubits in qc\"\"\"\n",
        "    for qubit in range(n//2):\n",
        "        qc.swap(q[qubit], q[n-qubit-1])\n",
        "    for j in range(n):\n",
        "        for m in range(j):\n",
        "            qc.cp(-math.pi/float(2**(j-m)), q[m], q[j])\n",
        "        qc.h(q[j])\n",
        "\n",
        "def shor_circuit(N, a):\n",
        "    # Number of qubits needed for the number representation\n",
        "    n = math.ceil(math.log2(N))\n",
        "\n",
        "    # Quantum registers for input, output, and ancilla\n",
        "    qreg1 = QuantumRegister(n)  # for x\n",
        "    qreg2 = QuantumRegister(n)  # for f(x) = a^x mod N\n",
        "    creg = ClassicalRegister(n)\n",
        "\n",
        "    circuit = QuantumCircuit(qreg1, qreg2, creg)\n",
        "\n",
        "    # Apply Hadamard gates to all qubits in qreg1\n",
        "    circuit.h(qreg1)\n",
        "\n",
        "    # Modular exponentiation - this is a placeholder for actual modular exponentiation\n",
        "    for i in range(n):\n",
        "        for j in range(2**i):\n",
        "            circuit.x(qreg1[i])\n",
        "            # Here you would implement the modular exponentiation logic\n",
        "            circuit.x(qreg1[i])\n",
        "\n",
        "    # Apply inverse QFT on qreg1\n",
        "    qft_dagger(circuit, qreg1, n)\n",
        "\n",
        "    # Measure\n",
        "    circuit.measure(qreg1, creg)\n",
        "\n",
        "    return circuit\n",
        "\n",
        "# Example with N=15, a=2 (you'd need to implement the actual modular exponentiation for this to work)\n",
        "N = 15\n",
        "a = 2\n",
        "circuit = shor_circuit(N, a)\n",
        "\n",
        "# Simulate the circuit\n",
        "#simulator = Aer.get_backend('qasm_simulator')\n",
        "#job = execute(circuit, simulator, shots=1000)\n",
        "#result = job.result()\n",
        "#counts = result.get_counts(circuit)\n",
        "\n",
        "\n",
        "sampler = Sampler() # Initialize the Sampler\n",
        "job = sampler.run(circuit, shots=1000) # Run the circuit using Sampler\n",
        "result = job.result() # Get the result\n",
        "counts = result.quasi_dists[0] # Access quasi-distributions for counts\n",
        "\n",
        "\n",
        "print(counts)\n",
        "\n",
        "\n"
      ],
      "metadata": {
        "colab": {
          "base_uri": "https://localhost:8080/"
        },
        "id": "LVNxEJBW87qW",
        "outputId": "a7c713b0-7d76-4d4a-ceac-76af0b7e8272"
      },
      "execution_count": 49,
      "outputs": [
        {
          "output_type": "stream",
          "name": "stdout",
          "text": [
            "{0: 1.0}\n"
          ]
        },
        {
          "output_type": "stream",
          "name": "stderr",
          "text": [
            "<ipython-input-49-1b1c7265cbfa>:71: DeprecationWarning: The class ``qiskit.primitives.sampler.Sampler`` is deprecated as of qiskit 1.2. It will be removed no earlier than 3 months after the release date. All implementations of the `BaseSamplerV1` interface have been deprecated in favor of their V2 counterparts. The V2 alternative for the `Sampler` class is `StatevectorSampler`.\n",
            "  sampler = Sampler() # Initialize the Sampler\n"
          ]
        }
      ]
    },
    {
      "cell_type": "code",
      "source": [
        "from qiskit import QuantumCircuit, QuantumRegister, ClassicalRegister\n",
        "from qiskit.primitives import Sampler # Import Sampler for execution\n",
        "from qiskit_aer import Aer # Import Aer from the correct module: qiskit_aer\n",
        "from qiskit import transpile # transpile is in qiskit, not qiskit_aer\n",
        "import numpy as np\n",
        "#import matplotlib.pyplot as plt # Not used in this code snippet\n",
        "\n",
        "# Example: Entanglement for a simple quantum communication (conceptual)\n",
        "\n",
        "# Create a quantum circuit with two qubits\n",
        "qr = QuantumRegister(2, 'q')\n",
        "cr = ClassicalRegister(2, 'c')\n",
        "circuit = QuantumCircuit(qr, cr)\n",
        "\n",
        "# Entangle the two qubits\n",
        "circuit.h(qr[0])  # Create superposition on the first qubit\n",
        "circuit.cx(qr[0], qr[1])  # CNOT to entangle\n",
        "\n",
        "# Simple calculation of space-time dilation (highly simplified and conceptual)\n",
        "# Imagine we're using quantum states to represent coordinates or time in different frames\n",
        "\n",
        "# Define a simple function to represent time dilation (gross simplification)\n",
        "def time_dilation(v, t):\n",
        "    gamma = 1 / np.sqrt(1 - v**2)  # v is velocity as fraction of light speed\n",
        "    return gamma * t\n",
        "\n",
        "# Here, we're not actually performing the calculation but setting up qubits to represent variables\n",
        "# For example, we could use one qubit to represent whether we're in a high or low gravity environment\n",
        "circuit.x(qr[0])  # Set qubit to |1> to represent high gravity\n",
        "\n",
        "# Measure the qubits\n",
        "circuit.measure(qr, cr)\n",
        "\n",
        "# Run the simulation\n",
        "backend = Aer.get_backend('qasm_simulator')\n",
        "\n",
        "# Use Sampler to execute the circuit\n",
        "sampler = Sampler()\n",
        "job = sampler.run(circuit, shots=1000)\n",
        "result = job.result()\n",
        "\n",
        "# Get the quasi-distribution, which acts like counts in this case\n",
        "quasi_dist = result.quasi_dists[0]\n",
        "\n",
        "# Print the quasi-distribution (similar to counts)\n",
        "print(quasi_dist)\n",
        "\n",
        "# Conceptual post-processing: This would be where you'd interpret quantum results in terms of space-time\n",
        "# For instance:\n",
        "# - If qr[0] is |1>, we might interpret this as \"high gravity\", affecting time dilation calculation\n",
        "# - If qr[1] represents a velocity, we could decide based on its measurement\n",
        "\n",
        "# Example of how we might use quantum results for a classical calculation\n",
        "# Instead of get_counts, access the quasi-distribution to check for state '11'\n",
        "if 3 in quasi_dist and quasi_dist[3] > 0:  # Check if state '11' (represented by integer 3) has a non-zero probability\n",
        "    v = 0.8  # 80% speed of light, for example\n",
        "    t = 1  # 1 second in the moving frame\n",
        "    print(f\"Time dilation factor: {time_dilation(v, t)}\")\n",
        "else:\n",
        "    print(\"No significant time dilation detected.\")"
      ],
      "metadata": {
        "colab": {
          "base_uri": "https://localhost:8080/"
        },
        "id": "phRLON1f-k_-",
        "outputId": "f9da8529-8e9f-4654-e0da-fb3fb1a679bb"
      },
      "execution_count": 50,
      "outputs": [
        {
          "output_type": "stream",
          "name": "stdout",
          "text": [
            "{1: 0.501, 2: 0.499}\n",
            "No significant time dilation detected.\n"
          ]
        },
        {
          "output_type": "stream",
          "name": "stderr",
          "text": [
            "<ipython-input-50-6a8557f4a7d4>:38: DeprecationWarning: The class ``qiskit.primitives.sampler.Sampler`` is deprecated as of qiskit 1.2. It will be removed no earlier than 3 months after the release date. All implementations of the `BaseSamplerV1` interface have been deprecated in favor of their V2 counterparts. The V2 alternative for the `Sampler` class is `StatevectorSampler`.\n",
            "  sampler = Sampler()\n"
          ]
        }
      ]
    },
    {
      "cell_type": "code",
      "source": [
        "from qiskit import QuantumCircuit, QuantumRegister, ClassicalRegister, transpile\n",
        "from qiskit_aer import AerSimulator\n",
        "from qiskit.visualization import plot_histogram\n",
        "\n",
        "# Define quantum and classical registers\n",
        "num_qubits = 3\n",
        "qr = QuantumRegister(num_qubits)\n",
        "cr = ClassicalRegister(num_qubits)\n",
        "\n",
        "# Create a quantum circuit\n",
        "circuit = QuantumCircuit(qr, cr)\n",
        "\n",
        "# Apply quantum gates\n",
        "circuit.h(qr[0])  # Hadamard on qubit 0\n",
        "circuit.cx(qr[0], qr[1])  # CNOT with control qubit 0 and target qubit 1\n",
        "circuit.cx(qr[1], qr[2])  # Entangle qubit 2 with qubit 1\n",
        "\n",
        "# Measure qubits\n",
        "circuit.measure(qr, cr)\n",
        "\n",
        "# Use Aer's AerSimulator for simulation\n",
        "simulator = AerSimulator()\n",
        "\n",
        "# Compile the circuit for the simulator\n",
        "compiled_circuit = transpile(circuit, simulator)\n",
        "\n",
        "# Execute the circuit on the simulator\n",
        "job = simulator.run(compiled_circuit, shots=1000)\n",
        "\n",
        "# Get the results\n",
        "result = job.result()\n",
        "\n",
        "# Plot the results as a histogram\n",
        "plot_histogram(result.get_counts(compiled_circuit))\n",
        "\n",
        "# Print the counts in text format\n",
        "print(result.get_counts(compiled_circuit))"
      ],
      "metadata": {
        "colab": {
          "base_uri": "https://localhost:8080/"
        },
        "id": "kmYK5qqHC8NI",
        "outputId": "0f5cd801-1a68-47f7-e2d0-13d35fb54add"
      },
      "execution_count": 53,
      "outputs": [
        {
          "output_type": "stream",
          "name": "stdout",
          "text": [
            "{'000': 488, '111': 512}\n"
          ]
        }
      ]
    },
    {
      "cell_type": "code",
      "source": [
        "from qiskit import QuantumCircuit, QuantumRegister, ClassicalRegister, transpile\n",
        "from qiskit_aer import AerSimulator\n",
        "from qiskit.visualization import plot_histogram\n",
        "\n",
        "# Define quantum and classical registers\n",
        "# Alice's qubit, Bell pair qubits, and classical bits for communication\n",
        "qr = QuantumRegister(3, 'q')  # q0: Alice's qubit, q1: Bell pair qubit for Alice, q2: Bell pair qubit for Bob\n",
        "cr = ClassicalRegister(2, 'c')  # Classical bits for measurement results\n",
        "\n",
        "# Create quantum circuit for teleportation\n",
        "teleportation_circuit = QuantumCircuit(qr, cr)\n",
        "\n",
        "# Prepare Alice's qubit in some state (for example, superposition)\n",
        "teleportation_circuit.h(qr[0])  # Apply Hadamard to put q0 in superposition\n",
        "teleportation_circuit.ry(0.5, qr[0])  # Apply rotation for a more complex state\n",
        "\n",
        "# Create Bell pair between Alice (q1) and Bob (q2)\n",
        "teleportation_circuit.h(qr[1])\n",
        "teleportation_circuit.cx(qr[1], qr[2])\n",
        "\n",
        "# Alice's operations:\n",
        "teleportation_circuit.cx(qr[0], qr[1])  # CNOT with Alice's qubit and her part of Bell pair\n",
        "teleportation_circuit.h(qr[0])  # Hadamard on Alice's qubit\n",
        "\n",
        "# Measure Alice's qubits and store results in classical bits\n",
        "teleportation_circuit.measure(qr[0], cr[0])\n",
        "teleportation_circuit.measure(qr[1], cr[1])\n",
        "\n",
        "# Bob's conditional operations based on Alice's measurements:\n",
        "teleportation_circuit.x(qr[2]).c_if(cr[1], 1)  # Apply X if cr[1] is 1\n",
        "teleportation_circuit.z(qr[2]).c_if(cr[0], 1)  # Apply Z if cr[0] is 1\n",
        "\n",
        "# Use Aer's AerSimulator for simulation\n",
        "simulator = AerSimulator()\n",
        "\n",
        "# Compile the circuit for the simulator\n",
        "compiled_circuit = transpile(teleportation_circuit, simulator)\n",
        "\n",
        "# Execute the circuit on the simulator\n",
        "job = simulator.run(compiled_circuit, shots=1000)\n",
        "\n",
        "# Get the results\n",
        "result = job.result()\n",
        "\n",
        "# Plot the results as a histogram\n",
        "plot_histogram(result.get_counts(compiled_circuit))\n",
        "\n",
        "# Print the counts in text format\n",
        "print(result.get_counts(compiled_circuit))"
      ],
      "metadata": {
        "colab": {
          "base_uri": "https://localhost:8080/"
        },
        "id": "lY7hscLFDQr_",
        "outputId": "dd14b183-50d8-4f61-ab01-b406e1b46522"
      },
      "execution_count": 54,
      "outputs": [
        {
          "output_type": "stream",
          "name": "stdout",
          "text": [
            "{'01': 231, '11': 234, '10': 286, '00': 249}\n"
          ]
        },
        {
          "output_type": "stream",
          "name": "stderr",
          "text": [
            "<ipython-input-54-44f7cacf674b>:30: DeprecationWarning: The method ``qiskit.circuit.instructionset.InstructionSet.c_if()`` is deprecated as of qiskit 1.3.0. It will be removed in 2.0.0.\n",
            "  teleportation_circuit.x(qr[2]).c_if(cr[1], 1)  # Apply X if cr[1] is 1\n",
            "<ipython-input-54-44f7cacf674b>:31: DeprecationWarning: The method ``qiskit.circuit.instructionset.InstructionSet.c_if()`` is deprecated as of qiskit 1.3.0. It will be removed in 2.0.0.\n",
            "  teleportation_circuit.z(qr[2]).c_if(cr[0], 1)  # Apply Z if cr[0] is 1\n"
          ]
        }
      ]
    },
    {
      "cell_type": "code",
      "source": [
        "from qiskit import QuantumCircuit, QuantumRegister, ClassicalRegister, transpile\n",
        "from qiskit_aer import AerSimulator\n",
        "from qiskit.visualization import plot_histogram\n",
        "import numpy as np\n",
        "\n",
        "# Define quantum and classical registers\n",
        "# Here, we're imagining two \"receivers\" (Bob and Charlie) billions of light-years away\n",
        "qr = QuantumRegister(3, 'q')  # q0: Alice's qubit, q1: Bob's qubit, q2: Charlie's qubit\n",
        "cr = ClassicalRegister(4, 'c')  # 2 bits for each receiver\n",
        "\n",
        "# Create quantum circuit for \"parallel universe\" teleportation\n",
        "parallel_universe_circuit = QuantumCircuit(qr, cr)\n",
        "\n",
        "# Prepare Alice's qubit in some state\n",
        "parallel_universe_circuit.h(qr[0])  # Apply Hadamard for superposition\n",
        "parallel_universe_circuit.ry(0.5, qr[0])  # Apply rotation for a more complex state\n",
        "\n",
        "# Create Bell pairs for both Bob and Charlie\n",
        "for i in [1, 2]:  # Bob's and Charlie's qubits\n",
        "    parallel_universe_circuit.h(qr[0])\n",
        "    parallel_universe_circuit.cx(qr[0], qr[i])\n",
        "    parallel_universe_circuit.reset(qr[0])  # Reset Alice's qubit for next entanglement\n",
        "\n",
        "# Alice's operations for teleportation (to both Bob and Charlie)\n",
        "parallel_universe_circuit.h(qr[0])\n",
        "parallel_universe_circuit.cx(qr[0], qr[1])\n",
        "parallel_universe_circuit.cx(qr[0], qr[2])\n",
        "\n",
        "# Measure Alice's qubit and both entangled qubits\n",
        "parallel_universe_circuit.measure(qr[0], cr[0])  # Alice's measurement\n",
        "parallel_universe_circuit.measure(qr[1], cr[1])  # Bob's measurement\n",
        "parallel_universe_circuit.measure(qr[2], cr[3])  # Charlie's measurement\n",
        "\n",
        "# Conditional operations for Bob and Charlie (simplified for demonstration)\n",
        "for i, c in zip([1, 2], [1, 3]):  # Bob and Charlie\n",
        "    parallel_universe_circuit.x(qr[i]).c_if(cr[c], 1)\n",
        "    parallel_universe_circuit.z(qr[i]).c_if(cr[0], 1)\n",
        "\n",
        "# Use Aer's AerSimulator for simulation\n",
        "simulator = AerSimulator()\n",
        "\n",
        "# Compile the circuit for the simulator\n",
        "compiled_circuit = transpile(parallel_universe_circuit, simulator)\n",
        "\n",
        "# Execute the circuit on the simulator\n",
        "job = simulator.run(compiled_circuit, shots=1000)\n",
        "\n",
        "# Get the results\n",
        "result = job.result()\n",
        "\n",
        "# Plot the results as a histogram\n",
        "plot_histogram(result.get_counts(compiled_circuit))\n",
        "\n",
        "# Print the counts in text format\n",
        "print(result.get_counts(compiled_circuit))"
      ],
      "metadata": {
        "colab": {
          "base_uri": "https://localhost:8080/"
        },
        "id": "8SMhZvnmD6Un",
        "outputId": "a039589b-8bab-42e8-c9ef-4595afa90f28"
      },
      "execution_count": 55,
      "outputs": [
        {
          "output_type": "stream",
          "name": "stderr",
          "text": [
            "<ipython-input-55-44b4b1439806>:36: DeprecationWarning: The method ``qiskit.circuit.instructionset.InstructionSet.c_if()`` is deprecated as of qiskit 1.3.0. It will be removed in 2.0.0.\n",
            "  parallel_universe_circuit.x(qr[i]).c_if(cr[c], 1)\n",
            "<ipython-input-55-44b4b1439806>:37: DeprecationWarning: The method ``qiskit.circuit.instructionset.InstructionSet.c_if()`` is deprecated as of qiskit 1.3.0. It will be removed in 2.0.0.\n",
            "  parallel_universe_circuit.z(qr[i]).c_if(cr[0], 1)\n"
          ]
        },
        {
          "output_type": "stream",
          "name": "stdout",
          "text": [
            "{'0001': 15, '1010': 20, '0010': 13, '0000': 259, '0011': 226, '1011': 232, '1001': 13, '1000': 222}\n"
          ]
        }
      ]
    },
    {
      "cell_type": "code",
      "source": [
        "from qiskit import QuantumCircuit, QuantumRegister, ClassicalRegister, transpile\n",
        "from qiskit_aer import AerSimulator\n",
        "from qiskit.visualization import plot_histogram\n",
        "import numpy as np\n",
        "\n",
        "# Let's imagine we're dealing with quantum states that might represent \"entities\" or \"phenomena\"\n",
        "qr = QuantumRegister(5, 'q')  # q0: Our qubit; q1, q2: Alien/Supernatural qubits; q3, q4: Parallel universe qubits\n",
        "cr = ClassicalRegister(5, 'c')  # Classical bits to \"interpret\" results\n",
        "\n",
        "# Quantum circuit for an imaginative \"interaction\"\n",
        "parallel_supernatural_circuit = QuantumCircuit(qr, cr)\n",
        "\n",
        "# Prepare our qubit in a state (could be thought of as \"our signal\")\n",
        "parallel_supernatural_circuit.h(qr[0])  # Superposition\n",
        "parallel_supernatural_circuit.ry(np.pi/4, qr[0])  # Apply some rotation\n",
        "\n",
        "# Create entanglement with \"Alien/Supernatural\" qubits\n",
        "parallel_supernatural_circuit.cx(qr[0], qr[1])  # Entangle with \"Alien\"\n",
        "parallel_supernatural_circuit.cx(qr[0], qr[2])  # Entangle with \"Supernatural\"\n",
        "\n",
        "# Now, imagine we're trying to interact or \"communicate\" with parallel universes\n",
        "for i in [3, 4]:  # Creating entanglement with \"parallel universes\"\n",
        "    parallel_supernatural_circuit.h(qr[0])\n",
        "    parallel_supernatural_circuit.cx(qr[0], qr[i])\n",
        "    parallel_supernatural_circuit.reset(qr[0])  # Reset for next entanglement\n",
        "\n",
        "# Simulate some interaction or \"response\"\n",
        "# Here, we're just applying some arbitrary gates to mimic \"other influences\"\n",
        "parallel_supernatural_circuit.cx(qr[1], qr[3])  # Alien influences universe 1\n",
        "parallel_supernatural_circuit.cx(qr[2], qr[4])  # Supernatural influences universe 2\n",
        "\n",
        "# Measure all qubits to \"read\" the \"outcome\" or \"response\"\n",
        "for i in range(5):\n",
        "    parallel_supernatural_circuit.measure(qr[i], cr[i])\n",
        "\n",
        "# Simulate this interaction\n",
        "simulator = AerSimulator()\n",
        "\n",
        "# Compile the circuit for the simulator\n",
        "compiled_circuit = transpile(parallel_supernatural_circuit, simulator)\n",
        "\n",
        "# Execute the circuit on the simulator\n",
        "job = simulator.run(compiled_circuit, shots=1000)\n",
        "\n",
        "# Get the results\n",
        "result = job.result()\n",
        "\n",
        "# Plot the results as a histogram\n",
        "plot_histogram(result.get_counts(compiled_circuit))\n",
        "\n",
        "# Print the counts in text format\n",
        "print(result.get_counts(compiled_circuit))"
      ],
      "metadata": {
        "colab": {
          "base_uri": "https://localhost:8080/"
        },
        "id": "phM_w87qET4G",
        "outputId": "2031bc59-319b-4dd7-be48-e5750df8b60b"
      },
      "execution_count": 56,
      "outputs": [
        {
          "output_type": "stream",
          "name": "stdout",
          "text": [
            "{'00000': 33, '10000': 35, '11000': 35, '10110': 203, '01110': 224, '01000': 48, '11110': 211, '00110': 211}\n"
          ]
        }
      ]
    },
    {
      "cell_type": "code",
      "source": [
        "from qiskit import QuantumCircuit, QuantumRegister, ClassicalRegister, transpile\n",
        "from qiskit_aer import AerSimulator\n",
        "from qiskit.visualization import plot_histogram\n",
        "\n",
        "# Create a Quantum Register with 2 qubits\n",
        "qr = QuantumRegister(2)\n",
        "\n",
        "# Create a Classical Register with 2 bits\n",
        "cr = ClassicalRegister(2)\n",
        "\n",
        "# Create a Quantum Circuit\n",
        "circuit = QuantumCircuit(qr, cr)\n",
        "\n",
        "# Apply a Hadamard gate to the first qubit to put it in superposition\n",
        "circuit.h(qr[0])\n",
        "\n",
        "# Apply a CNOT (Controlled-NOT) gate where the first qubit is control and the second is target\n",
        "circuit.cx(qr[0], qr[1])\n",
        "\n",
        "# Measure the qubits\n",
        "circuit.measure(qr, cr)\n",
        "\n",
        "# Use Aer's AerSimulator for simulation\n",
        "simulator = AerSimulator()\n",
        "\n",
        "# Compile the circuit for the simulator\n",
        "compiled_circuit = transpile(circuit, simulator)\n",
        "\n",
        "# Execute the circuit on the simulator\n",
        "job = simulator.run(compiled_circuit, shots=1000)\n",
        "\n",
        "# Get the results\n",
        "result = job.result()\n",
        "\n",
        "# Returns counts\n",
        "counts = result.get_counts(compiled_circuit)\n",
        "\n",
        "# Plot a histogram\n",
        "plot_histogram(counts)\n",
        "\n",
        "# Print the outcomes\n",
        "print(\"\\nTotal count for 00 and 11:\", counts.get('00', 0) + counts.get('11', 0))\n",
        "print(\"Total count for 01 and 10:\", counts.get('01', 0) + counts.get('10', 0))"
      ],
      "metadata": {
        "colab": {
          "base_uri": "https://localhost:8080/"
        },
        "id": "ybNo6UefEk4W",
        "outputId": "109b5738-5c98-40b9-86c5-a7eb33f6fe75"
      },
      "execution_count": 58,
      "outputs": [
        {
          "output_type": "stream",
          "name": "stdout",
          "text": [
            "\n",
            "Total count for 00 and 11: 1000\n",
            "Total count for 01 and 10: 0\n"
          ]
        }
      ]
    },
    {
      "cell_type": "code",
      "source": [
        "from qiskit import QuantumCircuit, QuantumRegister, ClassicalRegister, transpile\n",
        "from qiskit_aer import AerSimulator\n",
        "from qiskit.visualization import plot_histogram\n",
        "\n",
        "# Define quantum and classical registers for two particles\n",
        "qr = QuantumRegister(2, 'particle')\n",
        "cr = ClassicalRegister(2, 'result')\n",
        "\n",
        "# Create a quantum circuit\n",
        "circuit = QuantumCircuit(qr, cr)\n",
        "\n",
        "# Entangle the particles:\n",
        "# 1. Put the first particle in superposition\n",
        "circuit.h(qr[0])\n",
        "\n",
        "# 2. Use CNOT to entangle the particles\n",
        "circuit.cx(qr[0], qr[1])\n",
        "\n",
        "# Measure both particles\n",
        "circuit.measure(qr, cr)\n",
        "\n",
        "# Use AerSimulator for simulation\n",
        "simulator = AerSimulator()\n",
        "\n",
        "# Compile the circuit for the simulator\n",
        "compiled_circuit = transpile(circuit, simulator)\n",
        "\n",
        "# Execute the circuit with 1000 shots\n",
        "job = simulator.run(compiled_circuit, shots=1000)\n",
        "\n",
        "# Get the results\n",
        "result = job.result()\n",
        "\n",
        "# Retrieve counts\n",
        "counts = result.get_counts(compiled_circuit)\n",
        "\n",
        "# Plot the histogram of results\n",
        "plot_histogram(counts)\n",
        "\n",
        "# Print the outcomes\n",
        "print(\"\\nTotal count for 00 and 11:\", counts.get('00', 0) + counts.get('11', 0))\n",
        "print(\"Total count for 01 and 10:\", counts.get('01', 0) + counts.get('10', 0))"
      ],
      "metadata": {
        "colab": {
          "base_uri": "https://localhost:8080/"
        },
        "id": "Yz-F9606GfY4",
        "outputId": "3ea01d24-f6d2-4a2d-fe7b-f5c4fdf438f1"
      },
      "execution_count": 61,
      "outputs": [
        {
          "output_type": "stream",
          "name": "stdout",
          "text": [
            "\n",
            "Total count for 00 and 11: 1000\n",
            "Total count for 01 and 10: 0\n"
          ]
        }
      ]
    },
    {
      "cell_type": "code",
      "source": [
        "from qiskit import QuantumCircuit, QuantumRegister, ClassicalRegister, transpile\n",
        "from qiskit_aer import AerSimulator\n",
        "from qiskit.visualization import plot_histogram\n",
        "import random\n",
        "\n",
        "# Define quantum and classical registers\n",
        "qr = QuantumRegister(5)  # 5 qubits for complexity\n",
        "cr = ClassicalRegister(5)\n",
        "circuit = QuantumCircuit(qr, cr)\n",
        "\n",
        "# Apply random quantum gates to create a unique quantum state\n",
        "for qubit in range(5):\n",
        "    if random.choice([True, False]):\n",
        "        circuit.h(qr[qubit])  # Hadamard for superposition\n",
        "    if random.choice([True, False]):\n",
        "        circuit.x(qr[qubit])  # X gate for bit flip\n",
        "    if random.choice([True, False]) and qubit < 4:\n",
        "        circuit.cx(qr[qubit], qr[qubit+1])  # CNOT for entanglement\n",
        "    if random.choice([True, False]):\n",
        "        circuit.ry(random.uniform(0, 2*np.pi), qr[qubit])  # Random rotation around Y axis\n",
        "\n",
        "# Measure all qubits to get a classical bit string (our CAPTCHA)\n",
        "circuit.measure(qr, cr)\n",
        "\n",
        "# Use AerSimulator for simulation\n",
        "simulator = AerSimulator()\n",
        "\n",
        "# Compile the circuit for the simulator\n",
        "compiled_circuit = transpile(circuit, simulator)\n",
        "\n",
        "# Execute the circuit on the simulator\n",
        "job = simulator.run(compiled_circuit, shots=1)  # One shot to get one unique outcome\n",
        "\n",
        "# Get the result\n",
        "result = job.result()\n",
        "captcha = list(result.get_counts(compiled_circuit).keys())[0]  # Since shots=1, we'll get one result\n",
        "\n",
        "# Print the CAPTCHA\n",
        "print(f\"Quantum CAPTCHA: {captcha}\")\n",
        "\n",
        "# Optionally, visualize the circuit\n",
        "circuit.draw(output='mpl')\n",
        "\n",
        "# For verification, you would need:\n",
        "# 1. To reconstruct the circuit based on the CAPTCHA string, or\n",
        "# 2. Develop a classical algorithm to recognize the pattern with high accuracy\n"
      ],
      "metadata": {
        "colab": {
          "base_uri": "https://localhost:8080/",
          "height": 466
        },
        "id": "BrYjINufIYcB",
        "outputId": "13c2c5c6-eb4a-49d0-95b8-88c29fd6c170"
      },
      "execution_count": 68,
      "outputs": [
        {
          "output_type": "stream",
          "name": "stdout",
          "text": [
            "Quantum CAPTCHA: 10111\n"
          ]
        },
        {
          "output_type": "execute_result",
          "data": {
            "text/plain": [
              "<Figure size 742.417x535.111 with 1 Axes>"
            ],
            "image/png": "[encoded data removed]"
          },
          "metadata": {},
          "execution_count": 68
        }
      ]
    },
    {
      "cell_type": "code",
      "source": [
        "from qiskit import QuantumCircuit, QuantumRegister, ClassicalRegister, transpile\n",
        "from qiskit_aer import AerSimulator\n",
        "import random\n",
        "import string\n",
        "\n",
        "def quantum_shuffle_password(password, num_qubits=5):\n",
        "    # Convert password to list of characters for manipulation\n",
        "    pwd_list = list(password)\n",
        "\n",
        "    # Quantum registers for randomness generation\n",
        "    qr = QuantumRegister(num_qubits)\n",
        "    cr = ClassicalRegister(num_qubits)\n",
        "    circuit = QuantumCircuit(qr, cr)\n",
        "\n",
        "    # Apply random quantum gates to create a quantum state\n",
        "    for qubit in range(num_qubits):\n",
        "        circuit.h(qr[qubit])  # Hadamard for superposition\n",
        "        if random.choice([True, False]):\n",
        "            circuit.x(qr[qubit])  # Bit flip for added randomness\n",
        "\n",
        "    # Measure to collapse the state into a classical bit string\n",
        "    circuit.measure(qr, cr)\n",
        "\n",
        "    # Use qasm_simulator to get the result\n",
        "    simulator = AerSimulator()\n",
        "    compiled_circuit = transpile(circuit, simulator)\n",
        "    job = simulator.run(compiled_circuit, shots=1)\n",
        "    result = job.result()\n",
        "    random_bits = list(result.get_counts(compiled_circuit).keys())[0]\n",
        "\n",
        "    # Convert binary string to positions for shuffling\n",
        "    positions = [int(bit) for bit in random_bits]\n",
        "\n",
        "    # Shuffle password based on quantum randomness\n",
        "    aligned_pwd = []\n",
        "    for bit in positions:\n",
        "        if len(pwd_list) > 0:  # To avoid index errors if password is shorter than num_qubits\n",
        "            aligned_pwd.append(pwd_list.pop(bit % len(pwd_list)))\n",
        "\n",
        "    # Append remaining characters if any\n",
        "    aligned_pwd.extend(pwd_list)\n",
        "\n",
        "    return ''.join(aligned_pwd)\n",
        "\n",
        "# Example usage\n",
        "original_password = \"AjitKumar\"\n",
        "quantum_aligned_password = quantum_shuffle_password(original_password)\n",
        "print(f\"Original Password: {original_password}\")\n",
        "print(f\"Quantum Aligned Password: {quantum_aligned_password}\")"
      ],
      "metadata": {
        "colab": {
          "base_uri": "https://localhost:8080/"
        },
        "id": "c0ivyFrgK_Os",
        "outputId": "5974da29-82ab-43d4-83ed-d32f082c7729"
      },
      "execution_count": 79,
      "outputs": [
        {
          "output_type": "stream",
          "name": "stdout",
          "text": [
            "Original Password: AjitKumar\n",
            "Quantum Aligned Password: jitKuAmar\n"
          ]
        }
      ]
    },
    {
      "cell_type": "code",
      "source": [
        "from qiskit import QuantumCircuit, QuantumRegister, ClassicalRegister, transpile\n",
        "from qiskit_aer import AerSimulator\n",
        "from qiskit.visualization import plot_histogram\n",
        "import numpy as np\n",
        "\n",
        "# Let's assume we're looking at a simplified 2D space for potential planet locations\n",
        "# We'll use quantum states to represent different areas in this space\n",
        "\n",
        "# Define quantum registers\n",
        "qr = QuantumRegister(2)  # 2 qubits for 4 potential \"locations\" in our simplified model\n",
        "cr = ClassicalRegister(2)\n",
        "circuit = QuantumCircuit(qr, cr)\n",
        "\n",
        "# Apply Hadamard gates to create superposition across all possibilities\n",
        "circuit.h(qr[0])\n",
        "circuit.h(qr[1])\n",
        "\n",
        "# We could simulate gravitational influences or other factors by adding phase gates or controlled operations\n",
        "# Here, let's apply some arbitrary phase gates to mimic gravitational perturbations\n",
        "for i in range(2):\n",
        "    circuit.p(np.pi/4, qr[i])  # Phase shift to represent some influence\n",
        "\n",
        "# Measurement to collapse our quantum state into a classical result\n",
        "circuit.measure(qr, cr)\n",
        "\n",
        "# Use AerSimulator for simulation\n",
        "simulator = AerSimulator()\n",
        "\n",
        "# Compile the circuit for the simulator\n",
        "compiled_circuit = transpile(circuit, simulator)\n",
        "\n",
        "# Execute the circuit on the simulator with multiple shots to see probability distribution\n",
        "job = simulator.run(compiled_circuit, shots=1000)\n",
        "\n",
        "# Get the results\n",
        "result = job.result()\n",
        "\n",
        "# Retrieve counts to see where our \"planet\" might be found more often\n",
        "counts = result.get_counts(compiled_circuit)\n",
        "\n",
        "# Visualize results\n",
        "plot_histogram(counts)\n",
        "\n",
        "# Print the probability distribution\n",
        "for key, value in counts.items():\n",
        "    probability = value / 1000\n",
        "    print(f\"Probability of planet at location {key}: {probability:.4f}\")\n"
      ],
      "metadata": {
        "colab": {
          "base_uri": "https://localhost:8080/"
        },
        "id": "7nxYqU0fLxfR",
        "outputId": "9cf88cad-9c16-4b7a-b40f-28dd6b3b5a68"
      },
      "execution_count": 7,
      "outputs": [
        {
          "output_type": "stream",
          "name": "stdout",
          "text": [
            "Probability of planet at location 01: 0.2430\n",
            "Probability of planet at location 10: 0.2480\n",
            "Probability of planet at location 00: 0.2730\n",
            "Probability of planet at location 11: 0.2360\n"
          ]
        }
      ]
    },
    {
      "cell_type": "code",
      "source": [
        "from qiskit import QuantumCircuit, QuantumRegister, ClassicalRegister, transpile\n",
        "from qiskit_aer import AerSimulator\n",
        "from qiskit.visualization import plot_histogram\n",
        "import numpy as np\n",
        "\n",
        "# Suppose we're looking at a galaxy with a simplified 4-dimensional parameter space:\n",
        "# e.g., distance, velocity, brightness, and orbital inclination\n",
        "\n",
        "# Define quantum registers - 4 qubits for 4 parameters\n",
        "qr = QuantumRegister(4)\n",
        "cr = ClassicalRegister(4)\n",
        "circuit = QuantumCircuit(qr, cr)\n",
        "\n",
        "# Put all qubits into superposition to represent all possible combinations of parameters\n",
        "for qubit in range(4):\n",
        "    circuit.h(qr[qubit])\n",
        "\n",
        "# Let's apply some quantum gates to mimic how certain parameters might \"interact\":\n",
        "# Here, we're using CNOT gates to represent correlations between parameters\n",
        "circuit.cx(qr[0], qr[1])  # Correlation between distance and velocity\n",
        "circuit.cx(qr[2], qr[3])  # Correlation between brightness and inclination\n",
        "\n",
        "# Add some phase gates to represent the influence of known astronomical phenomena\n",
        "for qubit in range(4):\n",
        "    circuit.p(np.pi/4, qr[qubit])  # Arbitrary phase shift for simplicity\n",
        "\n",
        "# Measure to see which parameter combinations are more likely to host planets\n",
        "circuit.measure(qr, cr)\n",
        "\n",
        "# Use AerSimulator for simulation\n",
        "simulator = AerSimulator()\n",
        "\n",
        "# Compile the circuit for the simulator\n",
        "compiled_circuit = transpile(circuit, simulator)\n",
        "\n",
        "# Execute the circuit on the simulator with multiple shots to get a probability distribution\n",
        "job = simulator.run(compiled_circuit, shots=10000)\n",
        "\n",
        "# Get the results\n",
        "result = job.result()\n",
        "\n",
        "# Retrieve counts, which represent our probability distribution\n",
        "counts = result.get_counts(compiled_circuit)\n",
        "\n",
        "# Visualize results\n",
        "plot_histogram(counts)\n",
        "\n",
        "# Print the probability distribution\n",
        "for key, value in counts.items():\n",
        "    probability = value / 10000\n",
        "    print(f\"Probability for parameter set {key}: {probability:.4f}\")\n"
      ],
      "metadata": {
        "colab": {
          "base_uri": "https://localhost:8080/"
        },
        "id": "Z9zp1ci0PZes",
        "outputId": "4cf4728c-779b-4a08-bc92-3cc942f0d71b"
      },
      "execution_count": 8,
      "outputs": [
        {
          "output_type": "stream",
          "name": "stdout",
          "text": [
            "Probability for parameter set 1010: 0.0685\n",
            "Probability for parameter set 0001: 0.0595\n",
            "Probability for parameter set 1100: 0.0619\n",
            "Probability for parameter set 1000: 0.0637\n",
            "Probability for parameter set 0110: 0.0609\n",
            "Probability for parameter set 1101: 0.0649\n",
            "Probability for parameter set 1011: 0.0683\n",
            "Probability for parameter set 0011: 0.0641\n",
            "Probability for parameter set 0111: 0.0589\n",
            "Probability for parameter set 1111: 0.0595\n",
            "Probability for parameter set 0100: 0.0643\n",
            "Probability for parameter set 0000: 0.0621\n",
            "Probability for parameter set 0010: 0.0591\n",
            "Probability for parameter set 1001: 0.0629\n",
            "Probability for parameter set 0101: 0.0611\n",
            "Probability for parameter set 1110: 0.0603\n"
          ]
        }
      ]
    },
    {
      "cell_type": "code",
      "source": [
        "from qiskit import QuantumCircuit, QuantumRegister, ClassicalRegister, transpile\n",
        "from qiskit_aer import AerSimulator\n",
        "from qiskit.visualization import plot_histogram\n",
        "import numpy as np\n",
        "\n",
        "# Parameters for our galaxy:\n",
        "# - 0: Proximity to galactic center (0 for close, 1 for far)\n",
        "# - 1: Brightness (0 for dim, 1 for bright)\n",
        "# - 2: In habitable zone (0 for no, 1 for yes)\n",
        "\n",
        "qr = QuantumRegister(3)  # 3 qubits for our 3 parameters\n",
        "cr = ClassicalRegister(3)\n",
        "circuit = QuantumCircuit(qr, cr)\n",
        "\n",
        "# Superposition for all parameters to explore all combinations\n",
        "for qubit in range(3):\n",
        "    circuit.h(qr[qubit])\n",
        "\n",
        "# Let's add some simple interactions:\n",
        "# - If a planet is far from the galactic center, it might be less bright\n",
        "#circuit.ccx(qr[0], qr[1], qr[1])  # If far (qr[0]=1) then flip brightness (qr[1])\n",
        "\n",
        "# Simulate the probability that a planet is in the habitable zone based on other parameters:\n",
        "# - If a planet is far and bright, it's less likely to be in the habitable zone\n",
        "circuit.ccx(qr[0], qr[1], qr[2])  # If far and bright, make habitable zone unlikely\n",
        "\n",
        "# Measure to collapse our quantum state into observable probabilities\n",
        "circuit.measure(qr, cr)\n",
        "\n",
        "# Use AerSimulator for simulation\n",
        "simulator = AerSimulator()\n",
        "\n",
        "# Compile the circuit for the simulator\n",
        "compiled_circuit = transpile(circuit, simulator)\n",
        "\n",
        "# Execute the circuit on the simulator with multiple shots for probability distribution\n",
        "job = simulator.run(compiled_circuit, shots=10000)\n",
        "\n",
        "# Get the results\n",
        "result = job.result()\n",
        "\n",
        "# Retrieve counts, which represent our probability distribution for planet parameters\n",
        "counts = result.get_counts(compiled_circuit)\n",
        "\n",
        "# Visualize results\n",
        "plot_histogram(counts)\n",
        "\n",
        "# Print the probability distribution for each parameter set\n",
        "print(\"Probability distribution for planet parameters:\")\n",
        "for key, value in counts.items():\n",
        "    probability = value / 10000\n",
        "    print(f\"Parameter set {key}: {probability:.4f}\")\n",
        "\n",
        "# Example interpretation:\n",
        "# If '011' has a higher probability, it means planets that are close to the galactic center,\n",
        "# bright, and in the habitable zone are more likely according to our model."
      ],
      "metadata": {
        "colab": {
          "base_uri": "https://localhost:8080/"
        },
        "id": "o9K28yZqPtYF",
        "outputId": "d35bceb0-bdf4-46a6-efa0-bfddd4db78b2"
      },
      "execution_count": 11,
      "outputs": [
        {
          "output_type": "stream",
          "name": "stdout",
          "text": [
            "Probability distribution for planet parameters:\n",
            "Parameter set 111: 0.1243\n",
            "Parameter set 011: 0.1217\n",
            "Parameter set 101: 0.1177\n",
            "Parameter set 001: 0.1263\n",
            "Parameter set 010: 0.1275\n",
            "Parameter set 000: 0.1269\n",
            "Parameter set 100: 0.1276\n",
            "Parameter set 110: 0.1280\n"
          ]
        }
      ]
    },
    {
      "cell_type": "code",
      "source": [
        "from qiskit import QuantumCircuit, QuantumRegister, ClassicalRegister, transpile\n",
        "from qiskit_aer import AerSimulator\n",
        "import numpy as np\n",
        "\n",
        "# Let's set up a scenario with 3 \"invisible\" objects, each represented by a qubit\n",
        "num_objects = 3\n",
        "qr = QuantumRegister(2 * num_objects)  # One qubit for each photon pair per object\n",
        "cr = ClassicalRegister(num_objects)\n",
        "circuit = QuantumCircuit(qr, cr)\n",
        "\n",
        "# Create entangled photon pairs for each object\n",
        "for i in range(0, 2 * num_objects, 2):\n",
        "    circuit.h(qr[i])  # Hadamard on one photon\n",
        "    circuit.cx(qr[i], qr[i+1])  # CNOT to entangle\n",
        "\n",
        "# Simulate interaction with the \"invisible\" objects:\n",
        "# - If an object reflects (is visible), it might change the state of one photon in the pair\n",
        "for i in range(0, 2 * num_objects, 2):\n",
        "    # Here, we're assuming a 50% chance of interaction for simplicity\n",
        "    if np.random.random() > 0.5:  # Simulate object interaction\n",
        "        circuit.x(qr[i])  # Flip the state of the first photon in pair\n",
        "\n",
        "# Measure the second photon of each pair, which should theoretically give us info about the object\n",
        "for i in range(1, 2 * num_objects, 2):\n",
        "    circuit.measure(qr[i], cr[i // 2])\n",
        "\n",
        "# Use AerSimulator for simulation\n",
        "simulator = AerSimulator()\n",
        "\n",
        "# Compile the circuit for the simulator\n",
        "compiled_circuit = transpile(circuit, simulator)\n",
        "\n",
        "# Execute the circuit on the simulator with multiple shots for probability distribution\n",
        "job = simulator.run(compiled_circuit, shots=1000)\n",
        "\n",
        "# Get the results\n",
        "result = job.result()\n",
        "\n",
        "# Retrieve counts, which represent our \"visibility\" detection\n",
        "counts = result.get_counts(compiled_circuit)\n",
        "\n",
        "# Print the results - each bit string represents which \"objects\" were \"detected\"\n",
        "print(\"Detected Objects (1 means detected, 0 means not detected):\")\n",
        "for key, value in counts.items():\n",
        "    prob = value / 1000\n",
        "    print(f\"Detection pattern {key}: Probability {prob:.4f}\")"
      ],
      "metadata": {
        "colab": {
          "base_uri": "https://localhost:8080/"
        },
        "id": "agxEVwTTPtUu",
        "outputId": "1a76f31d-d628-4859-ddf0-062452eed6c5"
      },
      "execution_count": 12,
      "outputs": [
        {
          "output_type": "stream",
          "name": "stdout",
          "text": [
            "Detected Objects (1 means detected, 0 means not detected):\n",
            "Detection pattern 100: Probability 0.1240\n",
            "Detection pattern 001: Probability 0.1120\n",
            "Detection pattern 011: Probability 0.1280\n",
            "Detection pattern 111: Probability 0.1310\n",
            "Detection pattern 110: Probability 0.1120\n",
            "Detection pattern 101: Probability 0.1390\n",
            "Detection pattern 000: Probability 0.1200\n",
            "Detection pattern 010: Probability 0.1340\n"
          ]
        }
      ]
    },
    {
      "cell_type": "code",
      "source": [
        "from qiskit import QuantumCircuit, QuantumRegister, ClassicalRegister, transpile\n",
        "from qiskit_aer import AerSimulator\n",
        "import numpy as np\n",
        "\n",
        "# Let's use 3 qubits to represent 3 particles in a simplified quantum field\n",
        "num_particles = 3\n",
        "qr = QuantumRegister(num_particles)\n",
        "cr = ClassicalRegister(num_particles)\n",
        "circuit = QuantumCircuit(qr, cr)\n",
        "\n",
        "# Initialize particles in superposition to represent uncertainty in position or state\n",
        "for i in range(num_particles):\n",
        "    circuit.h(qr[i])\n",
        "\n",
        "# Simulate particle interactions or field effects:\n",
        "# - Here, we're using CNOT gates to represent how one particle's state might influence another,\n",
        "#   which can be seen as an analogy for gravitational or dark matter interactions\n",
        "for i in range(num_particles - 1):\n",
        "    circuit.cx(qr[i], qr[i + 1])  # Particle interaction or field coupling\n",
        "\n",
        "# Add some phase gates to mimic the influence of a black hole or dark matter's gravitational effects\n",
        "for i in range(num_particles):\n",
        "    circuit.p(np.pi/4, qr[i])  # Arbitrary phase shift\n",
        "\n",
        "# Measurement to observe the \"state\" of our particles or field\n",
        "circuit.measure(qr, cr)\n",
        "\n",
        "# Use AerSimulator for simulation\n",
        "simulator = AerSimulator()\n",
        "\n",
        "# Compile the circuit for the simulator\n",
        "compiled_circuit = transpile(circuit, simulator)\n",
        "\n",
        "# Execute the circuit on the simulator with multiple shots to see probability distribution\n",
        "job = simulator.run(compiled_circuit, shots=10000)\n",
        "\n",
        "# Get the results\n",
        "result = job.result()\n",
        "\n",
        "# Retrieve counts to interpret as particle states or field configurations\n",
        "counts = result.get_counts(compiled_circuit)\n",
        "\n",
        "# Print results\n",
        "print(\"Particle/Field State Probabilities:\")\n",
        "for key, value in counts.items():\n",
        "    prob = value / 10000\n",
        "    print(f\"State {key}: Probability {prob:.4f}\")"
      ],
      "metadata": {
        "colab": {
          "base_uri": "https://localhost:8080/"
        },
        "id": "mxu4tBeKRlTi",
        "outputId": "f95bfc2a-5e1a-4c23-db41-5b09f308593d"
      },
      "execution_count": 13,
      "outputs": [
        {
          "output_type": "stream",
          "name": "stdout",
          "text": [
            "Particle/Field State Probabilities:\n",
            "State 001: Probability 0.1233\n",
            "State 101: Probability 0.1234\n",
            "State 011: Probability 0.1265\n",
            "State 111: Probability 0.1214\n",
            "State 100: Probability 0.1345\n",
            "State 010: Probability 0.1263\n",
            "State 000: Probability 0.1224\n",
            "State 110: Probability 0.1222\n"
          ]
        }
      ]
    }
  ],
  "metadata": {
    "kernelspec": {
      "display_name": "Python 3",
      "language": "python",
      "name": "python3"
    },
    "language_info": {
      "codemirror_mode": {
        "name": "ipython",
        "version": 3
      },
      "file_extension": ".py",
      "mimetype": "text/x-python",
      "name": "python",
      "nbconvert_exporter": "python",
      "pygments_lexer": "ipython3",
      "version": "3.11.1"
    },
    "orig_nbformat": 4,
    "vscode": {
      "interpreter": {
        "hash": "c261aea317cc0286b3b3261fbba9abdec21eaa57589985bb7a274bf54d6cc0a7"
      }
    },
    "colab": {
      "provenance": [],
      "include_colab_link": true
    }
  },
  "nbformat": 4,
  "nbformat_minor": 0
}