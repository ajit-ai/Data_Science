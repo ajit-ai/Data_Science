{
  "cells": [
    {
      "cell_type": "markdown",
      "metadata": {
        "colab_type": "text",
        "id": "view-in-github"
      },
      "source": [
        "<a href=\"https://colab.research.google.com/github/ajit-ai/DataScience/blob/main/Dogecoin_Price_Prediction_with_Machine_Learning.ipynb\" target=\"_parent\"><img src=\"https://colab.research.google.com/assets/colab-badge.svg\" alt=\"Open In Colab\"/></a>"
      ]
    },
    {
      "cell_type": "code",
      "execution_count": 1,
      "metadata": {
        "id": "K-7t0SXgWkh_"
      },
      "outputs": [],
      "source": [
        "import pandas as pd\n",
        "import numpy as np\n",
        "import matplotlib.pyplot as plt\n",
        "import seaborn as sns\n",
        "from sklearn.ensemble import RandomForestRegressor"
      ]
    },
    {
      "cell_type": "code",
      "execution_count": 3,
      "metadata": {
        "colab": {
          "base_uri": "https://localhost:8080/",
          "height": 206
        },
        "id": "zoONnED6XLhO",
        "outputId": "02b73f95-46ee-498c-9b3f-bd99de4bf563"
      },
      "outputs": [
        {
          "data": {
            "text/html": [
              "<div>\n",
              "<style scoped>\n",
              "    .dataframe tbody tr th:only-of-type {\n",
              "        vertical-align: middle;\n",
              "    }\n",
              "\n",
              "    .dataframe tbody tr th {\n",
              "        vertical-align: top;\n",
              "    }\n",
              "\n",
              "    .dataframe thead th {\n",
              "        text-align: right;\n",
              "    }\n",
              "</style>\n",
              "<table border=\"1\" class=\"dataframe\">\n",
              "  <thead>\n",
              "    <tr style=\"text-align: right;\">\n",
              "      <th></th>\n",
              "      <th>Date</th>\n",
              "      <th>Open</th>\n",
              "      <th>High</th>\n",
              "      <th>Low</th>\n",
              "      <th>Close</th>\n",
              "      <th>Adj Close</th>\n",
              "      <th>Volume</th>\n",
              "    </tr>\n",
              "  </thead>\n",
              "  <tbody>\n",
              "    <tr>\n",
              "      <th>0</th>\n",
              "      <td>2017-11-09</td>\n",
              "      <td>0.001207</td>\n",
              "      <td>0.001415</td>\n",
              "      <td>0.001181</td>\n",
              "      <td>0.001415</td>\n",
              "      <td>0.001415</td>\n",
              "      <td>6259550.0</td>\n",
              "    </tr>\n",
              "    <tr>\n",
              "      <th>1</th>\n",
              "      <td>2017-11-10</td>\n",
              "      <td>0.001421</td>\n",
              "      <td>0.001431</td>\n",
              "      <td>0.001125</td>\n",
              "      <td>0.001163</td>\n",
              "      <td>0.001163</td>\n",
              "      <td>4246520.0</td>\n",
              "    </tr>\n",
              "    <tr>\n",
              "      <th>2</th>\n",
              "      <td>2017-11-11</td>\n",
              "      <td>0.001146</td>\n",
              "      <td>0.001257</td>\n",
              "      <td>0.001141</td>\n",
              "      <td>0.001201</td>\n",
              "      <td>0.001201</td>\n",
              "      <td>2231080.0</td>\n",
              "    </tr>\n",
              "    <tr>\n",
              "      <th>3</th>\n",
              "      <td>2017-11-12</td>\n",
              "      <td>0.001189</td>\n",
              "      <td>0.001210</td>\n",
              "      <td>0.001002</td>\n",
              "      <td>0.001038</td>\n",
              "      <td>0.001038</td>\n",
              "      <td>3288960.0</td>\n",
              "    </tr>\n",
              "    <tr>\n",
              "      <th>4</th>\n",
              "      <td>2017-11-13</td>\n",
              "      <td>0.001046</td>\n",
              "      <td>0.001212</td>\n",
              "      <td>0.001019</td>\n",
              "      <td>0.001211</td>\n",
              "      <td>0.001211</td>\n",
              "      <td>2481270.0</td>\n",
              "    </tr>\n",
              "  </tbody>\n",
              "</table>\n",
              "</div>"
            ],
            "text/plain": [
              "         Date      Open      High       Low     Close  Adj Close     Volume\n",
              "0  2017-11-09  0.001207  0.001415  0.001181  0.001415   0.001415  6259550.0\n",
              "1  2017-11-10  0.001421  0.001431  0.001125  0.001163   0.001163  4246520.0\n",
              "2  2017-11-11  0.001146  0.001257  0.001141  0.001201   0.001201  2231080.0\n",
              "3  2017-11-12  0.001189  0.001210  0.001002  0.001038   0.001038  3288960.0\n",
              "4  2017-11-13  0.001046  0.001212  0.001019  0.001211   0.001211  2481270.0"
            ]
          },
          "execution_count": 3,
          "metadata": {},
          "output_type": "execute_result"
        }
      ],
      "source": [
        "data = pd.read_csv(\"content/DOGE-USD.csv\")\n",
        "data.head()"
      ]
    },
    {
      "cell_type": "code",
      "execution_count": null,
      "metadata": {
        "colab": {
          "base_uri": "https://localhost:8080/",
          "height": 238
        },
        "id": "S6nEYDttXNMH",
        "outputId": "fd797577-1163-456b-959a-87aace579757"
      },
      "outputs": [],
      "source": [
        "data.corr(numeric_only=True)"
      ]
    },
    {
      "cell_type": "code",
      "execution_count": null,
      "metadata": {
        "colab": {
          "base_uri": "https://localhost:8080/"
        },
        "id": "c1Cv9T_YXOlE",
        "outputId": "3256287f-75c8-458a-d193-e6b6c27e7a6d"
      },
      "outputs": [],
      "source": [
        "data['Date'] = pd.to_datetime(data['Date'],\n",
        "\t\t\t\t\t\t\tinfer_datetime_format=True)\n",
        "data.set_index('Date', inplace=True)\n",
        "\n",
        "data.isnull().any()"
      ]
    },
    {
      "cell_type": "code",
      "execution_count": null,
      "metadata": {
        "colab": {
          "base_uri": "https://localhost:8080/",
          "height": 304
        },
        "id": "7w-qZbhRXP3t",
        "outputId": "caf0e3ca-36d8-410f-9119-ad4de59c0073"
      },
      "outputs": [],
      "source": [
        "data.isnull().sum()"
      ]
    },
    {
      "cell_type": "code",
      "execution_count": null,
      "metadata": {
        "id": "K33zcNvaXRBj"
      },
      "outputs": [],
      "source": [
        "data = data.dropna()"
      ]
    },
    {
      "cell_type": "code",
      "execution_count": null,
      "metadata": {
        "colab": {
          "base_uri": "https://localhost:8080/",
          "height": 300
        },
        "id": "Wv7htK41XR-x",
        "outputId": "011a02b2-3035-4833-bba1-fbcbb405fbff"
      },
      "outputs": [],
      "source": [
        "data.describe()"
      ]
    },
    {
      "cell_type": "code",
      "execution_count": null,
      "metadata": {
        "colab": {
          "base_uri": "https://localhost:8080/",
          "height": 512
        },
        "id": "NUabDOA8XTFH",
        "outputId": "61193057-7ac6-47a1-c7cc-a19969d6f990"
      },
      "outputs": [],
      "source": [
        "plt.figure(figsize=(20, 7))\n",
        "x = data.groupby('Date')['Close'].mean()\n",
        "x.plot(linewidth=2.5, color='b')\n",
        "plt.xlabel('Date')\n",
        "plt.ylabel('Volume')\n",
        "plt.title(\"Date vs Close of 2021\")"
      ]
    },
    {
      "cell_type": "code",
      "execution_count": null,
      "metadata": {
        "colab": {
          "base_uri": "https://localhost:8080/",
          "height": 429
        },
        "id": "nOJGiogCXUyz",
        "outputId": "b502bd4d-6197-43d4-9561-4010c02a4214"
      },
      "outputs": [],
      "source": [
        "data[\"gap\"] = (data[\"High\"] - data[\"Low\"]) * data[\"Volume\"]\n",
        "data[\"y\"] = data[\"High\"] / data[\"Volume\"]\n",
        "data[\"z\"] = data[\"Low\"] / data[\"Volume\"]\n",
        "data[\"a\"] = data[\"High\"] / data[\"Low\"]\n",
        "data[\"b\"] = (data[\"High\"] / data[\"Low\"]) * data[\"Volume\"]\n",
        "abs(data.corr(numeric_only=True)[\"Close\"].sort_values(ascending=False))"
      ]
    },
    {
      "cell_type": "code",
      "execution_count": null,
      "metadata": {
        "colab": {
          "base_uri": "https://localhost:8080/",
          "height": 206
        },
        "id": "YG-STLA4XWJf",
        "outputId": "f27b897e-3885-4808-c51c-c9538c4644dc"
      },
      "outputs": [],
      "source": [
        "data = data[[\"Close\", \"Volume\", \"gap\", \"a\", \"b\"]]\n",
        "data.head()"
      ]
    },
    {
      "cell_type": "code",
      "execution_count": null,
      "metadata": {
        "colab": {
          "base_uri": "https://localhost:8080/"
        },
        "id": "35vsRHEOXXSu",
        "outputId": "aed03e25-7a67-49c2-81b0-2230f08bdd1d"
      },
      "outputs": [],
      "source": [
        "df2 = data.tail(30)\n",
        "train = df2[:11]\n",
        "test = df2[-19:]\n",
        "\n",
        "print(train.shape, test.shape)"
      ]
    },
    {
      "cell_type": "code",
      "execution_count": null,
      "metadata": {
        "colab": {
          "base_uri": "https://localhost:8080/"
        },
        "id": "s0d_2WPjXYm7",
        "outputId": "86ce31d4-599a-487e-d22a-9a44e199278a"
      },
      "outputs": [],
      "source": [
        "from statsmodels.tsa.statespace.sarimax import SARIMAX\n",
        "model = SARIMAX(endog=train[\"Close\"], exog=train.drop(\n",
        "\t\"Close\", axis=1), order=(2, 1, 1))\n",
        "results = model.fit()\n",
        "print(results.summary())"
      ]
    },
    {
      "cell_type": "code",
      "execution_count": null,
      "metadata": {
        "colab": {
          "base_uri": "https://localhost:8080/",
          "height": 769
        },
        "id": "HzO3l0S7XZ_E",
        "outputId": "7ae332b7-92c2-4fb3-cb59-792e3d2bf1cf"
      },
      "outputs": [],
      "source": [
        "start = 11\n",
        "end = 29\n",
        "predictions = results.predict(\n",
        "\tstart=start,\n",
        "\tend=end,\n",
        "\texog=test.drop(\"Close\", axis=1))\n",
        "predictions"
      ]
    },
    {
      "cell_type": "code",
      "execution_count": null,
      "metadata": {
        "colab": {
          "base_uri": "https://localhost:8080/",
          "height": 539
        },
        "id": "rpTvpjYGXbLR",
        "outputId": "ecf32cf8-1556-474f-8e99-9d849dae5452"
      },
      "outputs": [],
      "source": [
        "test[\"Close\"].plot(legend=True, figsize=(12, 6))\n",
        "predictions.plot(label='TimeSeries', legend=True)"
      ]
    }
  ],
  "metadata": {
    "colab": {
      "include_colab_link": true,
      "provenance": []
    },
    "kernelspec": {
      "display_name": "Python 3",
      "language": "python",
      "name": "python3"
    },
    "language_info": {
      "codemirror_mode": {
        "name": "ipython",
        "version": 3
      },
      "file_extension": ".py",
      "mimetype": "text/x-python",
      "name": "python",
      "nbconvert_exporter": "python",
      "pygments_lexer": "ipython3",
      "version": "3.12.4"
    }
  },
  "nbformat": 4,
  "nbformat_minor": 0
}
