{
  "nbformat": 4,
  "nbformat_minor": 0,
  "metadata": {
    "colab": {
      "provenance": [],
      "authorship_tag": "ABX9TyON3hC+NoS/IEnc0jjrJWit",
      "include_colab_link": true
    },
    "kernelspec": {
      "name": "python3",
      "display_name": "Python 3"
    },
    "language_info": {
      "name": "python"
    }
  },
  "cells": [
    {
      "cell_type": "markdown",
      "metadata": {
        "id": "view-in-github",
        "colab_type": "text"
      },
      "source": [
        "<a href=\"https://colab.research.google.com/github/ajit-ai/DataScience/blob/main/FastText.ipynb\" target=\"_parent\"><img src=\"https://colab.research.google.com/assets/colab-badge.svg\" alt=\"Open In Colab\"/></a>"
      ]
    },
    {
      "cell_type": "markdown",
      "source": [
        "**FastText** embeddings are a type of word embedding developed by Facebook's AI Research (FAIR) lab. They are based on the idea of subword embeddings, which means that instead of representing words as single entities, FastText breaks them down into smaller components called character n-grams. By doing so, FastText can capture the semantic meaning of morphologically related words, even for out-of-vocabulary words or rare words, making it particularly useful for handling languages with rich morphology or for tasks where out-of-vocabulary words are common. In this article, we will discuss about fastText embeddings' implications in NLP.\n",
        "\n",
        "**What is the need for word embedding in NLP?**\n",
        "Word embeddings are fundamental in NLP for several reasons:\n",
        "\n",
        "Dimensionality Reduction: They represent words in a lower-dimensional continuous vector space, making it computationally efficient to handle extensive vocabularies.\n",
        "Semantic Similarity: Word embeddings encode semantic relationships, allowing algorithms to understand synonyms, antonyms, and related meanings.\n",
        "Contextual Information: By capturing context from surrounding words, embeddings help models understand a word's meaning in context, crucial for tasks like sentiment analysis and named entity recognition.\n",
        "Generalization: They generalize well to unseen words, learning from the distributional properties of words in training data.\n",
        "Feature Representation: Word embeddings serve as feature representations for machine learning models, enabling the application of various techniques to NLP tasks.\n",
        "Efficient Training: Models trained with word embeddings converge faster and often perform better than those using sparse representations.\n",
        "Transfer Learning: Pre-trained embeddings, like Word2Vec or GloVe, allow models to leverage knowledge from large corpora, even with limited task-specific data.\n",
        "Why FastText Embeddings should be used?\n",
        "FastText offers a significant advantage over traditional word embedding techniques like Word2Vec and GloVe, especially for morphologically rich languages. Here's a breakdown of how FastText addresses the limitations of traditional word embeddings and its implications:\n",
        "\n",
        "Utilization of Character-Level Information: FastText takes advantage of character-level information by representing words as the average of embeddings their character n-grams. This approach allows FastText to capture the internal structure of words, including prefixes, suffixes, and roots, which is particularly beneficial for morphologically rich languages where word formations follow specific rules.\n",
        "Extension of Word2Vec Model: FastText is an extension of the Word2Vec model, which means inherits the advantages of Word2Vec, such as capturing semantic relationships between words and producing dense vector representations.\n",
        "Handling Out-of-Vocabulary Words: One significant limitation of traditional word embeddings is their inability to handle out-of-vocabulary (OOV) words—words that are not present in the training data or vocabulary. Since Word2Vec and GloVe provide embeddings only for words seen during training, encountering an OOV word during inference can pose a challenge.\n",
        "FastText's Solution for OOV Words: FastText overcomes the limitation of OOV words by providing embeddings for character n-grams. If an OOV word occurs during inference, FastText can still generate an embedding for it based on its constituent character n-grams. This ability makes FastText more robust and suitable for handling scenarios where encountering new or rare words are common, such as social media data or specialized domains.\n",
        "Improved Vector Representations for Morphologically Rich Languages: By leveraging character-level information and providing embeddings for OOV words, FastText significantly improves vector representations for morphologically rich languages. It captures only the semantic meaning but also the internal structure and syntactic relations of words, leading to more accurate and contextually rich embeddings.\n",
        "Working of FastText Embeddings\n",
        "FastText embeddings revolutionize natural language processing by leveraging character-level information to generate robust word representations. For instance, consider the word \"basketball\" with the character n-grams\n",
        "\n",
        "\"<ba, bas, ask, sket, ket, et, etb, tb, tb, bal, all, ll>\" and \"<basketball>\".\n",
        "FastText computes the embedding for \"basketball\" by averaging the embeddings of these character n-grams along with the word itself. This approach captures both the semantic meaning and the internal structure of the word, making FastText particularly effective for morphologically rich languages.\n",
        "During training, FastText utilizes models like Continuous Bag of Words (CBOW) or Skip-gram, which are neural networks trained to predict context given a target word or vice versa. These models optimize neural network parameters to minimize loss, enabling FastText to learn meaningful word representations from large text corpora.\n",
        "Furthermore, FastText's ability to handle out-of-vocabulary words helps in real-world applications where encountering new or rare words is common. Trained FastText embeddings serve as powerful features for various NLP tasks, facilitating tasks like text classification, sentiment analysis, and machine translation with improved accuracy and efficiency.\n",
        "\n",
        "**Skip-gram Vs CBOW**\n",
        "In the context of FastText embeddings, both Skip-gram and Continuous Bag of Words (CBOW) serve as training methodologies to generate word representations.\n",
        "\n",
        "Considering the example of the word \"basketball,\" let's compare how Skip-gram and CBOW operate:\n",
        "\n",
        "**Skip-gram:**\n",
        "Input: Given the target word \"basketball,\" Skip-gram aims to predict its context words, such as \"play,\" \"court,\" \"team,\" etc.\n",
        "Training Objective: The model learns to predict the surrounding context words based on the target word.\n",
        "Example Usage: Given \"basketball\" as input, Skip-gram predicts its surrounding context words from a given text corpus.\n",
        "Continuous Bag of Words (CBOW):\n",
        "\n",
        "Input: CBOW takes a window of context words, such as \"play,\" \"on,\" \"the,\" \"basketball,\" \"court,\" as input.\n",
        "Training Objective: The model learns to predict the target word \"basketball\" given its surrounding context.\n",
        "Example Usage: With the context words \"play,\" \"on,\" \"the,\" \"court\" provided as input, CBOW predicts the target word \"basketball.\"In essence, Skip-gram and CBOW differ in their input and output configurations:\n",
        "Skip-gram predicts context words given the target word. CBOW predicts the target word given its context.\n",
        "\n",
        "Both methodologies contribute to training FastText embeddings, enabling the model to capture semantic relationships and syntactic structures effectively. The choice between Skip-gram and CBOW depends on the specific requirements of the NLP task and the characteristics of the text corpus being used.\n",
        "\n",
        "**Code Implementation of FastText Embeddings**\n",
        "This code demonstrates training a FastText model using Gensim and using it to find word embeddings and similar words\n",
        ".It begins with importing the necessary libraries and defining a corpus, followed by the training of the FastText model with specified parameters.\n",
        "Word embeddings for a specific word (\"computer\" in this case) are then obtained from the trained model, and the most similar words to \"computer\" are found based on their embeddings.\n",
        "Finally, the word embedding for \"computer\" and the list of most similar words are printed."
      ],
      "metadata": {
        "id": "zVBadQZ0vRsA"
      }
    },
    {
      "cell_type": "code",
      "execution_count": 1,
      "metadata": {
        "colab": {
          "base_uri": "https://localhost:8080/"
        },
        "id": "eOuVOqLQrDSV",
        "outputId": "00ffdf6e-fe07-4838-e425-9452c7431fc5"
      },
      "outputs": [
        {
          "output_type": "stream",
          "name": "stdout",
          "text": [
            "Most similar words to 'computer': [('user', 0.15659411251544952), ('response', 0.12383826076984406), ('eps', 0.030704911798238754), ('system', 0.025573883205652237), ('interface', 0.0058587524108588696), ('survey', -0.03156976401805878), ('minors', -0.0545564740896225), ('human', -0.0668589174747467), ('time', -0.06855931878089905), ('trees', -0.10636083036661148)]\n"
          ]
        }
      ],
      "source": [
        "from gensim.models import FastText\n",
        "from gensim.test.utils import common_texts\n",
        "\n",
        "# Example corpus (replace with your own corpus)\n",
        "corpus = common_texts\n",
        "\n",
        "# Training FastText model\n",
        "model = FastText(sentences=corpus, vector_size=100, window=5, min_count=1, workers=4, sg=1)\n",
        "\n",
        "# Example usage: getting embeddings for a word\n",
        "word_embedding = model.wv['computer']\n",
        "\n",
        "# Most similar words to a given word\n",
        "similar_words = model.wv.most_similar('computer')\n",
        "\n",
        "print(\"Most similar words to 'computer':\", similar_words)"
      ]
    },
    {
      "cell_type": "code",
      "metadata": {
        "colab": {
          "base_uri": "https://localhost:8080/",
          "height": 637
        },
        "id": "67b7c66a",
        "outputId": "a09881a5-7540-45fd-f5d7-ddc7441c7d7b"
      },
      "source": [
        "%pip install gensim"
      ],
      "execution_count": 2,
      "outputs": [
        {
          "output_type": "stream",
          "name": "stdout",
          "text": [
            "Collecting gensim\n",
            "  Downloading gensim-4.3.3-cp311-cp311-manylinux_2_17_x86_64.manylinux2014_x86_64.whl.metadata (8.1 kB)\n",
            "Collecting numpy<2.0,>=1.18.5 (from gensim)\n",
            "  Downloading numpy-1.26.4-cp311-cp311-manylinux_2_17_x86_64.manylinux2014_x86_64.whl.metadata (61 kB)\n",
            "\u001b[2K     \u001b[90m━━━━━━━━━━━━━━━━━━━━━━━━━━━━━━━━━━━━━━━━\u001b[0m \u001b[32m61.0/61.0 kB\u001b[0m \u001b[31m2.5 MB/s\u001b[0m eta \u001b[36m0:00:00\u001b[0m\n",
            "\u001b[?25hCollecting scipy<1.14.0,>=1.7.0 (from gensim)\n",
            "  Downloading scipy-1.13.1-cp311-cp311-manylinux_2_17_x86_64.manylinux2014_x86_64.whl.metadata (60 kB)\n",
            "\u001b[2K     \u001b[90m━━━━━━━━━━━━━━━━━━━━━━━━━━━━━━━━━━━━━━━━\u001b[0m \u001b[32m60.6/60.6 kB\u001b[0m \u001b[31m2.4 MB/s\u001b[0m eta \u001b[36m0:00:00\u001b[0m\n",
            "\u001b[?25hRequirement already satisfied: smart-open>=1.8.1 in /usr/local/lib/python3.11/dist-packages (from gensim) (7.3.0)\n",
            "Requirement already satisfied: wrapt in /usr/local/lib/python3.11/dist-packages (from smart-open>=1.8.1->gensim) (1.17.2)\n",
            "Downloading gensim-4.3.3-cp311-cp311-manylinux_2_17_x86_64.manylinux2014_x86_64.whl (26.7 MB)\n",
            "\u001b[2K   \u001b[90m━━━━━━━━━━━━━━━━━━━━━━━━━━━━━━━━━━━━━━━━\u001b[0m \u001b[32m26.7/26.7 MB\u001b[0m \u001b[31m58.9 MB/s\u001b[0m eta \u001b[36m0:00:00\u001b[0m\n",
            "\u001b[?25hDownloading numpy-1.26.4-cp311-cp311-manylinux_2_17_x86_64.manylinux2014_x86_64.whl (18.3 MB)\n",
            "\u001b[2K   \u001b[90m━━━━━━━━━━━━━━━━━━━━━━━━━━━━━━━━━━━━━━━━\u001b[0m \u001b[32m18.3/18.3 MB\u001b[0m \u001b[31m72.6 MB/s\u001b[0m eta \u001b[36m0:00:00\u001b[0m\n",
            "\u001b[?25hDownloading scipy-1.13.1-cp311-cp311-manylinux_2_17_x86_64.manylinux2014_x86_64.whl (38.6 MB)\n",
            "\u001b[2K   \u001b[90m━━━━━━━━━━━━━━━━━━━━━━━━━━━━━━━━━━━━━━━━\u001b[0m \u001b[32m38.6/38.6 MB\u001b[0m \u001b[31m14.3 MB/s\u001b[0m eta \u001b[36m0:00:00\u001b[0m\n",
            "\u001b[?25hInstalling collected packages: numpy, scipy, gensim\n",
            "  Attempting uninstall: numpy\n",
            "    Found existing installation: numpy 2.0.2\n",
            "    Uninstalling numpy-2.0.2:\n",
            "      Successfully uninstalled numpy-2.0.2\n",
            "  Attempting uninstall: scipy\n",
            "    Found existing installation: scipy 1.15.3\n",
            "    Uninstalling scipy-1.15.3:\n",
            "      Successfully uninstalled scipy-1.15.3\n",
            "\u001b[31mERROR: pip's dependency resolver does not currently take into account all the packages that are installed. This behaviour is the source of the following dependency conflicts.\n",
            "tsfresh 0.21.0 requires scipy>=1.14.0; python_version >= \"3.10\", but you have scipy 1.13.1 which is incompatible.\n",
            "thinc 8.3.6 requires numpy<3.0.0,>=2.0.0, but you have numpy 1.26.4 which is incompatible.\u001b[0m\u001b[31m\n",
            "\u001b[0mSuccessfully installed gensim-4.3.3 numpy-1.26.4 scipy-1.13.1\n"
          ]
        },
        {
          "output_type": "display_data",
          "data": {
            "application/vnd.colab-display-data+json": {
              "pip_warning": {
                "packages": [
                  "numpy"
                ]
              },
              "id": "9d46d502876743469c2db16c1c9c9e0a"
            }
          },
          "metadata": {}
        }
      ]
    },
    {
      "cell_type": "markdown",
      "source": [
        "The output lists words along with their corresponding similarity scores to the word \"computer.\" These scores indicate how semantically close each word is to \"computer\" within the model's learned vector space.\n",
        "\n",
        "FastText VS Word2vec: Which is better?\n",
        "FastText and Word2Vec are both popular tools in natural language processing for generating word embeddings, but they cater to slightly different needs and use cases:\n",
        "\n",
        "Word2Vec, developed by Google, is renowned for its efficiency and effectiveness in capturing semantic and syntactic word relationships. It uses two architectures (CBOW and Skip-gram) to learn representations and excels in general language modeling tasks.\n",
        "\n",
        "FastText, developed by Facebook’s AI Research lab, extends Word2Vec's idea by not only learning embeddings for words but also for n-grams of characters within a word. This approach allows FastText to generate better embeddings for rare words or misspelled words by leveraging subword information.\n",
        "\n",
        "Choosing between FastText and Word2Vec depends on specific requirements: Word2Vec is generally preferred for tasks where there is large well-curated datasets and common vocabulary, whereas FastText shines in handling rare words and morphologically complex languages. For applications which needs robustness to word variations and misspellings, FastText may be the better choice."
      ],
      "metadata": {
        "id": "A4SRA_4fwCLY"
      }
    }
  ]
}